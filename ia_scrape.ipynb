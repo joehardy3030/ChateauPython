{
 "cells": [
  {
   "cell_type": "code",
   "execution_count": 21,
   "metadata": {},
   "outputs": [],
   "source": [
    "import internetarchive\n",
    "from internetarchive import get_item\n",
    "from internetarchive import download\n",
    "from internetarchive import search_items\n",
    "from internetarchive import search\n",
    "from internetarchive import get_session\n",
    "from internetarchive import configure\n",
    "from internetarchive import get_files\n",
    "import requests\n",
    "import json\n",
    "import numpy as np\n",
    "import pandas as pd"
   ]
  },
  {
   "cell_type": "code",
   "execution_count": 2,
   "metadata": {},
   "outputs": [],
   "source": [
    "r = requests.get(\"https://archive.org/services/search/v1/scrape?fields=year&q=collection%3AGratefulDead\")"
   ]
  },
  {
   "cell_type": "code",
   "execution_count": 9,
   "metadata": {},
   "outputs": [
    {
     "output_type": "execute_result",
     "data": {
      "text/plain": "{'Server': 'nginx/1.16.1 (Ubuntu)', 'Date': 'Thu, 02 Jul 2020 03:33:37 GMT', 'Content-Type': 'application/json; charset=UTF-8', 'Transfer-Encoding': 'chunked', 'Connection': 'keep-alive', 'Cache-Control': 'no-cache', 'Access-Control-Allow-Origin': '*', 'Access-Control-Allow-Headers': 'Accept-Encoding,Accept-Language,DNT,Cache-Control,Pragma,Range,Content-Range,Content-Length,X-Requested-With', 'Strict-Transport-Security': 'max-age=15724800'}"
     },
     "metadata": {},
     "execution_count": 9
    }
   ],
   "source": [
    "r.headers"
   ]
  },
  {
   "cell_type": "code",
   "execution_count": 15,
   "metadata": {},
   "outputs": [],
   "source": [
    "r_j = pd.read_json(r._content)"
   ]
  },
  {
   "cell_type": "code",
   "execution_count": 20,
   "metadata": {},
   "outputs": [
    {
     "output_type": "execute_result",
     "data": {
      "text/plain": "0       {'year': '1985', 'identifier': 'gd-delete-me-d...\n1       {'year': '1965', 'identifier': 'gd1965-11-01.s...\n2       {'year': '1966', 'identifier': 'gd1966-01-08.s...\n3       {'year': '1966', 'identifier': 'gd1966-01-08.s...\n4       {'year': '1966', 'identifier': 'gd1966-01-29.s...\n                              ...                        \n4995    {'year': '1984', 'identifier': 'gd1984-04-23.s...\n4996    {'year': '1984', 'identifier': 'gd1984-04-23.s...\n4997    {'year': '1984', 'identifier': 'gd1984-04-23.s...\n4998    {'year': '1984', 'identifier': 'gd1984-04-24.1...\n4999    {'year': '1984', 'identifier': 'gd1984-04-24.1...\nName: items, Length: 5000, dtype: object"
     },
     "metadata": {},
     "execution_count": 20
    }
   ],
   "source": [
    "r_j[\"items\"]"
   ]
  },
  {
   "cell_type": "code",
   "execution_count": 22,
   "metadata": {},
   "outputs": [],
   "source": [
    "df = pd.json_normalize(r_j['items'])\n"
   ]
  },
  {
   "cell_type": "code",
   "execution_count": 23,
   "metadata": {},
   "outputs": [
    {
     "output_type": "execute_result",
     "data": {
      "text/plain": "      year                                         identifier\n0     1985                      gd-delete-me-duplicate-upload\n1     1965           gd1965-11-01.sbd.bershaw.5417.sbeok.shnf\n2     1966                 gd1966-01-08.sbd.bershaw.5410.shnf\n3     1966          gd1966-01-08.sbd.lestatkatt.106505.flac16\n4     1966               gd1966-01-29.sbd.berger.99527.flac16\n...    ...                                                ...\n4995  1984         gd1984-04-23.sbd.miller.32240.sbeok.flac16\n4996  1984  gd1984-04-23.sbd.walker-scotton.miller.105927....\n4997  1984  gd1984-04-23.sbd.walker-scotton.miller.32536.s...\n4998  1984  gd1984-04-24.109423.beyer-senn-daweez.D5scott....\n4999  1984    gd1984-04-24.149586.beyerm201.holbrook.flac1644\n\n[5000 rows x 2 columns]",
      "text/html": "<div>\n<style scoped>\n    .dataframe tbody tr th:only-of-type {\n        vertical-align: middle;\n    }\n\n    .dataframe tbody tr th {\n        vertical-align: top;\n    }\n\n    .dataframe thead th {\n        text-align: right;\n    }\n</style>\n<table border=\"1\" class=\"dataframe\">\n  <thead>\n    <tr style=\"text-align: right;\">\n      <th></th>\n      <th>year</th>\n      <th>identifier</th>\n    </tr>\n  </thead>\n  <tbody>\n    <tr>\n      <th>0</th>\n      <td>1985</td>\n      <td>gd-delete-me-duplicate-upload</td>\n    </tr>\n    <tr>\n      <th>1</th>\n      <td>1965</td>\n      <td>gd1965-11-01.sbd.bershaw.5417.sbeok.shnf</td>\n    </tr>\n    <tr>\n      <th>2</th>\n      <td>1966</td>\n      <td>gd1966-01-08.sbd.bershaw.5410.shnf</td>\n    </tr>\n    <tr>\n      <th>3</th>\n      <td>1966</td>\n      <td>gd1966-01-08.sbd.lestatkatt.106505.flac16</td>\n    </tr>\n    <tr>\n      <th>4</th>\n      <td>1966</td>\n      <td>gd1966-01-29.sbd.berger.99527.flac16</td>\n    </tr>\n    <tr>\n      <th>...</th>\n      <td>...</td>\n      <td>...</td>\n    </tr>\n    <tr>\n      <th>4995</th>\n      <td>1984</td>\n      <td>gd1984-04-23.sbd.miller.32240.sbeok.flac16</td>\n    </tr>\n    <tr>\n      <th>4996</th>\n      <td>1984</td>\n      <td>gd1984-04-23.sbd.walker-scotton.miller.105927....</td>\n    </tr>\n    <tr>\n      <th>4997</th>\n      <td>1984</td>\n      <td>gd1984-04-23.sbd.walker-scotton.miller.32536.s...</td>\n    </tr>\n    <tr>\n      <th>4998</th>\n      <td>1984</td>\n      <td>gd1984-04-24.109423.beyer-senn-daweez.D5scott....</td>\n    </tr>\n    <tr>\n      <th>4999</th>\n      <td>1984</td>\n      <td>gd1984-04-24.149586.beyerm201.holbrook.flac1644</td>\n    </tr>\n  </tbody>\n</table>\n<p>5000 rows × 2 columns</p>\n</div>"
     },
     "metadata": {},
     "execution_count": 23
    }
   ],
   "source": [
    "df"
   ]
  },
  {
   "cell_type": "code",
   "execution_count": null,
   "metadata": {},
   "outputs": [],
   "source": []
  }
 ],
 "metadata": {
  "language_info": {
   "codemirror_mode": {
    "name": "ipython",
    "version": 3
   },
   "file_extension": ".py",
   "mimetype": "text/x-python",
   "name": "python",
   "nbconvert_exporter": "python",
   "pygments_lexer": "ipython3",
   "version": "3.7.7-final"
  },
  "orig_nbformat": 2,
  "kernelspec": {
   "name": "python37764bitarchvenvvenv24e91d2851964b159e7924f1f8e80ea8",
   "display_name": "Python 3.7.7 64-bit ('archVenv': venv)"
  }
 },
 "nbformat": 4,
 "nbformat_minor": 2
}