{
 "cells": [
  {
   "cell_type": "code",
   "execution_count": 18,
   "metadata": {},
   "outputs": [],
   "source": [
    "#import internetarchive as ia\n",
    "import requests\n",
    "import json\n",
    "import numpy as np\n",
    "import pandas as pd\n",
    "from io import StringIO"
   ]
  },
  {
   "cell_type": "code",
   "execution_count": 19,
   "metadata": {},
   "outputs": [],
   "source": [
    "r = requests.get(\"https://archive.org/services/search/v1/scrape?fields=year&q=collection%3AGratefulDead\")"
   ]
  },
  {
   "cell_type": "code",
   "execution_count": 20,
   "metadata": {},
   "outputs": [
    {
     "data": {
      "text/plain": [
       "{'Server': 'nginx/1.24.0', 'Date': 'Mon, 02 Dec 2024 02:16:52 GMT', 'Content-Type': 'application/json; charset=UTF-8', 'Transfer-Encoding': 'chunked', 'Connection': 'keep-alive', 'Cache-Control': 'no-cache', 'Access-Control-Allow-Origin': '*', 'Access-Control-Allow-Headers': 'Accept-Encoding,Accept-Language,Authorization,Cache-Control,Content-Length,Content-Range,DNT,Pragma,Range,X-Requested-With', 'Strict-Transport-Security': 'max-age=15724800', 'Onion-Location': 'https://archivep75mbjunhxc6x4j5mwjmomyxb573v42baldlqu56ruil2oiad.onion/services/search/v1/scrape?fields=year&q=collection%3AGratefulDead', 'Referrer-Policy': 'no-referrer-when-downgrade'}"
      ]
     },
     "execution_count": 20,
     "metadata": {},
     "output_type": "execute_result"
    }
   ],
   "source": [
    "r.headers"
   ]
  },
  {
   "cell_type": "code",
   "execution_count": 21,
   "metadata": {},
   "outputs": [
    {
     "name": "stdout",
     "output_type": "stream",
     "text": [
      "                                               items  count  \\\n",
      "0  {'identifier': 'gd1965-11-01.sbd.bershaw.5417....   5000   \n",
      "1  {'identifier': 'gd1966-01-08.sbd.bershaw.5410....   5000   \n",
      "2  {'identifier': 'gd1966-01-08.sbd.lestatkatt.10...   5000   \n",
      "3  {'identifier': 'gd1966-01-29.sbd.berger.99527....   5000   \n",
      "4  {'identifier': 'gd1966-01-29.sbd.bershaw.5411....   5000   \n",
      "\n",
      "                                              cursor  total  \n",
      "0  W3siaWRlbnRpZmllclNvcnRlciI6ImdkMTk4Mi0xMC0xMC...  17515  \n",
      "1  W3siaWRlbnRpZmllclNvcnRlciI6ImdkMTk4Mi0xMC0xMC...  17515  \n",
      "2  W3siaWRlbnRpZmllclNvcnRlciI6ImdkMTk4Mi0xMC0xMC...  17515  \n",
      "3  W3siaWRlbnRpZmllclNvcnRlciI6ImdkMTk4Mi0xMC0xMC...  17515  \n",
      "4  W3siaWRlbnRpZmllclNvcnRlciI6ImdkMTk4Mi0xMC0xMC...  17515  \n"
     ]
    }
   ],
   "source": [
    "# Convert the response content to a string\n",
    "r_content_str = r.content.decode('utf-8')\n",
    "\n",
    "# Wrap the JSON string in StringIO to simulate a file-like object\n",
    "r_content_io = StringIO(r_content_str)\n",
    "\n",
    "# Now read the JSON content using StringIO\n",
    "r_j = pd.read_json(r_content_io)\n",
    "\n",
    "# Optionally, you can print or inspect the dataframe\n",
    "print(r_j.head())"
   ]
  },
  {
   "cell_type": "code",
   "execution_count": 22,
   "metadata": {},
   "outputs": [
    {
     "data": {
      "text/plain": [
       "0       {'identifier': 'gd1965-11-01.sbd.bershaw.5417....\n",
       "1       {'identifier': 'gd1966-01-08.sbd.bershaw.5410....\n",
       "2       {'identifier': 'gd1966-01-08.sbd.lestatkatt.10...\n",
       "3       {'identifier': 'gd1966-01-29.sbd.berger.99527....\n",
       "4       {'identifier': 'gd1966-01-29.sbd.bershaw.5411....\n",
       "                              ...                        \n",
       "4995    {'identifier': 'gd1982-10-10.nak700.wagner.mil...\n",
       "4996    {'identifier': 'gd1982-10-10.sbd.fixed.miller....\n",
       "4997    {'identifier': 'gd1982-10-10.sbd.fixed.miller....\n",
       "4998    {'identifier': 'gd1982-10-10.sbd.miller.110626...\n",
       "4999    {'identifier': 'gd1982-10-10.sbd.miller.110628...\n",
       "Name: items, Length: 5000, dtype: object"
      ]
     },
     "execution_count": 22,
     "metadata": {},
     "output_type": "execute_result"
    }
   ],
   "source": [
    "r_j[\"items\"]"
   ]
  },
  {
   "cell_type": "code",
   "execution_count": 23,
   "metadata": {},
   "outputs": [],
   "source": [
    "df = pd.json_normalize(r_j['items'])\n"
   ]
  },
  {
   "cell_type": "code",
   "execution_count": 24,
   "metadata": {},
   "outputs": [
    {
     "data": {
      "text/html": [
       "<div>\n",
       "<style scoped>\n",
       "    .dataframe tbody tr th:only-of-type {\n",
       "        vertical-align: middle;\n",
       "    }\n",
       "\n",
       "    .dataframe tbody tr th {\n",
       "        vertical-align: top;\n",
       "    }\n",
       "\n",
       "    .dataframe thead th {\n",
       "        text-align: right;\n",
       "    }\n",
       "</style>\n",
       "<table border=\"1\" class=\"dataframe\">\n",
       "  <thead>\n",
       "    <tr style=\"text-align: right;\">\n",
       "      <th></th>\n",
       "      <th>identifier</th>\n",
       "      <th>year</th>\n",
       "    </tr>\n",
       "  </thead>\n",
       "  <tbody>\n",
       "    <tr>\n",
       "      <th>0</th>\n",
       "      <td>gd1965-11-01.sbd.bershaw.5417.sbeok.shnf</td>\n",
       "      <td>1965</td>\n",
       "    </tr>\n",
       "    <tr>\n",
       "      <th>1</th>\n",
       "      <td>gd1966-01-08.sbd.bershaw.5410.shnf</td>\n",
       "      <td>1966</td>\n",
       "    </tr>\n",
       "    <tr>\n",
       "      <th>2</th>\n",
       "      <td>gd1966-01-08.sbd.lestatkatt.106505.flac16</td>\n",
       "      <td>1966</td>\n",
       "    </tr>\n",
       "    <tr>\n",
       "      <th>3</th>\n",
       "      <td>gd1966-01-29.sbd.berger.99527.flac16</td>\n",
       "      <td>1966</td>\n",
       "    </tr>\n",
       "    <tr>\n",
       "      <th>4</th>\n",
       "      <td>gd1966-01-29.sbd.bershaw.5411.shnf</td>\n",
       "      <td>1966</td>\n",
       "    </tr>\n",
       "    <tr>\n",
       "      <th>...</th>\n",
       "      <td>...</td>\n",
       "      <td>...</td>\n",
       "    </tr>\n",
       "    <tr>\n",
       "      <th>4995</th>\n",
       "      <td>gd1982-10-10.nak700.wagner.miller.109823.flac24</td>\n",
       "      <td>1982</td>\n",
       "    </tr>\n",
       "    <tr>\n",
       "      <th>4996</th>\n",
       "      <td>gd1982-10-10.sbd.fixed.miller.110783.flac24</td>\n",
       "      <td>1982</td>\n",
       "    </tr>\n",
       "    <tr>\n",
       "      <th>4997</th>\n",
       "      <td>gd1982-10-10.sbd.fixed.miller.110784.flac16</td>\n",
       "      <td>1982</td>\n",
       "    </tr>\n",
       "    <tr>\n",
       "      <th>4998</th>\n",
       "      <td>gd1982-10-10.sbd.miller.110626.flac16</td>\n",
       "      <td>1982</td>\n",
       "    </tr>\n",
       "    <tr>\n",
       "      <th>4999</th>\n",
       "      <td>gd1982-10-10.sbd.miller.110628.flac24</td>\n",
       "      <td>1982</td>\n",
       "    </tr>\n",
       "  </tbody>\n",
       "</table>\n",
       "<p>5000 rows × 2 columns</p>\n",
       "</div>"
      ],
      "text/plain": [
       "                                           identifier  year\n",
       "0            gd1965-11-01.sbd.bershaw.5417.sbeok.shnf  1965\n",
       "1                  gd1966-01-08.sbd.bershaw.5410.shnf  1966\n",
       "2           gd1966-01-08.sbd.lestatkatt.106505.flac16  1966\n",
       "3                gd1966-01-29.sbd.berger.99527.flac16  1966\n",
       "4                  gd1966-01-29.sbd.bershaw.5411.shnf  1966\n",
       "...                                               ...   ...\n",
       "4995  gd1982-10-10.nak700.wagner.miller.109823.flac24  1982\n",
       "4996      gd1982-10-10.sbd.fixed.miller.110783.flac24  1982\n",
       "4997      gd1982-10-10.sbd.fixed.miller.110784.flac16  1982\n",
       "4998            gd1982-10-10.sbd.miller.110626.flac16  1982\n",
       "4999            gd1982-10-10.sbd.miller.110628.flac24  1982\n",
       "\n",
       "[5000 rows x 2 columns]"
      ]
     },
     "execution_count": 24,
     "metadata": {},
     "output_type": "execute_result"
    }
   ],
   "source": [
    "df"
   ]
  },
  {
   "cell_type": "code",
   "execution_count": 25,
   "metadata": {},
   "outputs": [
    {
     "data": {
      "text/plain": [
       "'W3siaWRlbnRpZmllclNvcnRlciI6ImdkMTk4Mi0xMC0xMC5zYmQubWlsbGVyLjExMDYyOC5mbGFjMjQifV0='"
      ]
     },
     "execution_count": 25,
     "metadata": {},
     "output_type": "execute_result"
    }
   ],
   "source": [
    "r_j['cursor'][0]"
   ]
  },
  {
   "cell_type": "code",
   "execution_count": null,
   "metadata": {},
   "outputs": [],
   "source": []
  }
 ],
 "metadata": {
  "kernelspec": {
   "display_name": "Python 3 (ipykernel)",
   "language": "python",
   "name": "python3"
  },
  "language_info": {
   "codemirror_mode": {
    "name": "ipython",
    "version": 3
   },
   "file_extension": ".py",
   "mimetype": "text/x-python",
   "name": "python",
   "nbconvert_exporter": "python",
   "pygments_lexer": "ipython3",
   "version": "3.10.15"
  }
 },
 "nbformat": 4,
 "nbformat_minor": 4
}
