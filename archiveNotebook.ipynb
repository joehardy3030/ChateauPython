{
 "cells": [
  {
   "cell_type": "code",
   "execution_count": 1,
   "metadata": {},
   "outputs": [],
   "source": [
    "import internetarchive\n",
    "from internetarchive import get_item\n",
    "from internetarchive import download\n",
    "from internetarchive import search_items\n",
    "from internetarchive import search\n",
    "from internetarchive import get_session\n",
    "from internetarchive import configure\n",
    "from internetarchive import get_files\n",
    "import numpy as np\n",
    "import pandas as pd\n"
   ]
  },
  {
   "cell_type": "code",
   "execution_count": 2,
   "metadata": {},
   "outputs": [
    {
     "output_type": "execute_result",
     "data": {
      "text/plain": [
       "'/Users/joe/.ia'"
      ]
     },
     "metadata": {},
     "execution_count": 2
    }
   ],
   "source": [
    "configure(username='joehardy_1974@yahoo.com', password='Deltron$3030')"
   ]
  },
  {
   "cell_type": "code",
   "execution_count": 3,
   "metadata": {},
   "outputs": [],
   "source": [
    "s = get_session()\n",
    "s.mount_http_adapter()\n",
    "search_results = s.search_items('nasa')"
   ]
  },
  {
   "cell_type": "code",
   "execution_count": 4,
   "metadata": {
    "tags": []
   },
   "outputs": [
    {
     "output_type": "stream",
     "name": "stdout",
     "text": [
      "LOW PByWs2wfyAXs3EXt:RBZUZAbUzmU47EE3\n"
     ]
    },
    {
     "output_type": "execute_result",
     "data": {
      "text/plain": [
       "True"
      ]
     },
     "metadata": {},
     "execution_count": 4
    }
   ],
   "source": [
    "item = get_item('GratefulDead')\n",
    "item.exists"
   ]
  },
  {
   "cell_type": "code",
   "execution_count": 5,
   "metadata": {},
   "outputs": [
    {
     "output_type": "execute_result",
     "data": {
      "text/plain": [
       "[]"
      ]
     },
     "metadata": {},
     "execution_count": 5
    }
   ],
   "source": [
    "item.reviews"
   ]
  },
  {
   "cell_type": "code",
   "execution_count": 7,
   "metadata": {},
   "outputs": [],
   "source": [
    "search_results = s.search_items('GratefulDead')"
   ]
  },
  {
   "cell_type": "code",
   "execution_count": 8,
   "metadata": {
    "tags": []
   },
   "outputs": [],
   "source": [
    "#search_results.auth.__dict__['access_key']"
   ]
  },
  {
   "cell_type": "code",
   "execution_count": 9,
   "metadata": {},
   "outputs": [],
   "source": [
    "#auth_str = 'LOW {a}:{s}'.format(a=search_results.auth.__dict__['access_key'], #s=search_results.auth.__dict__['secret_key'])\n"
   ]
  },
  {
   "cell_type": "code",
   "execution_count": 10,
   "metadata": {},
   "outputs": [],
   "source": [
    "#auth_str"
   ]
  },
  {
   "cell_type": "code",
   "execution_count": 11,
   "metadata": {},
   "outputs": [],
   "source": [
    "# https://archive.org/services/search/v1/scrape?q=collection%3AGratefulDead"
   ]
  },
  {
   "cell_type": "code",
   "execution_count": 12,
   "metadata": {},
   "outputs": [],
   "source": [
    "#search_results.iter_as_items"
   ]
  },
  {
   "cell_type": "code",
   "execution_count": 13,
   "metadata": {
    "tags": []
   },
   "outputs": [],
   "source": [
    "#df_search = pd.DataFrame(search_results)\n",
    "#for sr in search_results:\n",
    "#    print(sr)\n",
    "#    break"
   ]
  },
  {
   "cell_type": "code",
   "execution_count": 14,
   "metadata": {
    "tags": []
   },
   "outputs": [],
   "source": [
    "#meta = []\n",
    "#year = []\n",
    "#for i in df_search['identifier']:\n",
    "#    item = get_item(i)\n",
    "#    meta.append(item)\n"
   ]
  },
  {
   "cell_type": "code",
   "execution_count": 15,
   "metadata": {},
   "outputs": [],
   "source": [
    "#df_meta = pd.DataFrame(meta)"
   ]
  },
  {
   "cell_type": "code",
   "execution_count": 16,
   "metadata": {},
   "outputs": [],
   "source": [
    "#df_meta.to_csv(\"./data/meta_data.csv\")"
   ]
  },
  {
   "cell_type": "code",
   "execution_count": 17,
   "metadata": {},
   "outputs": [],
   "source": [
    "#df_search.to_csv(\"./data/GD_search_results.csv\")"
   ]
  },
  {
   "cell_type": "code",
   "execution_count": 18,
   "metadata": {},
   "outputs": [],
   "source": [
    "#{'identifier': 'gd93-03-10.sbd.ladner.2024.sbeok.shnf'}"
   ]
  },
  {
   "cell_type": "code",
   "execution_count": 19,
   "metadata": {
    "tags": []
   },
   "outputs": [],
   "source": [
    "# d = download('gd1990-03-21.aud.gidley.91767.sbeok.flac16') ## works w/o a session for aud files, can download a torrent"
   ]
  },
  {
   "cell_type": "code",
   "execution_count": 20,
   "metadata": {
    "tags": []
   },
   "outputs": [],
   "source": [
    "#item = get_item('gd93-03-10.sbd.ladner.2024.sbeok.shnf')"
   ]
  },
  {
   "cell_type": "code",
   "execution_count": 6,
   "metadata": {},
   "outputs": [],
   "source": [
    "id = 'gd1977-05-09.mtx.seamons.98168.flac16'"
   ]
  },
  {
   "cell_type": "code",
   "execution_count": 7,
   "metadata": {
    "tags": []
   },
   "outputs": [
    {
     "output_type": "stream",
     "name": "stdout",
     "text": [
      "LOW PByWs2wfyAXs3EXt:RBZUZAbUzmU47EE3\n"
     ]
    }
   ],
   "source": [
    "item = get_item(id)"
   ]
  },
  {
   "cell_type": "code",
   "execution_count": 8,
   "metadata": {},
   "outputs": [
    {
     "output_type": "execute_result",
     "data": {
      "text/plain": [
       "[{'reviewbody': \"This version sounds pretty damn good.  I prefer a stronger soundboard presence in the matrix blends...A vintage '77 show.  Check it out...great first set, Franklin's, Cassidy, Big River, T-Jed all very well done, second set ain't the most cooking of the week, but does the job enough to satisfy...rare '77 comes a time...\",\n",
       "  'reviewtitle': '05-09-1977',\n",
       "  'reviewer': 'stratocaster',\n",
       "  'reviewdate': '2009-05-10 03:02:40',\n",
       "  'createdate': '2009-05-10 03:02:40',\n",
       "  'stars': '5'},\n",
       " {'reviewbody': 'This is a wonderful sparkling show, much better than Cornell, much more consistently \\'on\\' and crackling with energy. \\n\\nBut I guess, once Cornell got talked about, it snowballed and no one wanted to be caught saying that they \\'couldn\\'t see the emporer\\'s new clothes\\'. It\\'s sad that Cornell has become the representative to the GD; a show that keeps non-initiates scratching their heads saying \"[other than the \\'morning dew\\'], this sounds really sloppy and uninspired\".',\n",
       "  'reviewtitle': 'far better than cornell',\n",
       "  'reviewer': 'sbrew',\n",
       "  'reviewdate': '2009-05-11 15:40:38',\n",
       "  'createdate': '2009-05-11 15:40:38',\n",
       "  'stars': '5'},\n",
       " {'reviewbody': \"But you are right about the fact other HUGE GEMS also exist, this being one of them. I think the people in the know realize this, and I am happy it is Barton Hall, it is a wonderful show fully inspired. This whole year is filled with creativity and opening the door to newer heights. The birth of Terrapin, Estimated, Fire, Slip, Franklin's, etc.. are all around this time and their most difficult songs to play. This year they tightened it up quickly and with passion. almost all the shows display this one way or the other. Its as if any reservations they had of being something other then a musician has left their minds for good. They embrace their destiny and deliver. No need to squabble over which is better, that's in the eye of the beholder, or ear for that matter. Peace to everyone, dose me again.\",\n",
       "  'reviewtitle': 'I disagree about Cornell...',\n",
       "  'reviewer': ')€-\\\\) H€-\\\\)',\n",
       "  'reviewdate': '2009-08-20 05:51:03',\n",
       "  'createdate': '2009-08-20 05:51:03',\n",
       "  'stars': '5'},\n",
       " {'reviewbody': \"5-8-77's  first set is kinda ho hum standard with a little bit of jam in Be women, the second set while vastly overtalked may not be as overrated as I once thought.  The post drums is phenomenal!!\\n\\n5-9-77 has truly my favorite first set of 77\\n\\ngoing to revisit all of the month sequentially this may\",\n",
       "  'reviewtitle': 'Best first set during may 77',\n",
       "  'reviewer': 'utopian',\n",
       "  'reviewdate': '2010-02-20 03:07:44',\n",
       "  'createdate': '2010-02-20 03:07:44',\n",
       "  'stars': '5'},\n",
       " {'reviewbody': \"This is what a great 1st set in 1977 sounds like, tremendous energy and great playing throughout. I do prefer 5-8-77's 2nd set only slightly over this 2nd set. (Scarlet>Fire over Bertha Good Lovin any ol' day) But this is the better 1st set.(even though Sunrise still stinks) The two shows draw so much comparison. The 1st set here is fantastic, this show really has all you could ask for, The Help.Slip.Franlins opener is flat out great. 2nd set Ship of Folls and Comes A Time has Jerry at his all-time greatest, the Uncle Johns is near perfect. I lived in Buffalo, at the time I was in 8th grade all I cared about was crappy music, though I can tell you my parents never would have allowed me to see this show even if I had a clue at the time. Great sound recording too, top line quality.\",\n",
       "  'reviewtitle': 'Great',\n",
       "  'reviewer': 'Jinglebell Rainbow',\n",
       "  'reviewdate': '2010-06-21 20:51:29',\n",
       "  'createdate': '2010-06-21 20:51:29',\n",
       "  'stars': '5'},\n",
       " {'reviewbody': \"Silly Jinglebell. Sunrise is gorgeous. Best ever? Yeah yeah, I know, not much of a contest. But still, shelve the Donna prejudice for a few minutes and turn on the ears :-) I was lucky enough (historically speaking) to see Donna three times, and the performance was ... perplexing. That's not news. But she could be a gorgeous singer, with a sweet voice and that loose Southern swing, and this night was one of those times. Not much to add on the rest; spectacular show in a historic month, of course.\",\n",
       "  'reviewtitle': 'Yes, Even Donna Had a Great Night',\n",
       "  'reviewer': 'AltheaRose',\n",
       "  'reviewdate': '2011-04-22 04:14:58',\n",
       "  'createdate': '2011-04-22 04:14:58',\n",
       "  'stars': '5'},\n",
       " {'reviewbody': \"I'm starting to really, really dig matrix mixes. This one is a really good, really warm mix of a really great show... 'nuff said!\",\n",
       "  'reviewtitle': 'Wow... Just Wow!!!',\n",
       "  'reviewer': 'aybesea69',\n",
       "  'reviewdate': '2011-10-30 05:15:23',\n",
       "  'createdate': '2011-10-30 05:15:23',\n",
       "  'stars': '5'},\n",
       " {'reviewbody': 'Wow. Listening to this made my day. Thank you!!!',\n",
       "  'reviewtitle': 'Spirited show -- GREAT recording/matrix!',\n",
       "  'reviewer': 'wonderpiece',\n",
       "  'reviewdate': '2011-10-31 03:03:39',\n",
       "  'createdate': '2011-10-31 03:03:39',\n",
       "  'stars': '5'},\n",
       " {'reviewbody': \"i can't believe only 1 person mentioned Comes A Time if theres a better one out there haven't heard it yet this show is just as good as the beloved Cornell show as are a couple at end of May especially Baltimore my personel all-time favorite as is Boston before Cornell this show smoked i hate to give it a 5 just cuz it's May 77 but i just can't rationalize anything lower the whole show was sweet yes even the Sunrise and i'm not a big Donna fan good recording and show\",\n",
       "  'reviewtitle': 'nice sounding matrix',\n",
       "  'reviewer': 'darkstarcrashes_79',\n",
       "  'reviewdate': '2011-11-07 23:28:17',\n",
       "  'createdate': '2011-11-07 23:28:17',\n",
       "  'stars': '5'},\n",
       " {'reviewbody': \"At the very least, give me a comma...but a period would be extra special. Just kiddin' man.....\",\n",
       "  'reviewtitle': 'Dude, use some punctuation.',\n",
       "  'reviewer': 'Garnet Gladiolas',\n",
       "  'reviewdate': '2011-11-08 01:25:25',\n",
       "  'createdate': '2011-11-08 01:25:25',\n",
       "  'stars': '5'},\n",
       " {'reviewbody': \"Whether you think 5/8 or 5/9 is the better show (I personally prefer the 25th!), there's no arguing that May '77 was one of the Dead's major peaks. Without comparing this to other shows, it stands on it's own merits as a rock-solid performance from start to finish. The Comes a Time is sublime and a definite standout.\\nWhat excited me most was hearing this show again as a beautifully mixed matrix... one of the better ones I've heard on the archive,\",\n",
       "  'reviewtitle': 'Gorgeous sounding matrix',\n",
       "  'reviewer': 'Pangolin22',\n",
       "  'reviewdate': '2011-12-26 17:28:31',\n",
       "  'createdate': '2011-12-26 17:28:31',\n",
       "  'stars': '5'},\n",
       " {'reviewbody': 'Well, what more is there to say than Happy 35th anniversary to one hell of a band, performing one hell of a show! The music never stops!',\n",
       "  'reviewtitle': '5/9/77',\n",
       "  'reviewer': 'tjvhaiko',\n",
       "  'reviewdate': '2012-05-09 05:54:32',\n",
       "  'createdate': '2012-05-09 05:54:32',\n",
       "  'stars': '5'},\n",
       " {'reviewbody': 'Show and matrix!',\n",
       "  'reviewtitle': 'Great',\n",
       "  'reviewer': 'barreramusic',\n",
       "  'reviewdate': '2012-06-24 15:52:36',\n",
       "  'createdate': '2012-06-24 15:52:36',\n",
       "  'stars': '5'},\n",
       " {'reviewbody': 'The Dead always rocked the hell out of the Queen City. I grew up across the water in Toronto, but unfortunately was born too late - a \\'89 baby, the Dead were before my time. Still, my first \"show\", if seeing the more-or-less tribute band currently known as the Dead, was in Buffalo in \\'09 at HSBC Arena. Sound sucked, crowd sucked, the playing passable. Made me wish I had been born early enough to be in Buffalo on a very different spring evening some 32 years prior.\\n\\nThe Help!->Slipknot->FT is incredible. Arguably the most enjoyable three-song progression played in May \\'77 - doesn\\'t get much better than that.',\n",
       "  'reviewtitle': 'What is it about Buffalo?',\n",
       "  'reviewer': 'unlimiteddevotion',\n",
       "  'reviewdate': '2012-11-21 07:19:07',\n",
       "  'createdate': '2012-11-21 07:19:07',\n",
       "  'stars': '5'},\n",
       " {'reviewbody': 'choice franklins, they r all dialed in ......',\n",
       "  'reviewtitle': '13min franklins ,tops',\n",
       "  'reviewer': 'ms42466',\n",
       "  'reviewdate': '2013-03-04 04:29:48',\n",
       "  'createdate': '2013-03-04 04:29:48',\n",
       "  'stars': '5'},\n",
       " {'reviewbody': 'Another terrific non-Barton Hall show that shows you how overrated the Barton Hall show is.',\n",
       "  'reviewtitle': '-',\n",
       "  'reviewer': 'njpg',\n",
       "  'reviewdate': '2014-05-27 16:46:11',\n",
       "  'createdate': '2014-05-27 16:46:11',\n",
       "  'stars': '5'},\n",
       " {'reviewbody': 'Great sounding matrix Hunter, this one made my morning.',\n",
       "  'reviewtitle': 'Great sound',\n",
       "  'reviewer': 'linux_terror',\n",
       "  'reviewdate': '2014-09-15 16:47:01',\n",
       "  'createdate': '2014-09-15 16:47:01',\n",
       "  'stars': '5'},\n",
       " {'reviewbody': 'I know it\\'s \"just like your opinion, man\", but I really disagree with some of the reviewers who say that the Barton show is sloppy or overrated.  I\\'m not saying it\\'s the best show, but the Brown Eyed and Jackstraw are the cleanest versions I can find (this Brown Eyed is also very good). Also Barton possibly the definitive Scarlet>Fire. Barton was really my first taste at live Dead so I guess I\\'m also a little biased. :)\\n\\nThis show is also really great, as I prefer the higher energy shows. Mexicali is nice and groovy and a nice Big River.',\n",
       "  'reviewtitle': 'Lots of Barton nay-sayers',\n",
       "  'reviewer': 'mountainmusicdt',\n",
       "  'reviewdate': '2014-11-04 18:08:33',\n",
       "  'createdate': '2014-11-04 18:08:33',\n",
       "  'stars': '4'},\n",
       " {'reviewbody': 'thanks, Hunter !\\n\\n(~);-}',\n",
       "  'reviewtitle': 'thanks, Hunter !',\n",
       "  'reviewer': 'deadheadnedwhite',\n",
       "  'reviewdate': '2016-05-10 06:51:11',\n",
       "  'createdate': '2016-05-10 06:51:11',\n",
       "  'stars': '4'},\n",
       " {'reviewbody': 'complete the trifecta of boston > cornell > buffalo with the final 5 star show of the three.',\n",
       "  'reviewtitle': 'trifecta',\n",
       "  'reviewer': 'Tsiftis',\n",
       "  'reviewdate': '2016-06-21 18:01:52',\n",
       "  'createdate': '2016-06-21 18:01:52',\n",
       "  'stars': '5'},\n",
       " {'reviewbody': 'Cornell was the night before but I think this one is the real Gem! ',\n",
       "  'reviewtitle': 'the real Hidden Gem',\n",
       "  'reviewer': 'fatman420247',\n",
       "  'reviewer_itemname': '@fatman420247',\n",
       "  'reviewdate': '2018-12-03 01:38:59',\n",
       "  'createdate': '2018-12-03 01:38:59',\n",
       "  'stars': '5'}]"
      ]
     },
     "metadata": {},
     "execution_count": 8
    }
   ],
   "source": [
    "item.reviews"
   ]
  },
  {
   "cell_type": "code",
   "execution_count": 46,
   "metadata": {},
   "outputs": [
    {
     "output_type": "execute_result",
     "data": {
      "text/plain": [
       "'https://archive.org/manage/gd1977-05-09.mtx.seamons.98168.flac16'"
      ]
     },
     "metadata": {},
     "execution_count": 46
    }
   ],
   "source": [
    "item.urls.manage"
   ]
  },
  {
   "cell_type": "code",
   "execution_count": 23,
   "metadata": {
    "tags": []
   },
   "outputs": [
    {
     "output_type": "stream",
     "name": "stdout",
     "text": [
      "LOW PByWs2wfyAXs3EXt:RBZUZAbUzmU47EE3\n"
     ]
    }
   ],
   "source": [
    "s_item = s.get_item(id)"
   ]
  },
  {
   "cell_type": "code",
   "execution_count": 24,
   "metadata": {},
   "outputs": [
    {
     "output_type": "execute_result",
     "data": {
      "text/plain": [
       "'/31/items/gd1977-05-09.mtx.seamons.98168.flac16'"
      ]
     },
     "metadata": {},
     "execution_count": 24
    }
   ],
   "source": [
    "s_item.dir"
   ]
  },
  {
   "cell_type": "code",
   "execution_count": 25,
   "metadata": {},
   "outputs": [
    {
     "output_type": "execute_result",
     "data": {
      "text/plain": [
       "{'identifier': 'gd1977-05-09.mtx.seamons.98168.flac16',\n",
       " 'title': 'Grateful Dead Live at Buffalo Memorial Auditorium on 1977-05-09',\n",
       " 'creator': 'Grateful Dead',\n",
       " 'mediatype': 'etree',\n",
       " 'collection': ['GratefulDead', 'etree', 'stream_only'],\n",
       " 'type': 'sound',\n",
       " 'description': \"Set I\\n-----\\nd1t01 - Help On The Way ->\\nd1t02 - Slipknot! ->\\nd1t03 - Franklin's Tower\\nd1t04 - Cassidy\\nd1t05 - Brown Eyed Women\\nd1t06 - Mexicali Blues\\nd1t07 - Tennessee Jed\\nd1t08 - Big River\\nd1t09 - Peggy-O\\nd2t01 - Sunrise\\nd2t02 - The Music Never Stopped\\n\\nSet II\\n-----\\nd2t03 - Bertha ->\\nd2t04 - Good Lovin'\\nd2t05 - Ship Of Fools\\nd3t01 - Estimated Prophet ->\\nd3t02 - The Other One ->\\nd3t03 - Drums ->\\nd3t04 - Not Fade Away ->\\nd3t05 - Comes A Time ->\\nd3t06 - Sugar Magnolia\\n\\nEncore\\n------\\nd3t07 - Uncle John's Band\",\n",
       " 'date': '1977-05-09',\n",
       " 'year': '1977',\n",
       " 'subject': 'Soundboard;Matrix;Hunter Seamons',\n",
       " 'publicdate': '2009-03-30 14:51:21',\n",
       " 'addeddate': '2009-03-30 02:36:31',\n",
       " 'uploader': 'mvernon54@yahoo.com',\n",
       " 'venue': 'Buffalo Memorial Auditorium',\n",
       " 'coverage': 'Buffalo, NY',\n",
       " 'source': 'Matrix by Hunter Seamons',\n",
       " 'md5s': 'bdfab86de1b01c7d08035b10178c3bda *gd77-05-09d1t01.flac\\r\\na273a87bba9461fce7e3b7845f0cc68f *gd77-05-09d1t02.flac\\r\\neaff53a35500aafa9f03726ca85ef9da *gd77-05-09d1t03.flac\\r\\n706fc62cd03f1ba70740733d07542eb6 *gd77-05-09d1t04.flac\\r\\n97a9ac8e20598a5ba5584743a6b674a3 *gd77-05-09d1t05.flac\\r\\nbd386aa089232861eb0dedc0b39b30f2 *gd77-05-09d1t06.flac\\r\\n43e50ace21e0b6aabae8bdb13825c5d4 *gd77-05-09d1t07.flac\\r\\n456105d14459538d24327d35880a6822 *gd77-05-09d1t08.flac\\r\\nb00d9743ec62c737e72dd31cf373049c *gd77-05-09d1t09.flac\\r\\n7a1d23dfc9e6690a1f75464b446dba1d *gd77-05-09d2t01.flac\\r\\n07f7a76315e277209ec444b7585c2261 *gd77-05-09d2t02.flac\\r\\n4773c1e30aa7da6e37a2280e746982d3 *gd77-05-09d2t03.flac\\r\\n96801d5f1a9d79a5409f2cdfbff72b59 *gd77-05-09d2t04.flac\\r\\nc239ed27ee0afa24b005d76b13fcd67c *gd77-05-09d2t05.flac\\r\\n0856df726b7d9e7b1ce69c523eae92c6 *gd77-05-09d3t01.flac\\r\\n13626daa406273998b0fa5fab40ae333 *gd77-05-09d3t02.flac\\r\\ncea710bfcc6fe897ff8fd6f509ea87aa *gd77-05-09d3t03.flac\\r\\n90c5c22ff80817219ab8398cd9629a55 *gd77-05-09d3t04.flac\\r\\n9ecfd8d72d8bf009b935386d3c9e7e3f *gd77-05-09d3t05.flac\\r\\nc0b160fd42a134474bee7423791d5178 *gd77-05-09d3t06.flac\\r\\n6a40d40325c802281bb869ffa801d840 *gd77-05-09d3t07.flac',\n",
       " 'notes': '1) The matrix begins at 1:51 of Help, preceded by a twenty-second AUD fade-in.\\n\\n2) Two \"click\" sounds in Help, and one in Sugar Mags, in the SBD source, were removed using Soundtrack Pro. \\n\\n3) Minor shifts in levels/mix in the SBD at various points.',\n",
       " 'updatedate': '2009-03-30 14:53:57',\n",
       " 'updater': 'Matthew Vernon',\n",
       " 'backup_location': 'ia903602_33'}"
      ]
     },
     "metadata": {},
     "execution_count": 25
    }
   ],
   "source": [
    "s_item.metadata"
   ]
  },
  {
   "cell_type": "code",
   "execution_count": 26,
   "metadata": {
    "tags": []
   },
   "outputs": [],
   "source": [
    "s = s_item.get_files()"
   ]
  },
  {
   "cell_type": "code",
   "execution_count": 27,
   "metadata": {},
   "outputs": [],
   "source": [
    "gf = item.get_files()"
   ]
  },
  {
   "cell_type": "code",
   "execution_count": 28,
   "metadata": {
    "tags": []
   },
   "outputs": [],
   "source": [
    "#f = get_files('gd1990-03-30.sbd.barbella.8366.sbeok.shnf')"
   ]
  },
  {
   "cell_type": "code",
   "execution_count": 29,
   "metadata": {
    "tags": []
   },
   "outputs": [],
   "source": [
    "#print(f)"
   ]
  },
  {
   "cell_type": "code",
   "execution_count": 30,
   "metadata": {
    "tags": []
   },
   "outputs": [],
   "source": [
    "#glob_pattern='*mp3'\n",
    "fnames = [f.name for f in s_item.get_files(id, glob_pattern='*mp3')]"
   ]
  },
  {
   "cell_type": "code",
   "execution_count": null,
   "metadata": {},
   "outputs": [],
   "source": []
  },
  {
   "cell_type": "code",
   "execution_count": 31,
   "metadata": {
    "tags": []
   },
   "outputs": [
    {
     "output_type": "stream",
     "name": "stdout",
     "text": [
      "['gd77-05-09d1t01.mp3', 'gd77-05-09d1t02.mp3', 'gd77-05-09d1t03.mp3', 'gd77-05-09d1t04.mp3', 'gd77-05-09d1t05.mp3', 'gd77-05-09d1t06.mp3', 'gd77-05-09d1t07.mp3', 'gd77-05-09d1t08.mp3', 'gd77-05-09d1t09.mp3', 'gd77-05-09d2t01.mp3', 'gd77-05-09d2t02.mp3', 'gd77-05-09d2t03.mp3', 'gd77-05-09d2t04.mp3', 'gd77-05-09d2t05.mp3', 'gd77-05-09d3t01.mp3', 'gd77-05-09d3t02.mp3', 'gd77-05-09d3t03.mp3', 'gd77-05-09d3t04.mp3', 'gd77-05-09d3t05.mp3', 'gd77-05-09d3t06.mp3', 'gd77-05-09d3t07.mp3']\n"
     ]
    }
   ],
   "source": [
    "print(fnames)"
   ]
  },
  {
   "cell_type": "code",
   "execution_count": 32,
   "metadata": {
    "tags": []
   },
   "outputs": [
    {
     "output_type": "stream",
     "name": "stdout",
     "text": [
      "gd1977-05-09.mtx.seamons.98168.flac16: LOW PByWs2wfyAXs3EXt:RBZUZAbUzmU47EE3\n",
      "d - success\n",
      "gd1977-05-09.mtx.seamons.98168.flac16: LOW PByWs2wfyAXs3EXt:RBZUZAbUzmU47EE3\n",
      "d - success\n",
      "gd1977-05-09.mtx.seamons.98168.flac16: LOW PByWs2wfyAXs3EXt:RBZUZAbUzmU47EE3\n",
      "d - success\n",
      "gd1977-05-09.mtx.seamons.98168.flac16: LOW PByWs2wfyAXs3EXt:RBZUZAbUzmU47EE3\n",
      "d - success\n",
      "gd1977-05-09.mtx.seamons.98168.flac16: LOW PByWs2wfyAXs3EXt:RBZUZAbUzmU47EE3\n",
      "d - success\n",
      "gd1977-05-09.mtx.seamons.98168.flac16: LOW PByWs2wfyAXs3EXt:RBZUZAbUzmU47EE3\n",
      "d - success\n",
      "gd1977-05-09.mtx.seamons.98168.flac16: LOW PByWs2wfyAXs3EXt:RBZUZAbUzmU47EE3\n",
      "d - success\n",
      "gd1977-05-09.mtx.seamons.98168.flac16: LOW PByWs2wfyAXs3EXt:RBZUZAbUzmU47EE3\n",
      "d - success\n",
      "gd1977-05-09.mtx.seamons.98168.flac16: LOW PByWs2wfyAXs3EXt:RBZUZAbUzmU47EE3\n",
      "d - success\n",
      "gd1977-05-09.mtx.seamons.98168.flac16: LOW PByWs2wfyAXs3EXt:RBZUZAbUzmU47EE3\n",
      "d - success\n",
      "gd1977-05-09.mtx.seamons.98168.flac16: LOW PByWs2wfyAXs3EXt:RBZUZAbUzmU47EE3\n",
      "d - success\n",
      "gd1977-05-09.mtx.seamons.98168.flac16: LOW PByWs2wfyAXs3EXt:RBZUZAbUzmU47EE3\n",
      "d - success\n",
      "gd1977-05-09.mtx.seamons.98168.flac16: LOW PByWs2wfyAXs3EXt:RBZUZAbUzmU47EE3\n",
      "d - success\n",
      "gd1977-05-09.mtx.seamons.98168.flac16: LOW PByWs2wfyAXs3EXt:RBZUZAbUzmU47EE3\n",
      "d - success\n",
      "gd1977-05-09.mtx.seamons.98168.flac16: LOW PByWs2wfyAXs3EXt:RBZUZAbUzmU47EE3\n",
      "d - success\n",
      "gd1977-05-09.mtx.seamons.98168.flac16: LOW PByWs2wfyAXs3EXt:RBZUZAbUzmU47EE3\n",
      "d - success\n",
      "gd1977-05-09.mtx.seamons.98168.flac16: LOW PByWs2wfyAXs3EXt:RBZUZAbUzmU47EE3\n",
      "d - success\n",
      "gd1977-05-09.mtx.seamons.98168.flac16: LOW PByWs2wfyAXs3EXt:RBZUZAbUzmU47EE3\n",
      "d - success\n",
      "gd1977-05-09.mtx.seamons.98168.flac16: LOW PByWs2wfyAXs3EXt:RBZUZAbUzmU47EE3\n",
      "d - success\n",
      "gd1977-05-09.mtx.seamons.98168.flac16: LOW PByWs2wfyAXs3EXt:RBZUZAbUzmU47EE3\n",
      "d - success\n",
      "gd1977-05-09.mtx.seamons.98168.flac16: LOW PByWs2wfyAXs3EXt:RBZUZAbUzmU47EE3\n",
      "d - success\n"
     ]
    }
   ],
   "source": [
    "for f in fnames:\n",
    "    s_item.download(f)"
   ]
  }
 ],
 "metadata": {
  "language_info": {
   "codemirror_mode": {
    "name": "ipython",
    "version": 3
   },
   "file_extension": ".py",
   "mimetype": "text/x-python",
   "name": "python",
   "nbconvert_exporter": "python",
   "pygments_lexer": "ipython3",
   "version": "3.7.7-final"
  },
  "orig_nbformat": 2,
  "kernelspec": {
   "name": "python37764bitarchvenvvenv24e91d2851964b159e7924f1f8e80ea8",
   "display_name": "Python 3.7.7 64-bit ('archVenv': venv)",
   "language": "python"
  }
 },
 "nbformat": 4,
 "nbformat_minor": 2
}