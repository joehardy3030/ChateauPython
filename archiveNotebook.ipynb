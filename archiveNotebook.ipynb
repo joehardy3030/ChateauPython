{
 "cells": [
  {
   "cell_type": "code",
   "execution_count": 1,
   "metadata": {},
   "outputs": [],
   "source": [
    "import internetarchive\n",
    "from internetarchive import get_item\n",
    "from internetarchive import download\n",
    "from internetarchive import search_items\n",
    "from internetarchive import search\n",
    "from internetarchive import get_session\n",
    "from internetarchive import configure\n"
   ]
  },
  {
   "cell_type": "code",
   "execution_count": 5,
   "metadata": {},
   "outputs": [],
   "source": []
  },
  {
   "cell_type": "code",
   "execution_count": 6,
   "metadata": {},
   "outputs": [],
   "source": [
    "s = get_session()\n",
    "s.mount_http_adapter()\n",
    "search_results = s.search_items('nasa')"
   ]
  },
  {
   "cell_type": "code",
   "execution_count": 9,
   "metadata": {},
   "outputs": [
    {
     "output_type": "execute_result",
     "data": {
      "text/plain": "True"
     },
     "metadata": {},
     "execution_count": 9
    }
   ],
   "source": [
    "item = get_item('GratefulDead')\n",
    "item.exists"
   ]
  },
  {
   "cell_type": "code",
   "execution_count": 10,
   "metadata": {},
   "outputs": [
    {
     "output_type": "execute_result",
     "data": {
      "text/plain": "'Grateful Dead'"
     },
     "metadata": {},
     "execution_count": 10
    }
   ],
   "source": [
    "item.item_metadata['metadata']['title']"
   ]
  },
  {
   "cell_type": "code",
   "execution_count": null,
   "metadata": {},
   "outputs": [],
   "source": []
  }
 ],
 "metadata": {
  "language_info": {
   "codemirror_mode": {
    "name": "ipython",
    "version": 3
   },
   "file_extension": ".py",
   "mimetype": "text/x-python",
   "name": "python",
   "nbconvert_exporter": "python",
   "pygments_lexer": "ipython3",
   "version": "3.6.9-final"
  },
  "orig_nbformat": 2,
  "kernelspec": {
   "name": "python36964bitarchvenvvenv6f2c86c1fa4b45c48084a12f6149b67e",
   "display_name": "Python 3.6.9 64-bit ('archVenv': venv)"
  }
 },
 "nbformat": 4,
 "nbformat_minor": 2
}