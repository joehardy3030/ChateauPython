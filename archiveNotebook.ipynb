{
 "cells": [
  {
   "cell_type": "code",
   "execution_count": 1,
   "metadata": {},
   "outputs": [],
   "source": [
    "import internetarchive\n",
    "from internetarchive import get_item\n",
    "from internetarchive import download\n",
    "from internetarchive import search_items\n",
    "from internetarchive import search\n",
    "from internetarchive import get_session\n",
    "from internetarchive import configure\n",
    "from internetarchive import get_files\n",
    "import numpy as np\n",
    "import pandas as pd\n"
   ]
  },
  {
   "cell_type": "code",
   "execution_count": 52,
   "metadata": {},
   "outputs": [],
   "source": [
    "#configure(username='joehardy_1974@yahoo.com', password='')"
   ]
  },
  {
   "cell_type": "code",
   "execution_count": 53,
   "metadata": {},
   "outputs": [],
   "source": [
    "s = get_session()\n",
    "s.mount_http_adapter()\n",
    "search_results = s.search_items('nasa')"
   ]
  },
  {
   "cell_type": "code",
   "execution_count": 54,
   "metadata": {},
   "outputs": [
    {
     "output_type": "execute_result",
     "data": {
      "text/plain": "True"
     },
     "metadata": {},
     "execution_count": 54
    }
   ],
   "source": [
    "item = get_item('GratefulDead')\n",
    "item.exists"
   ]
  },
  {
   "cell_type": "code",
   "execution_count": 55,
   "metadata": {},
   "outputs": [
    {
     "output_type": "execute_result",
     "data": {
      "text/plain": "{'identifier': 'GratefulDead',\n 'title': 'Grateful Dead',\n 'creator': 'Grateful Dead',\n 'mediatype': 'collection',\n 'collection': ['etree', 'audio'],\n 'description': '<b>Browse:</b>\\n<a href=\"/details/GratefulDead?sort=-publicdate\">this just in</a> ·\\n<a href=\"/search.php?query=collection:(GratefulDead AND stream_only)&amp;sort=-date\">stream only (SBD) shows</a> ·\\n<a href=\"/search.php?query=collection:GratefulDead AND NOT collection:stream_only&amp;sort=-date\">downloadable (AUD) shows</a> ·\\n<a href=\"#\" onclick=\"return tapeoftheday()\">this day in history</a> ·\\n<a href=\"https://archive.org/search.php?query=collection%3AGratefulDead&amp;sort=-avg_rating\">average review rating</a> ·\\n<a href=\"https://archive.org/search.php?query=collection%3AGratefulDead&amp;sort=-num_reviews\">number reviews</a> ·\\n<a href=\"https://archive.org/details/GratefulDead?sort=-reviewdate\">date reviewed</a> ·\\n<a href=\"https://archive.org/details/GratefulDead?sort=-downloads\">number views</a> ·\\n<a href=\"https://archive.org/search.php?query=forumPost%3A1%20AND%20forumForum%3AGratefulDead%20AND%20Pigpen\">search forums</a><br><br>\\nCreated in 2004 this collection consists of both audience and soundboard recordings. It is not uncommon to find multiple versions of the same show.  For more information please see the <a href=\"https://archive.org/about/faqs.php#The_Grateful_Dead_Collection\">FAQ</a>. The Grateful Dead collection is not currently open to public uploads.<br><br>\\n<!--V2 ONLY-->\\n<div style=\"display:none;\" class=\"visible-xs visible-sm visible-md visible-lg\">\\nSearch Shows:<br>                                         \\n<a href=\"https://archive.org/search.php?query=collection%3AGratefulDead%20AND%20NOT%20collection%3Astream_only\"><b>Downloadable Shows</b></a> - usually audience recordings <br>\\n<a href=\"https://archive.org/search.php?query=collection%3A%28GratefulDead%20AND%20stream_only%29\"><b>Stream-only Shows</b></a> - usually soundboard recordings <br>\\n<a href=\"#\" onclick=\"return tapeoftheday(1)\"><b>Today in History</b></a> - shows on this month and day\\n</div>\\n<!--V1 ONLY-->\\n<div class=\"hidden\">\\n<p>Here you can browse:</p>\\n<a href=\"/search.php?query=collection%3A(GratefulDead AND etree) AND -collection%3Astream_only\">Downloadable Shows</a> (typically, Audience recordings), and<br>\\n<a href=\"/search.php?query=collection:(GratefulDead AND etree AND stream_only) AND NOT post_text:(released OR not streamable OR commercially OR cannot)\">Stream-Only Shows</a> (typically, Soundboard recordings).<br>\\n<a href=\"#\" onclick=\"return tapeoftheday()\">Shows on this Day in History</a><br>\\n</div>\\n<h3>Discussion Resources</h3>\\nThe <a href=\"/details/GratefulDead#forum\">Grateful Dead Forum</a> is focused discussion area for the Grateful Dead.<br>\\n\\nIn contrast, the <a href=\"/details/etree#forum\">Live Music Archive forum</a> is a more general venue for discussion about thousands of other LMA bands, and for more general technical questions about the LMA collection.<br>\\n\\nSee the <a href=\"https://archive.org/about/faqs.php#The_Grateful_Dead_Collection\">FAQ</a>, and the collection\\'s policy notes below for more information. Limited Flag: LimSpecial / LimProject / LimShows / LimSBDs / LimRange.  At this time, the Grateful Dead collection is not open to public uploads. The Grateful Dead Internet Archive Project (GDIAP) will continue its direct management of this collection for the time being.<br>\\n<br>\\nInformative Links:<br> \\n<a href=\"http://www.deadlistening.com/\">Grateful Dead Listening Guide</a> <br>\\n<a href=\"http://deadessays.blogspot.com/\">Grateful Dead Guide</a><br>\\n<a href=\"http://www.deadlists.com/default.asp\">Deadlists</a><br>\\n<a href=\"http://db.etree.org/shnlist.php?year=Recent&amp;artist=&amp;artist_group_key=1\">Grateful Dead Sources in Circulation at db.etree.org</a><br>\\n<a href=\"http://www.dead.net\">Grateful Dead Official Website</a>\\n\\n\\n<script>\\nfunction tapeoftheday(v2)\\n{\\n   var currentTime = new Date();\\n   var month = currentTime.getMonth()+1;\\n   var day = currentTime.getDate();\\n   if ( month < 10)  month = \"0\"+month;\\n   if ( day < 10)  day = \"0\"+day;\\n   var url = \\'/search.php?query=collection:GratefulDead AND title:\"-\\'+month+\\'-\\'+day+\\'\"&sort=-date\\';\\n   if (v2) url = \\'/details/GratefulDead?and[]=title:\"-\\'+month+\\'-\\'+day+\\'\"\\';\\n\\n   window.location=url;\\n   return false;\\n}\\n</script>',\n 'subject': 'grateful dead, jam, rock, jerry garcia',\n 'publicdate': '2004-03-27 12:49:52',\n 'addeddate': '2006-05-10 07:24:03',\n 'uploader': 'jon@archive.org',\n 'updater': ['Jonathan Aizen',\n  'Diana Hamilton',\n  'Diana Hamilton',\n  'Brad Leblanc',\n  'Diana Hamilton',\n  'Diana Hamilton',\n  'Diana Hamilton',\n  'Diana Hamilton',\n  'Diana Hamilton',\n  'brewster',\n  'brewster',\n  'brewster',\n  'brewster',\n  'Diana Hamilton',\n  'Diana Hamilton',\n  'Diana Hamilton',\n  'ARossi',\n  'tracey pooh',\n  'tracey pooh',\n  'tracey pooh',\n  'ewingrr',\n  'ewingrr',\n  'ARossi',\n  'tracey pooh',\n  'Matthew Vernon',\n  'Matthew Vernon',\n  'Matthew Vernon',\n  'Matthew Vernon',\n  'Matthew Vernon',\n  'binderc',\n  'Matthew Vernon',\n  'Matthew Vernon',\n  'Matthew Vernon',\n  'Jeff Kaplan',\n  'Jeff Kaplan',\n  'Jeff Kaplan',\n  'Matthew Vernon',\n  'Jeff Kaplan',\n  'Jeff Kaplan',\n  'Matthew Vernon',\n  'Matthew Vernon',\n  'Matthew Vernon',\n  'Matthew Vernon',\n  'Matthew Vernon',\n  'Matthew Vernon',\n  'Matthew Vernon',\n  'Matthew Vernon',\n  'Matthew Vernon',\n  'Matthew Vernon',\n  'Matthew Vernon',\n  'Jeff Kaplan',\n  'Jeff Kaplan',\n  'Jeff Kaplan',\n  'Jeff Kaplan',\n  'Jeff Kaplan',\n  'Jeff Kaplan',\n  'Jeff Kaplan',\n  'Jeff Kaplan',\n  'Jeff Kaplan',\n  'Jeff Kaplan',\n  'Jeff Kaplan',\n  'Jeff Kaplan',\n  'Jeff Kaplan',\n  'Jeff Kaplan'],\n 'updatedate': ['2006-05-11 09:50:37',\n  '2006-05-18 02:02:15',\n  '2006-05-23 12:35:02',\n  '2006-06-01 14:19:07',\n  '2006-06-02 17:45:03',\n  '2006-06-08 13:39:31',\n  '2006-06-09 19:53:44',\n  '2006-06-09 19:54:48',\n  '2006-06-15 18:11:57',\n  '2006-06-16 15:21:13',\n  '2006-06-16 15:23:11',\n  '2006-06-16 15:28:37',\n  '2006-06-16 15:32:23',\n  '2006-07-03 14:36:46',\n  '2006-07-03 14:54:55',\n  '2006-07-12 23:52:36',\n  '2006-07-14 23:29:39',\n  '2006-07-15 19:07:34',\n  '2006-07-15 19:35:21',\n  '2006-07-15 19:41:03',\n  '2006-07-19 01:17:38',\n  '2006-08-17 21:17:12',\n  '2007-01-03 19:27:39',\n  '2007-01-29 23:49:05',\n  '2008-04-01 22:04:42',\n  '2008-04-07 17:01:41',\n  '2008-04-23 13:46:14',\n  '2008-05-18 00:35:04',\n  '2008-09-18 03:00:06',\n  '2008-12-17 19:15:16',\n  '2009-05-01 17:35:47',\n  '2010-01-19 05:18:40',\n  '2010-03-23 20:00:18',\n  '2010-03-26 16:36:02',\n  '2010-03-26 16:45:52',\n  '2010-03-26 16:49:03',\n  '2010-03-28 01:24:56',\n  '2010-04-26 20:42:32',\n  '2010-04-29 14:09:16',\n  '2010-04-30 14:39:55',\n  '2010-04-30 14:45:46',\n  '2010-04-30 15:54:09',\n  '2010-04-30 16:26:55',\n  '2010-04-30 17:57:14',\n  '2010-04-30 18:22:40',\n  '2010-04-30 18:24:57',\n  '2010-04-30 19:06:55',\n  '2010-04-30 19:57:28',\n  '2010-05-01 00:00:13',\n  '2010-05-29 15:33:57',\n  '2011-05-11 16:49:31',\n  '2011-05-11 16:50:58',\n  '2011-05-11 17:02:23',\n  '2011-05-11 17:04:21',\n  '2011-05-11 19:07:23',\n  '2011-05-11 23:09:10',\n  '2011-06-02 20:15:28',\n  '2011-06-02 20:18:22',\n  '2011-06-02 20:20:44',\n  '2011-06-02 20:22:29',\n  '2011-08-16 22:53:55',\n  '2011-10-28 04:41:24',\n  '2011-12-13 00:39:43',\n  '2012-01-31 17:52:24'],\n 'rights': 'Limited Flag: LimSpecial / LimProject / LimShows / LimSBDs / LimRange\\n\\n11/2005 brought a major change to GD material here. See:\\n<a href=\"http://www.archive.org/about/faqs.php#215\" rel=\"nofollow\">http://www.archive.org/about/faqs.php#215</a>\\n\\nAdditional note on <a href=\"http://www.archive.org/iathreads/post-view.php?id=1958\" rel=\"nofollow\">Limitations</a> for this site: Specific items (show dates and/or recording versions) may become unavailable for downloading or streaming here by rights-holder request. Here are some examples of currently nonpublic items (list is not comprehensive): 02/27/1969, 02/28/1969, 03/01/1969, 03/02/1969, 10/26/1971, 09/21/1972, 11/02/1977, 11/05/1977, 09/03/1980, 09/04/1980, 03/26/1988, 03/27/1988, 03/28/1988, 07/04/1989\\n\\n<b>Trading Policy Notes</b>\\nFrom <a href=\"http://web.archive.org/web/20050324025618/http://dead.net/hotline_info/NEW_DOCUMENTS/mp3.html\" rel=\"nofollow\">http://www.dead.net/hotline_info/NEW_DOCUMENTS/mp3.html from 2005</a>\\n\\nSTATEMENT TO MP3 SITE OPERATORS\\nThe Grateful Dead and our managing organizations have long encouraged the purely non-commercial exchange of music taped at our concerts and those of our individual members. That a new medium of distribution has arisen - digital audio files being traded over the Internet - does not change our policy in this regard. Our stipulations regarding digital distribution are merely extensions of those long-standing principles and they are as follow: \\n\\nNo commercial gain may be sought by websites offering digital files of our music, whether through advertising, exploiting databases compiled from their traffic, or any other means. \\nAll participants in such digital exchange acknowledge and respect the copyrights of the performers, writers and publishers of the music. \\nThis notice should be clearly posted on all sites engaged in this activity. \\nWe reserve the ability to withdraw our sanction of non-commercial digital music should circumstances arise that compromise our ability to protect and steward the integrity of our work.',\n 'publisher': ['Internet Archive', 'etree.org'],\n 'show_search_by_year': 'true',\n 'num_top_ba': '10',\n 'numeric_id': '3',\n 'title_message': 'Free Music',\n 'backup_location': 'ia903600_5',\n 'show_related_music_by_track': 'true',\n 'hidden': 'true'}"
     },
     "metadata": {},
     "execution_count": 55
    }
   ],
   "source": [
    "item.item_metadata['metadata']"
   ]
  },
  {
   "cell_type": "code",
   "execution_count": 56,
   "metadata": {},
   "outputs": [
    {
     "output_type": "execute_result",
     "data": {
      "text/plain": "Search(query='nasa')"
     },
     "metadata": {},
     "execution_count": 56
    }
   ],
   "source": [
    "search_results"
   ]
  },
  {
   "cell_type": "code",
   "execution_count": 57,
   "metadata": {},
   "outputs": [
    {
     "output_type": "execute_result",
     "data": {
      "text/plain": "<internetarchive.session.ArchiveSession at 0x118516990>"
     },
     "metadata": {},
     "execution_count": 57
    }
   ],
   "source": [
    "s"
   ]
  },
  {
   "cell_type": "code",
   "execution_count": 58,
   "metadata": {},
   "outputs": [],
   "source": [
    "search_results = s.search_items('GratefulDead')"
   ]
  },
  {
   "cell_type": "code",
   "execution_count": 80,
   "metadata": {
    "tags": []
   },
   "outputs": [
    {
     "output_type": "execute_result",
     "data": {
      "text/plain": "'PByWs2wfyAXs3EXt'"
     },
     "metadata": {},
     "execution_count": 80
    }
   ],
   "source": [
    "search_results.auth.__dict__['access_key']"
   ]
  },
  {
   "cell_type": "code",
   "execution_count": 81,
   "metadata": {},
   "outputs": [],
   "source": [
    "auth_str = 'LOW {a}:{s}'.format(a=search_results.auth.__dict__['access_key'], s=search_results.auth.__dict__['secret_key'])\n"
   ]
  },
  {
   "cell_type": "code",
   "execution_count": 82,
   "metadata": {},
   "outputs": [
    {
     "output_type": "execute_result",
     "data": {
      "text/plain": "'LOW PByWs2wfyAXs3EXt:RBZUZAbUzmU47EE3'"
     },
     "metadata": {},
     "execution_count": 82
    }
   ],
   "source": [
    "auth_str"
   ]
  },
  {
   "cell_type": "code",
   "execution_count": 78,
   "metadata": {},
   "outputs": [
    {
     "output_type": "execute_result",
     "data": {
      "text/plain": "'https://archive.org/services/search/v1/scrape'"
     },
     "metadata": {},
     "execution_count": 78
    }
   ],
   "source": [
    "# https://archive.org/services/search/v1/scrape?q=collection%3AGratefulDead"
   ]
  },
  {
   "cell_type": "code",
   "execution_count": 59,
   "metadata": {},
   "outputs": [
    {
     "output_type": "execute_result",
     "data": {
      "text/plain": "<bound method Search.iter_as_items of Search(query='GratefulDead')>"
     },
     "metadata": {},
     "execution_count": 59
    }
   ],
   "source": [
    "search_results.iter_as_items"
   ]
  },
  {
   "cell_type": "code",
   "execution_count": 60,
   "metadata": {
    "tags": []
   },
   "outputs": [],
   "source": [
    "df_search = pd.DataFrame(search_results)\n",
    "#for sr in search_results:\n",
    "#    print(sr)\n",
    "#    break"
   ]
  },
  {
   "cell_type": "code",
   "execution_count": 61,
   "metadata": {},
   "outputs": [],
   "source": [
    "df_search.to_csv(\"./data/GD_search_results.csv\")"
   ]
  },
  {
   "cell_type": "code",
   "execution_count": 62,
   "metadata": {},
   "outputs": [
    {
     "output_type": "execute_result",
     "data": {
      "text/plain": "{'identifier': 'gd93-03-10.sbd.ladner.2024.sbeok.shnf'}"
     },
     "metadata": {},
     "execution_count": 62
    }
   ],
   "source": [
    "{'identifier': 'gd93-03-10.sbd.ladner.2024.sbeok.shnf'}"
   ]
  },
  {
   "cell_type": "code",
   "execution_count": 63,
   "metadata": {
    "tags": []
   },
   "outputs": [],
   "source": [
    "# d = download('gd1990-03-21.aud.gidley.91767.sbeok.flac16') ## works w/o a session for aud files, can download a torrent"
   ]
  },
  {
   "cell_type": "code",
   "execution_count": 64,
   "metadata": {},
   "outputs": [],
   "source": [
    "item = get_item('gd93-03-10.sbd.ladner.2024.sbeok.shnf')"
   ]
  },
  {
   "cell_type": "code",
   "execution_count": 65,
   "metadata": {},
   "outputs": [],
   "source": [
    "s_item = s.get_item('gd1990-03-30.sbd.barbella.8366.sbeok.shnf')"
   ]
  },
  {
   "cell_type": "code",
   "execution_count": 66,
   "metadata": {},
   "outputs": [
    {
     "output_type": "execute_result",
     "data": {
      "text/plain": "'/25/items/gd93-03-10.sbd.ladner.2024.sbeok.shnf'"
     },
     "metadata": {},
     "execution_count": 66
    }
   ],
   "source": [
    "item.dir"
   ]
  },
  {
   "cell_type": "code",
   "execution_count": 67,
   "metadata": {},
   "outputs": [
    {
     "output_type": "execute_result",
     "data": {
      "text/plain": "'/19/items/gd1990-03-30.sbd.barbella.8366.sbeok.shnf'"
     },
     "metadata": {},
     "execution_count": 67
    }
   ],
   "source": [
    "s_item.dir"
   ]
  },
  {
   "cell_type": "code",
   "execution_count": 68,
   "metadata": {
    "tags": []
   },
   "outputs": [],
   "source": [
    "s = s_item.get_files()"
   ]
  },
  {
   "cell_type": "code",
   "execution_count": 69,
   "metadata": {
    "tags": []
   },
   "outputs": [
    {
     "output_type": "stream",
     "name": "stdout",
     "text": "<generator object Item.get_files at 0x118ace2d0>\n"
    }
   ],
   "source": [
    "print(s)"
   ]
  },
  {
   "cell_type": "code",
   "execution_count": 70,
   "metadata": {},
   "outputs": [],
   "source": [
    "f = get_files('gd1990-03-30.sbd.barbella.8366.sbeok.shnf')"
   ]
  },
  {
   "cell_type": "code",
   "execution_count": 71,
   "metadata": {
    "tags": []
   },
   "outputs": [
    {
     "output_type": "stream",
     "name": "stdout",
     "text": "<generator object Item.get_files at 0x118acee50>\n"
    }
   ],
   "source": [
    "print(f)"
   ]
  },
  {
   "cell_type": "code",
   "execution_count": 72,
   "metadata": {},
   "outputs": [],
   "source": [
    "fnames = [f.name for f in get_files('gd1990-03-30.sbd.barbella.8366.sbeok.shnf', glob_pattern='*mp3')]"
   ]
  },
  {
   "cell_type": "code",
   "execution_count": 73,
   "metadata": {
    "tags": []
   },
   "outputs": [
    {
     "output_type": "stream",
     "name": "stdout",
     "text": "['gd90-03-30d1t01multi.mp3', 'gd90-03-30d1t02multi.mp3', 'gd90-03-30d1t03multi.mp3', 'gd90-03-30d1t04multi.mp3', 'gd90-03-30d1t05multi.mp3', 'gd90-03-30d1t06multi.mp3', 'gd90-03-30d1t07multi.mp3', 'gd90-03-30d1t08multi.mp3', 'gd90-03-30d1t09multi.mp3', 'gd90-03-30d2t01multi.mp3', 'gd90-03-30d2t02multi.mp3', 'gd90-03-30d2t03multi.mp3', 'gd90-03-30d2t04multi.mp3', 'gd90-03-30d2t05multi.mp3', 'gd90-03-30d2t06multi.mp3', 'gd90-03-30d3t01multi.mp3', 'gd90-03-30d3t02multi.mp3', 'gd90-03-30d3t03multi.mp3', 'gd90-03-30d3t04multi.mp3', 'gd90-03-30d3t05multi.mp3', 'gd90-03-30d3t06multi.mp3']\n"
    }
   ],
   "source": [
    "print(fnames)"
   ]
  },
  {
   "cell_type": "code",
   "execution_count": 74,
   "metadata": {
    "tags": []
   },
   "outputs": [
    {
     "output_type": "stream",
     "name": "stdout",
     "text": "gd1990-03-30.sbd.barbella.8366.sbeok.shnf:. - success\n"
    },
    {
     "output_type": "execute_result",
     "data": {
      "text/plain": "[]"
     },
     "metadata": {},
     "execution_count": 74
    }
   ],
   "source": [
    "s_item.download('gd90-03-30d1t01multi.mp3', destdir=\"downloads\")"
   ]
  }
 ],
 "metadata": {
  "language_info": {
   "codemirror_mode": {
    "name": "ipython",
    "version": 3
   },
   "file_extension": ".py",
   "mimetype": "text/x-python",
   "name": "python",
   "nbconvert_exporter": "python",
   "pygments_lexer": "ipython3",
   "version": "3.7.7-final"
  },
  "orig_nbformat": 2,
  "kernelspec": {
   "name": "python37764bitarchvenvvenv24e91d2851964b159e7924f1f8e80ea8",
   "display_name": "Python 3.7.7 64-bit ('archVenv': venv)"
  }
 },
 "nbformat": 4,
 "nbformat_minor": 2
}