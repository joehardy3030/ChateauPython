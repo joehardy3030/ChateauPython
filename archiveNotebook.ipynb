{
 "cells": [
  {
   "cell_type": "code",
   "execution_count": 1,
   "metadata": {},
   "outputs": [],
   "source": [
    "import internetarchive\n",
    "from internetarchive import get_item\n",
    "from internetarchive import download\n",
    "from internetarchive import search_items\n",
    "from internetarchive import search\n",
    "from internetarchive import get_session\n",
    "from internetarchive import configure\n",
    "from internetarchive import get_files\n"
   ]
  },
  {
   "cell_type": "code",
   "execution_count": 2,
   "metadata": {},
   "outputs": [],
   "source": [
    "# configure(username='joehardy_1974@yahoo.com', password='')"
   ]
  },
  {
   "cell_type": "code",
   "execution_count": 3,
   "metadata": {},
   "outputs": [],
   "source": [
    "s = get_session()\n",
    "s.mount_http_adapter()\n",
    "search_results = s.search_items('nasa')"
   ]
  },
  {
   "cell_type": "code",
   "execution_count": 4,
   "metadata": {},
   "outputs": [
    {
     "output_type": "execute_result",
     "data": {
      "text/plain": "True"
     },
     "metadata": {},
     "execution_count": 4
    }
   ],
   "source": [
    "item = get_item('GratefulDead')\n",
    "item.exists"
   ]
  },
  {
   "cell_type": "code",
   "execution_count": 5,
   "metadata": {},
   "outputs": [
    {
     "output_type": "execute_result",
     "data": {
      "text/plain": "'Grateful Dead'"
     },
     "metadata": {},
     "execution_count": 5
    }
   ],
   "source": [
    "item.item_metadata['metadata']['title']"
   ]
  },
  {
   "cell_type": "code",
   "execution_count": 6,
   "metadata": {},
   "outputs": [
    {
     "output_type": "execute_result",
     "data": {
      "text/plain": "Search(query='nasa')"
     },
     "metadata": {},
     "execution_count": 6
    }
   ],
   "source": [
    "search_results"
   ]
  },
  {
   "cell_type": "code",
   "execution_count": 7,
   "metadata": {},
   "outputs": [
    {
     "output_type": "execute_result",
     "data": {
      "text/plain": "<internetarchive.session.ArchiveSession at 0x7f7f3526b198>"
     },
     "metadata": {},
     "execution_count": 7
    }
   ],
   "source": [
    "s"
   ]
  },
  {
   "cell_type": "code",
   "execution_count": 8,
   "metadata": {},
   "outputs": [],
   "source": [
    "search_results = s.search_items('GratefulDead')"
   ]
  },
  {
   "cell_type": "code",
   "execution_count": 9,
   "metadata": {},
   "outputs": [
    {
     "output_type": "execute_result",
     "data": {
      "text/plain": "<bound method Search.iter_as_items of Search(query='GratefulDead')>"
     },
     "metadata": {},
     "execution_count": 9
    }
   ],
   "source": [
    "search_results.iter_as_items"
   ]
  },
  {
   "cell_type": "code",
   "execution_count": 10,
   "metadata": {
    "tags": []
   },
   "outputs": [
    {
     "output_type": "stream",
     "name": "stdout",
     "text": "{'identifier': '01Antics1'}\n"
    }
   ],
   "source": [
    "for sr in search_results:\n",
    "    print(sr)\n",
    "    break"
   ]
  },
  {
   "cell_type": "code",
   "execution_count": 11,
   "metadata": {},
   "outputs": [
    {
     "output_type": "execute_result",
     "data": {
      "text/plain": "{'identifier': 'gd93-03-10.sbd.ladner.2024.sbeok.shnf'}"
     },
     "metadata": {},
     "execution_count": 11
    }
   ],
   "source": [
    "{'identifier': 'gd93-03-10.sbd.ladner.2024.sbeok.shnf'}"
   ]
  },
  {
   "cell_type": "code",
   "execution_count": 12,
   "metadata": {
    "tags": []
   },
   "outputs": [
    {
     "output_type": "stream",
     "name": "stdout",
     "text": "gd1990-03-21.aud.gidley.91767.sbeok.flac16:....................................................................................................................................................................................... - success\n"
    }
   ],
   "source": [
    "d = download('gd1990-03-21.aud.gidley.91767.sbeok.flac16') ## works w/o a session for aud files, can download a torrent"
   ]
  },
  {
   "cell_type": "code",
   "execution_count": 13,
   "metadata": {},
   "outputs": [],
   "source": [
    "item = get_item('gd93-03-10.sbd.ladner.2024.sbeok.shnf')"
   ]
  },
  {
   "cell_type": "code",
   "execution_count": 14,
   "metadata": {},
   "outputs": [],
   "source": [
    "s_item = s.get_item('gd1990-03-30.sbd.barbella.8366.sbeok.shnf')"
   ]
  },
  {
   "cell_type": "code",
   "execution_count": 15,
   "metadata": {},
   "outputs": [
    {
     "output_type": "execute_result",
     "data": {
      "text/plain": "'/25/items/gd93-03-10.sbd.ladner.2024.sbeok.shnf'"
     },
     "metadata": {},
     "execution_count": 15
    }
   ],
   "source": [
    "item.dir"
   ]
  },
  {
   "cell_type": "code",
   "execution_count": 16,
   "metadata": {},
   "outputs": [
    {
     "output_type": "execute_result",
     "data": {
      "text/plain": "'/19/items/gd1990-03-30.sbd.barbella.8366.sbeok.shnf'"
     },
     "metadata": {},
     "execution_count": 16
    }
   ],
   "source": [
    "s_item.dir"
   ]
  },
  {
   "cell_type": "code",
   "execution_count": 17,
   "metadata": {
    "tags": []
   },
   "outputs": [],
   "source": [
    "s = s_item.get_files()"
   ]
  },
  {
   "cell_type": "code",
   "execution_count": 18,
   "metadata": {
    "tags": []
   },
   "outputs": [
    {
     "output_type": "stream",
     "name": "stdout",
     "text": "<generator object Item.get_files at 0x7f7f340f64c0>\n"
    }
   ],
   "source": [
    "print(s)"
   ]
  },
  {
   "cell_type": "code",
   "execution_count": 19,
   "metadata": {},
   "outputs": [],
   "source": [
    "f = get_files('gd1990-03-30.sbd.barbella.8366.sbeok.shnf')"
   ]
  },
  {
   "cell_type": "code",
   "execution_count": 20,
   "metadata": {
    "tags": []
   },
   "outputs": [
    {
     "output_type": "stream",
     "name": "stdout",
     "text": "<generator object Item.get_files at 0x7f7f1fd19888>\n"
    }
   ],
   "source": [
    "print(f)"
   ]
  },
  {
   "cell_type": "code",
   "execution_count": 21,
   "metadata": {},
   "outputs": [],
   "source": [
    "fnames = [f.name for f in get_files('gd1990-03-30.sbd.barbella.8366.sbeok.shnf', glob_pattern='*mp3')]"
   ]
  },
  {
   "cell_type": "code",
   "execution_count": 22,
   "metadata": {
    "tags": []
   },
   "outputs": [
    {
     "output_type": "stream",
     "name": "stdout",
     "text": "['gd90-03-30d1t01multi.mp3', 'gd90-03-30d1t02multi.mp3', 'gd90-03-30d1t03multi.mp3', 'gd90-03-30d1t04multi.mp3', 'gd90-03-30d1t05multi.mp3', 'gd90-03-30d1t06multi.mp3', 'gd90-03-30d1t07multi.mp3', 'gd90-03-30d1t08multi.mp3', 'gd90-03-30d1t09multi.mp3', 'gd90-03-30d2t01multi.mp3', 'gd90-03-30d2t02multi.mp3', 'gd90-03-30d2t03multi.mp3', 'gd90-03-30d2t04multi.mp3', 'gd90-03-30d2t05multi.mp3', 'gd90-03-30d2t06multi.mp3', 'gd90-03-30d3t01multi.mp3', 'gd90-03-30d3t02multi.mp3', 'gd90-03-30d3t03multi.mp3', 'gd90-03-30d3t04multi.mp3', 'gd90-03-30d3t05multi.mp3', 'gd90-03-30d3t06multi.mp3']\n"
    }
   ],
   "source": [
    "print(fnames)"
   ]
  },
  {
   "cell_type": "code",
   "execution_count": 23,
   "metadata": {
    "tags": []
   },
   "outputs": [
    {
     "output_type": "stream",
     "name": "stdout",
     "text": "gd1990-03-30.sbd.barbella.8366.sbeok.shnf:. - success\n"
    },
    {
     "output_type": "execute_result",
     "data": {
      "text/plain": "[]"
     },
     "metadata": {},
     "execution_count": 23
    }
   ],
   "source": [
    "s_item.download('gd90-03-30d1t01multi.mp3')"
   ]
  }
 ],
 "metadata": {
  "language_info": {
   "codemirror_mode": {
    "name": "ipython",
    "version": 3
   },
   "file_extension": ".py",
   "mimetype": "text/x-python",
   "name": "python",
   "nbconvert_exporter": "python",
   "pygments_lexer": "ipython3",
   "version": "3.7.7-final"
  },
  "orig_nbformat": 2,
  "kernelspec": {
   "name": "python_defaultSpec_1593235855628",
   "display_name": "Python 3.6.9 64-bit ('archVenv': venv)"
  }
 },
 "nbformat": 4,
 "nbformat_minor": 2
}