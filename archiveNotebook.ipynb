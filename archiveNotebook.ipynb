{
 "cells": [
  {
   "cell_type": "code",
   "execution_count": 49,
   "metadata": {},
   "outputs": [],
   "source": [
    "import internetarchive\n",
    "from internetarchive import get_item\n",
    "from internetarchive import download\n",
    "from internetarchive import search_items\n",
    "from internetarchive import search\n",
    "from internetarchive import get_session\n",
    "from internetarchive import configure\n",
    "from internetarchive import get_files\n"
   ]
  },
  {
   "cell_type": "code",
   "execution_count": 2,
   "metadata": {},
   "outputs": [],
   "source": [
    "s = get_session()\n",
    "s.mount_http_adapter()\n",
    "search_results = s.search_items('nasa')"
   ]
  },
  {
   "cell_type": "code",
   "execution_count": 3,
   "metadata": {},
   "outputs": [
    {
     "output_type": "execute_result",
     "data": {
      "text/plain": "True"
     },
     "metadata": {},
     "execution_count": 3
    }
   ],
   "source": [
    "item = get_item('GratefulDead')\n",
    "item.exists"
   ]
  },
  {
   "cell_type": "code",
   "execution_count": 4,
   "metadata": {},
   "outputs": [
    {
     "output_type": "execute_result",
     "data": {
      "text/plain": "'Grateful Dead'"
     },
     "metadata": {},
     "execution_count": 4
    }
   ],
   "source": [
    "item.item_metadata['metadata']['title']"
   ]
  },
  {
   "cell_type": "code",
   "execution_count": 5,
   "metadata": {},
   "outputs": [
    {
     "output_type": "execute_result",
     "data": {
      "text/plain": "Search(query='nasa')"
     },
     "metadata": {},
     "execution_count": 5
    }
   ],
   "source": [
    "search_results"
   ]
  },
  {
   "cell_type": "code",
   "execution_count": 6,
   "metadata": {},
   "outputs": [
    {
     "output_type": "execute_result",
     "data": {
      "text/plain": "<internetarchive.session.ArchiveSession at 0x7f195838f518>"
     },
     "metadata": {},
     "execution_count": 6
    }
   ],
   "source": [
    "s"
   ]
  },
  {
   "cell_type": "code",
   "execution_count": 7,
   "metadata": {},
   "outputs": [],
   "source": [
    "search_results = s.search_items('GratefulDead')"
   ]
  },
  {
   "cell_type": "code",
   "execution_count": 8,
   "metadata": {},
   "outputs": [
    {
     "output_type": "execute_result",
     "data": {
      "text/plain": "<bound method Search.iter_as_items of Search(query='GratefulDead')>"
     },
     "metadata": {},
     "execution_count": 8
    }
   ],
   "source": [
    "search_results.iter_as_items"
   ]
  },
  {
   "cell_type": "code",
   "execution_count": 10,
   "metadata": {
    "tags": [
     "outputPrepend"
    ]
   },
   "outputs": [
    {
     "output_type": "stream",
     "name": "stdout",
     "text": "shnf'}\n{'identifier': 'gd93-02-23.sbd.hall.1611.sbeok.shnf'}\n{'identifier': 'gd93-03-09.akg.gardner.10084.sbeok.shnf'}\n{'identifier': 'gd93-03-10.sbd.ladner.2024.sbeok.shnf'}\n{'identifier': 'gd93-03-11.aud.gardner.10538.sbeok.shnf'}\n{'identifier': 'gd93-03-11.sbd.wharfrat.10383.sbeok.shnf'}\n{'identifier': 'gd93-03-14.akg.brown.4703.sbeok.shnf'}\n{'identifier': 'gd93-03-14.aud-sbd.stephens.19782.sbeok.shnf'}\n{'identifier': 'gd93-03-14.senn.jimbo67.14830.sbeok.shnf'}\n{'identifier': 'gd93-03-16.sbd.gardner.5442.sbeok.shnf'}\n{'identifier': 'gd93-03-17.sbd.ladner.4979.sbeok.shnf'}\n{'identifier': 'gd93-03-18.ST250.ladner.16814.sbeok.shnf'}\n{'identifier': 'gd93-03-20.akg586.gardner.3385.sbeok.shnf'}\n{'identifier': 'gd93-03-20.sbd.miller.28428.sbeok.flacf'}\n{'identifier': 'gd93-03-21.ST250.georges.7470.sbeok.shnf'}\n{'identifier': 'gd93-03-21.akg.gardner.3386.sbeok.shnf'}\n{'identifier': 'gd93-03-21.sbd.miller.28429.sbeok.flacf'}\n{'identifier': 'gd93-03-22.akg.gardner.3388.sbeok.shnf'}\n{'identifier': 'gd93-03-22.set1.sbd.miller.28430.sbeok.flacf'}\n{'identifier': 'gd93-03-24.sbd.keyser.25664.sbeok.flacf'}\n{'identifier': 'gd93-03-24.sbd.nawrocki.16885.sbeok.shnf'}\n{'identifier': 'gd93-03-24.set2-AMS.keyser.25754.sbefail.flac16'}\n{'identifier': 'gd93-03-25.aud.stine.14831.sbeok.shnf'}\n{'identifier': 'gd93-03-25.msbd.keyser.25820.sbefail.flacf'}\n{'identifier': 'gd93-03-25.sbd.braverman.10078.sbeok.shnf'}\n{'identifier': 'gd93-03-25.sbd.nawrocki.16433.sbeok.shnf'}\n{'identifier': 'gd93-03-27.ams-young.georges.6701.sbeok.shnf'}\n{'identifier': 'gd93-03-27.sbd.nawrocki.31956.sbeok.shnf'}\n{'identifier': 'gd93-03-28.ST250.georges.5702.sbeok.shnf'}\n{'identifier': 'gd93-03-28.sbd.nawrocki.16747.sbeok.shnf'}\n{'identifier': 'gd93-03-29.sbd.wiley.13512.sbeok.shnf'}\n{'identifier': 'gd93-03-29.schoeps.raras.8376.sbeok.shnf'}\n{'identifier': 'gd93-03-31.sbd.miller.18750.sbeok.shnf'}\n{'identifier': 'gd93-03-31.schoeps.wiley.8756.sbeok.shnf'}\n{'identifier': 'gd93-03-31.soundcheck.kenk-tmnsp.31000.sbeok.flacf'}\n{'identifier': 'gd93-04-01.bk4011.blanchard.17682.sbeok.shnf'}\n{'identifier': 'gd93-04-01.sbd.hinko.23822.sbeok.shnf'}\n{'identifier': 'gd93-04-02.sbd.carr.13500.sbeok.shnf'}\n{'identifier': 'gd93-04-02.schoeps.vernon.18527.sbeok.shnf'}\n{'identifier': 'gd93-04-04.nak.ladner.18978.sbeok.shnf'}\n{'identifier': 'gd93-04-04.sbd.hinko.27976.sbeok.flacf'}\n{'identifier': 'gd93-04-04.schoeps.vernon.18528.sbeok.shnf'}\n{'identifier': 'gd93-04-05.mk21-fob-dnk.raras.8842.sbeok.shnf'}\n{'identifier': 'gd93-04-05.sbd.gardner.12095.sbeok.shnf'}\n{'identifier': 'gd93-05-14.aud.fink.17812.sbeok.shnf'}\n{'identifier': 'gd93-05-15.schoeps.fink.17955.sbeok.shnf'}\n{'identifier': 'gd93-05-16.sbd.herman.11934.sbeok.shnf'}\n{'identifier': 'gd93-05-21.schoeps.gardner.9400.sbeok.shnf'}\n{'identifier': 'gd93-05-22.sbd.gardner.9401.sbeok.shnf'}\n{'identifier': 'gd93-05-22.sbd.miller.11665.sbeok.shnf'}\n{'identifier': 'gd93-05-23.sbd.wiley.8707.sbeok.shnf'}\n{'identifier': 'gd93-05-25.dsbd.vernon.19224.sbeok.shnf'}\n{'identifier': 'gd93-05-25.schoeps.vernon.19223.sbeok.shnf'}\n{'identifier': 'gd93-05-26.sbd.19132.sbeok.shnf'}\n{'identifier': 'gd93-05-26.sbd.georges.1958.sbeok.shnf'}\n{'identifier': 'gd93-05-26.sbd.miller.27776.sbeok.flacf'}\n{'identifier': 'gd93-05-26.schoeps.georges.15384.sbeok.flacf'}\n{'identifier': 'gd93-05-27.sbd.georges.1932.sbeok.shnf'}\n{'identifier': 'gd93-05-27.sbd.miller.27777.sbeok.flac'}\n{'identifier': 'gd93-06-05.aud.wiley.8041.sbefail.shnf'}\n{'identifier': 'gd93-06-05.sbd.wiley.8328.sbeok.shnf'}\n{'identifier': 'gd93-06-06.sbd.wiley.8329.sbeok.shnf'}\n{'identifier': 'gd93-06-08.sbd.stephens.6673.sbeok.shnf'}\n{'identifier': 'gd93-06-09.sbd.miller.13601.sbeok.shnf'}\n{'identifier': 'gd93-06-09.sbd.stephens.6674.sbeok.shnf'}\n{'identifier': 'gd93-06-11.akg.nawrocki.3192.sbeok.shnf'}\n{'identifier': 'gd93-06-11.sbd.gans.19217.sbeok.shnf'}\n{'identifier': 'gd93-06-13.schoeps.ladner.8584.sbeok.shnf'}\n{'identifier': 'gd93-06-15.brennecke-young.georges.18984.sbeok.shnf'}\n{'identifier': 'gd93-06-15.sbd.gardner.10085.sbeok.shnf'}\n{'identifier': 'gd93-06-16.neumann.nawrocki.8192.sbeok.shnf'}\n{'identifier': 'gd93-06-16.sbd.eliason.13330.sbeok.shnf'}\n{'identifier': 'gd93-06-18.sbd.miller.13784.sbeok.shnf'}\n{'identifier': 'gd93-06-19.sbd.miller.28298.sbeok.flacf'}\n{'identifier': 'gd93-06-19.schoeps.unknown.16607.sbeok.shnf'}\n{'identifier': 'gd93-06-21.ST250s.nawrocki.13305.sbeok.shnf'}\n{'identifier': 'gd93-06-21.sbd.braverman.14121.sbeok.shnf'}\n{'identifier': 'gd93-06-22.sbd.braverman.14122.sbeok.shnf'}\n{'identifier': 'gd93-06-23.sbd.braverman.14123.sbeok.shnf'}\n{'identifier': 'gd93-06-23.st250.nawrocki.559.sbeok.shnf'}\n{'identifier': 'gd93-06-25.ST250s.georges.1061.sbeok.shnf'}\n{'identifier': 'gd93-06-25.ams.keyser.26124.sbefail.flac16'}\n{'identifier': 'gd93-06-25.sbd.nawrocki.19270.sbeok.shnf'}\n{'identifier': 'gd93-06-26.ams.keyser.26279.sbefail.flac16'}\n{'identifier': 'gd93-06-26.sbd.peich.7742.sbeok.shnf'}\n{'identifier': 'gd93-08-21.sbd.nawrocki.15035.sbeok.shnf'}\n{'identifier': 'gd93-08-22.sbd.nawrocki.562.sbefail.shnf'}\n{'identifier': 'gd93-08-25.sbd.wiley.11812.sbeok.shnf'}\n{'identifier': 'gd93-08-26.sbd.pujol-wiley.11499.sbeok.shnf'}\n{'identifier': 'gd93-08-27.sbd.wiley.9486.sbeok.shnf'}\n{'identifier': 'gd93-09-08.akg.ladner.16754.sbeok.shnf'}\n{'identifier': 'gd93-09-09.akg.gardner.5440.sbeok.shnf'}\n{'identifier': 'gd93-09-10.akg.gardner.5441.sbeok.shnf'}\n{'identifier': 'gd93-09-10.dsbd.miller.28782.sbeok.flacf'}\n{'identifier': 'gd93-09-12.dsbd.miller.28783.sbeok.flacf'}\n{'identifier': 'gd93-09-12.sony.vernon.18529.sbeok.shnf'}\n{'identifier': 'gd93-09-13.sbd.barbella.7361.sbeok.shnf'}\n{'identifier': 'gd93-09-13.sbd.miller-wiley.12096.sbeok.shnf'}\n{'identifier': 'gd93-09-14.dsbd.miller.28786.sbeok.flacf'}\n{'identifier': 'gd93-09-14.schoeps.wiley.13830.sbeok.shnf'}\n{'identifier': 'gd93-09-16.ST250s.brennecke-young.5703.sbeok.shnf'}\n{'identifier': 'gd93-09-16.sbd.herman.12370.sbeok.shnf'}\n{'identifier': 'gd93-09-16.schoeps-byron-dnk.raras.8375.sbeok.shnf'}\n{'identifier': 'gd93-09-17.ams.georges.5704.sbeok.shnf'}\n{'identifier': 'gd93-09-17.sbd.s2.wiley.18384.sbeok.shnf'}\n{'identifier': 'gd93-09-18.ST250s.brennecke-young.5079.sbeok.shnf'}\n{'identifier': 'gd93-09-18.sbd.herman.12369.sbeok.shnf'}\n{'identifier': 'gd93-09-20.ams-brennecke-young.4531.sbeok.shnf'}\n{'identifier': 'gd93-09-20.sbd.wiley.8766.sbeok.shnf'}\n{'identifier': 'gd93-09-21.ST250s.brennecke-young.4532.sbeok.shnf'}\n{'identifier': 'gd93-09-21.dsbd.miller.28765.sbeok.flacf'}\n{'identifier': 'gd93-09-21.schoeps-byron-dnk.raras.8919.sbeok.shnf'}\n{'identifier': 'gd93-09-21.set2.sbd.miller.28362.sbeok.flacf'}\n{'identifier': 'gd93-09-22.ST250s.brennecke-young.4533.sbeok.shnf'}\n{'identifier': 'gd93-09-22.sbd.yubah.565.sbeok.shnf'}\n{'identifier': 'gd93-09-22.schoeps-dankseed.raras.8712.sbeok.shnf'}\n{'identifier': 'gd93-09-24.sbd.miller.22249.sbeok.shnf'}\n{'identifier': 'gd93-09-24.schoeps.pujol.13308.sbeok.shnf'}\n{'identifier': 'gd93-09-25.dsbd.miller.28787.sbeok.flacf'}\n{'identifier': 'gd93-09-25.schoeps.pujol-fink.17356.sbeok.shnf'}\n{'identifier': 'gd93-09-26.dsbd.miller.28788.sbeok.flacf'}\n{'identifier': 'gd93-09-26.naks.neo_levo.11501.sbeok.shnf'}\n{'identifier': 'gd93-09-26.schoeps.pujol.13990.sbeok.shnf'}\n{'identifier': 'gd93-09-28.aud-sbd.miller.12850.sbeok.shnf'}\n{'identifier': 'gd93-09-28.schoeps.pujol.12378.sbeok.shnf'}\n{'identifier': 'gd93-09-29.dsbd.miller.28800.sbeok.flacf'}\n{'identifier': 'gd93-09-29.schoeps.pujol.12436.sbeok.shnf'}\n{'identifier': 'gd93-09-30.sbd.ladner.10064.sbeok.shnf'}\n{'identifier': 'gd93-09-30.schoeps.pujol-vernon.12380.sbeok.shnf'}\n{'identifier': 'gd93-12-08.sbd.larson-ladner.10281.sbeok.shnf'}\n{'identifier': 'gd93-12-09.sbd.vernon.7312.sbeok.shnf'}\n{'identifier': 'gd93-12-10.sbd.georges.1599.sbeok.shnf'}\n{'identifier': 'gd93-12-12.sbd.set2.nawrocki.19317.sbeok.shnf'}\n{'identifier': 'gd93-12-12.schoeps.vernon.7318.sbeok.shnf'}\n{'identifier': 'gd93-12-13.mk4-fob.vernon.7360.sbeok.shnf'}\n{'identifier': 'gd93-12-13.sbd-aud.vernon-ladner.11666.sbeok.shnf'}\n{'identifier': 'gd93-12-17.neumann.vernon.7348.sbeok.shnf'}\n{'identifier': 'gd93-12-17.sbd.cole.19287.sbeok.shnf'}\n{'identifier': 'gd93-12-18.aud.vernon.7277.sbeok.shnf'}\n{'identifier': 'gd93-12-18.sbd.ladner.20330.sbeok.shnf'}\n{'identifier': 'gd93-12-19.aud.vernon.7349.sbeok.shnf'}\n{'identifier': 'gd93-12-19.sbd.braverman.12573.sbeok.shnf'}\n{'identifier': 'gd94-02-25.aud.ladner.15096.sbeok.shnf'}\n{'identifier': 'gd94-02-26.neumann.miller.18095.sbeok.shnf'}\n{'identifier': 'gd94-02-27.aud.wankelsworth.12097.sbeok.shnf'}\n{'identifier': 'gd94-02-27.sbd.stephens.5972.sbeok.shnf'}\n{'identifier': 'gd94-03-04.sbd.kidder.8330.sbeok.shnf'}\n{'identifier': 'gd94-03-05.sbd.kidder.8331.sbeok.shnf'}\n{'identifier': 'gd94-03-06.sbd.kidder.8332.sbeok.shnf'}\n{'identifier': 'gd94-03-16.sbd.ladner.7778.sbeok.shnf'}\n{'identifier': 'gd94-03-17.sbd.ladner.8023.sbeok.shnf'}\n{'identifier': 'gd94-03-18.aud.braverman.13930.sbeok.shnf'}\n{'identifier': 'gd94-03-20.schoeps.ladner.15464.sbeok.shnf'}\n{'identifier': 'gd94-03-21.sbd.ladner.6258.sbeok.shnf'}\n{'identifier': 'gd94-03-23.naks.ladner.14257.shnf'}\n{'identifier': 'gd94-03-23.sbd-aud.herman.13793.sbeok.shnf'}\n{'identifier': 'gd94-03-24.naks.ladner.14258.sbeok.shnf'}\n{'identifier': 'gd94-03-25.naks.ladner.14189.sbeok.shnf'}\n{'identifier': 'gd94-03-27.naks.ladner.14260.sbeok.shnf'}\n{'identifier': 'gd94-03-27.sbd.miller.20926.sbeok.shnf'}\n{'identifier': 'gd94-03-28.aud-sbd.unknown.17263.sbeok.shnf'}\n{'identifier': 'gd94-03-28.naks.neo_levo.14261.sbeok.shnf'}\n{'identifier': 'gd94-03-30.sbd.miller.14832.sbeok.shnf'}\n{'identifier': 'gd94-03-31.sbd.miller.14833.sbeok.shnf'}\n{'identifier': 'gd94-04-01.sbd.miller.14834.sbeok.shnf'}\n{'identifier': 'gd94-04-04.sbd.ladner.11502.sbeok.shnf'}\n{'identifier': 'gd94-04-06.schoeps.ladner.10311.sbeok.shnf'}\n{'identifier': 'gd94-04-06.set1-fob.set2-sbd.miller.28358.sbeok.flacf'}\n{'identifier': 'gd94-04-06.sndchk.sbd.miller.13110.sbeok.shnf'}\n{'identifier': 'gd94-04-07.dsbd.hinko.20187.sbeok.shnf'}\n{'identifier': 'gd94-04-07.schoeps.ladner.10313.sbeok.shnf'}\n{'identifier': 'gd94-04-08.schoeps.ladner.10503.sbeok.shnf'}\n{'identifier': 'gd94-06-08.neumann.ladner.10065.sbeok.shnf'}\n{'identifier': 'gd94-06-09.schoeps.ladner.10066.sbeok.shnf'}\n{'identifier': 'gd94-06-10.neumann.ladner.10067.sbeok.shnf'}\n{'identifier': 'gd94-06-13.schoeps.pujol.8239.sbeok.shnf'}\n{'identifier': 'gd94-06-14.sbd.larson.12523.sbeok.shnf'}\n{'identifier': 'gd94-06-17.nak700.ladner.9774.sbeok.shnf'}\n{'identifier': 'gd94-06-18.sbd.ladner.12098.sbeok.shnf'}\n{'identifier': 'gd94-06-19.nak100.pujol.8240.sbeok.shnf'}\n{'identifier': 'gd94-06-19.sbd.larson.12524.sbeok.shnf'}\n{'identifier': 'gd94-06-24.sturtevant.cribbs.13443.sbeok.shnf'}\n{'identifier': 'gd94-06-25.sbd.walker.16471.sbeok.shnf'}\n{'identifier': 'gd94-06-26.sbd.ladner.14943.sbeok.shnf'}\n{'identifier': 'gd94-07-01.sbd.ladner.9369.sbeok.shnf'}\n{'identifier': 'gd94-07-02.sbd.stevens.10980.sbeok.shnf'}\n{'identifier': 'gd94-07-03.sbd.stevens.11691.sbeok.shnf'}\n{'identifier': 'gd94-07-13.sbd.georges.17029.sbeok.shnf'}\n{'identifier': 'gd94-07-13.wankelswurth.10384.sbeok.shnf'}\n{'identifier': 'gd94-07-16.ams.wiley.7461.sbeok.shnf'}\n{'identifier': 'gd94-07-17.ams.wankelswurth.10540.sbeok.shnf'}\n{'identifier': 'gd94-07-19.sbd.carr.8476.sbeok.shnf'}\n{'identifier': 'gd94-07-20.sbd.darkstar.12596.sbeok.shnf'}\n{'identifier': 'gd94-07-21.aud.ladner.12099.sbeok.shnf'}\n{'identifier': 'gd94-07-21.sbd.ladner.12322.sbeok.shnf'}\n{'identifier': 'gd94-07-23.sbd.fishman.14839.sbeok.shnf'}\n{'identifier': 'gd94-07-24.aud.candyman.10087.sbeok.shnf'}\n{'identifier': 'gd94-07-26.smith.ladner.10225.sbeok.shnf'}\n{'identifier': 'gd94-07-27.shure-smith.vernon.8725.sbeok.shnf'}\n{'identifier': 'gd94-07-29.fob-beyer.miller.25582.sbeok.shnf'}\n{'identifier': 'gd94-07-29.schoeps.dipietro.4078.sbeok.shnf'}\n{'identifier': 'gd94-07-31.sbd.runyon.2593.sbefail.shnf'}\n{'identifier': 'gd94-08-01.neumann.nawrocki.12522.sbeok.shnf'}\n{'identifier': 'gd94-08-01.set2-sbd.georges.1026.sbeok.shnf'}\n{'identifier': 'gd94-08-03.aud.unknown.8728.sbeok.shnf'}\n{'identifier': 'gd94-08-03.fob-schoeps.sisler-pujol.20291.sbeok.shnf'}\n{'identifier': 'gd94-08-04.akg.wiley.8729.sbefail.shnf'}\n{'identifier': 'gd94-09-16.akg.seff.2642.sbeok.shnf'}\n{'identifier': 'gd94-09-17.sbd.ladner.10068.sbeok.shnf'}\n{'identifier': 'gd94-09-18.nak300.ladner.10069.sbeok.shnf'}\n{'identifier': 'gd94-09-27.pnb.pujol.14021.sbeok.shnf'}\n{'identifier': 'gd94-09-28.pmb.pujol.14945.sbeok.shnf'}\n{'identifier': 'gd94-09-29.pmb.pujol.15078.sbeok.shnf'}\n{'identifier': 'gd94-09-29.sbd.larson.12100.sbeok.shnf'}\n{'identifier': 'gd94-10-01.pmb.pujol.15079.sbeok.shnf'}\n{'identifier': 'gd94-10-01.sbd.ashley-bertha.14869.sbeok.shnf'}\n{'identifier': 'gd94-10-01.sbd.gorinsky.4671.sbeok.shnf'}\n{'identifier': 'gd94-10-02.pmb.pujol.15111.sbeok.shnf'}\n{'identifier': 'gd94-10-03.pmb.pujol.15112.sbeok.shnf'}\n{'identifier': 'gd94-10-05.sbd.unknown.6483.sbeok.shnf'}\n{'identifier': 'gd94-10-05.sbd.unknown.8030.sbeok.shnf'}\n{'identifier': 'gd94-10-06.nak300.ericb.7743.sbeok.shnf'}\n{'identifier': 'gd94-10-07.aud.wiley.7993.sbeok.shnf'}\n{'identifier': 'gd94-10-09.akg.nawrocki.2619.sbeok.shnf'}\n{'identifier': 'gd94-10-09.sbd.braverman.17357.sbeok.shnf'}\n{'identifier': 'gd94-10-10.sbd.wiley.14198.sbeok.shnf'}\n{'identifier': 'gd94-10-10.schoeps.wiley.8042.sbefail.shnf'}\n{'identifier': 'gd94-10-11.akg.nawrocki.2620.sbeok.shnf'}\n{'identifier': 'gd94-10-11.set2-sbd.braverman.17959.sbeok.shnf'}\n{'identifier': 'gd94-10-13.sbd.wiley.7800.sbefail.shnf'}\n{'identifier': 'gd94-10-14.sbd.perkins.9054.sbeok.shnf'}\n{'identifier': 'gd94-10-15.nak300.wiley.8043.sbeok.shnf'}\n{'identifier': 'gd94-10-15.sbd.miller.27249.sbeok.flacf'}\n{'identifier': 'gd94-10-15.set1-sbd.wiley.16466.sbeok.shnf'}\n{'identifier': 'gd94-10-17.sbd.carr.14615.sbeok.shnf'}\n{'identifier': 'gd94-10-18.schoeps.ladner.10086.sbeok.shnf'}\n{'identifier': 'gd94-10-19.bk4011.wiley.7744.sbeok.shnf'}\n{'identifier': 'gd94-11-29.schoeps.ladner.10541.sbeok.shnf'}\n{'identifier': 'gd94-11-30.schoeps.ladner.10542.sbeok.shnf'}\n{'identifier': 'gd94-12-01.aud.ladner.10932.sbeok.shnf'}\n{'identifier': 'gd94-12-08.neumann.seff.5611.sbeok.shnf'}\n{'identifier': 'gd94-12-09.sbd.miller.12052.sbeok.shnf'}\n{'identifier': 'gd94-12-11.sbd.unknown.12525.sbeok.shnf'}\n{'identifier': 'gd94-12-12.schoeps.ladner.10933.sbeok.shnf'}\n{'identifier': 'gd94-12-15.akg.ladner.14266.sbeok.shnf'}\n{'identifier': 'gd94-12-16.nak300.wankelswurth.10543.sbeok.shnf'}\n{'identifier': 'gd94-12-18.akg.ladner.13530.sbeok.shnf'}\n{'identifier': 'gd94-12-19.sbd.vernon.20712.sbeok.shnf'}\n{'identifier': 'gd94-12-19.schoeps.seff.2521.sbeok.shnf'}\n{'identifier': 'gd95-02-19.schoeps.10544.sbeok.shnf'}\n{'identifier': 'gd95-02-20.sbd.1297.sbeok.shnf'}\n{'identifier': 'gd95-02-21.dsbd.stephens.8840.sbeok.shnf'}\n{'identifier': 'gd95-02-24.AT.5493.sbeok.shnf'}\n{'identifier': 'gd95-02-25.aud.5494.sbeok.shnf'}\n{'identifier': 'gd95-02-26.aud.5495.sbeok.shnf'}\n{'identifier': 'gd95-03-17.sbd.16057.sbeok.shnf'}\n{'identifier': 'gd95-03-17.schoeps.13400.sbeok.shnf'}\n{'identifier': 'gd95-03-17.soundcheck.sbd.17951.sbeok.shnf'}\n{'identifier': 'gd95-03-18.sbd.1362.sbeok.shnf'}\n{'identifier': 'gd95-03-19.schoeps.15097.sbeok.shnf'}\n{'identifier': 'gd95-03-19.schoeps.wiley.7479.shnf'}\n{'identifier': 'gd95-03-22.akg.12179.sbeok.shnf'}\n{'identifier': 'gd95-03-22.schoeps.11623.sbeok.shnf'}\n{'identifier': 'gd95-03-23.sbd.1369.sbeok.shnf'}\n{'identifier': 'gd95-03-23.sbd.miller.25273.sbeok.flacf'}\n{'identifier': 'gd95-03-24.akg.5668.sbeok.shnf'}\n{'identifier': 'gd95-03-26.sbd.3909.sbeok.shnf'}\n{'identifier': 'gd95-03-27.sbd.3194.sbeok.shnf'}\n{'identifier': 'gd95-03-29.akg.16088.sbeok.shnf'}\n{'identifier': 'gd95-03-29.naks.georges.30516.sbeok.shnf'}\n{'identifier': 'gd95-03-29p.sbd.18096.sbeok.shnf'}\n{'identifier': 'gd95-03-30.sbd.4161.sbeok.shnf'}\n{'identifier': 'gd95-04-01.sbd.5287.sbeok.shnf'}\n{'identifier': 'gd95-04-02.sbd.11622.sbeok.shnf'}\n{'identifier': 'gd95-04-04.schoeps.10545.sbeok.shnf'}\n{'identifier': 'gd95-04-05.sbd.18097.sbeok.shnf'}\n{'identifier': 'gd95-04-05.schoeps.10385.sbeok.shnf'}\n{'identifier': 'gd95-04-07.sbd.7688.sbeok.shnf'}\n{'identifier': 'gd95-05-19.schoeps.18704.sbeok.shnf'}\n{'identifier': 'gd95-05-20.akg.18798.sbeok.shnf'}\n{'identifier': 'gd95-05-20.nak.12101.wankleswurth.sbeok.shnf'}\n{'identifier': 'gd95-05-21.nak.12102.wankleswurth.sbeok.shnf'}\n{'identifier': 'gd95-05-21.sbd.ladner.19419.sbeok.shnf'}\n{'identifier': 'gd95-05-21.schoeps.18799.sbeok.shnf'}\n{'identifier': 'gd95-05-24.neumann.18800.sbeok.shnf'}\n{'identifier': 'gd95-05-25.neumann.18801.sbeok.shnf'}\n{'identifier': 'gd95-05-26.sbd.2663.sbeok.shnf'}\n{'identifier': 'gd95-05-28.schoeps.9992.sbeok.shnf'}\n{'identifier': 'gd95-05-29.schoeps.10070.sbeok.shnf'}\n{'identifier': 'gd95-06-02.sbd.583.sbeok.shnf'}\n{'identifier': 'gd95-06-03.naks.10153.sbeok.shnf'}\n{'identifier': 'gd95-06-04.akg.2538.sbeok.shnf'}\n{'identifier': 'gd95-06-04.sbd.13929.sbeok.shnf'}\n{'identifier': 'gd95-06-15.schoeps.7745.sbeok.shnf'}\n{'identifier': 'gd95-06-18.aud.2543.sbeok.shnf'}\n{'identifier': 'gd95-06-19.daud.pujol.7994.sbeok.shnf'}\n{'identifier': 'gd95-06-19.naks.10934.sbeok.shnf'}\n{'identifier': 'gd95-06-21.naks.5971.sbeok.shnf'}\n{'identifier': 'gd95-06-22.daud.wiley.8767.sbeok.shnf'}\n{'identifier': 'gd95-06-22.naks.18802.sbeok.shnf'}\n{'identifier': 'gd95-06-24.aud.schoeps-oade.wiley.8819.sbeok.shnf'}\n{'identifier': 'gd95-06-24.naks.12271.sbeok.shnf'}\n{'identifier': 'gd95-06-25.nak300.stine.10935.sbeok.shnf'}\n{'identifier': 'gd95-06-25.sbd.2236.sbefail.shnf'}\n{'identifier': 'gd95-06-27.schoeps.10180.sbeok.shnf'}\n{'identifier': 'gd95-06-28.schoeps.10154.sbeok.shnf'}\n{'identifier': 'gd95-06-30.schoeps.3376.sbeok.shnf'}\n{'identifier': 'gd95-07-02.aud.ball.587.sbeok.shnf'}\n{'identifier': 'gd95-07-02.aud.unk.12578.sbeok.shnf'}\n{'identifier': 'gd95-07-05.naks.1819.sbeok.shnf'}\n{'identifier': 'gd95-07-05.sbd.9370.sbeok.shnf'}\n{'identifier': 'gd95-07-06.NEWsbd.30888.sbeok.shnf_shn'}\n{'identifier': 'gd95-07-06.sbd.9119.sbeok.shnf'}\n{'identifier': 'gd95-07-06.schoeps.5452.sbeok.shnf'}\n{'identifier': 'gd95-07-08.BK401s.4362.sbeok.shnf'}\n{'identifier': 'gd95-07-08.sbd.10071.sbeok.shnf'}\n{'identifier': 'gd95-07-09.sbd.7233.sbeok.shnf'}\n{'identifier': 'gd_nrps70-05-15.sbd.reynolds-kaplan.29473.shnf'}\n{'identifier': 'gd_nrps70-06-24.aud.pcrp5.23062.sbeok.flacf'}\n{'identifier': 'github.com-faker-ruby-faker_-_2020-05-04_20-59-32'}\n{'identifier': 'github.com-faker-ruby-faker_-_2020-05-05_10-34-02'}\n{'identifier': 'github.com-faker-ruby-faker_-_2020-06-14_21-43-58'}\n{'identifier': 'gratefuldead-americanbeauty19702014'}\n{'identifier': 'gratefuldead73'}\n{'identifier': 'gratefuldead_744'}\n{'identifier': 'hunterforeword'}\n{'identifier': 'jgb2006-07-08aud.16'}\n{'identifier': 'june1976'}\n{'identifier': 'kw2005-08-27'}\n{'identifier': 'moon_20200613'}\n{'identifier': 'mooncat'}\n{'identifier': 'mrb2013-02-22.matrix'}\n{'identifier': 'mrb2013-03-02.sbd'}\n{'identifier': 'phil2005-07-16.akg481.flac16'}\n{'identifier': 'philj555_aol_Set1_201308'}\n{'identifier': 'podcast_jamcast_tent-city-w-ari-shaffir_367305767'}\n{'identifier': 'podcast_jamcast_women-are-smarter-w-allen-st_365566478'}\n{'identifier': 'podcast_student-life-the-game-show_episode-19-everyone-thought-t_1000411438171'}\n{'identifier': 'podcast_student-life-the-game-show_episode-21-warren-haynes_1000412522000'}\n{'identifier': 'podcast_student-life-the-game-show_episode-38-tertium-quid-_1000420352256'}\n{'identifier': 'podcast_student-life-the-game-show_episode-40-they-wave-to-each_1000421349936'}\n{'identifier': 'rbertel'}\n{'identifier': 'rebelradio70_CRSB'}\n{'identifier': 'reddirtruckus-andf2017'}\n{'identifier': 'shakedown-street-1'}\n{'identifier': 'shakedown-street-1_202005'}\n{'identifier': 'skullgirl'}\n{'identifier': 'smilinjack_202005'}\n{'identifier': 'wg2005-10-31'}\n{'identifier': 'worddocument'}\n{'identifier': 'yahoo-groups-2018-06-09T11-07-03Z-dcd372'}\n{'identifier': 'zebu2018-10-09'}\n{'identifier': 'zebu2018-12-17'}\n"
    }
   ],
   "source": [
    "for sr in search_results:\n",
    "    #print(sr)"
   ]
  },
  {
   "cell_type": "code",
   "execution_count": 14,
   "metadata": {
    "tags": []
   },
   "outputs": [
    {
     "output_type": "stream",
     "name": "stdout",
     "text": "Item(identifier='gd1990-03-21.149412.FOB.Schoeps.Mattes.Miller.Noel.reMaster.t-flac1648')\nItem(identifier='gd1990-03-21.aud.gidley.91767.sbeok.flac16')\nItem(identifier='gd1990-03-21.mtx.hansokolow.96638.flac16')\nItem(identifier='gd1990-03-21.sbd.miller.107870.flac16')\nItem(identifier='gd1990-03-22.111464.unknown.sbd.shnf')\nItem(identifier='gd1990-03-22.125880.mk4.fixed.48khz.flac16')\nItem(identifier='gd1990-03-22.125881.mk4.fixed.flac16')\nItem(identifier='gd1990-03-22.139224.sbd.miller.truck-mix.flac')\nItem(identifier='gd1990-03-22.141112.OTS.AKG.Akerman.Miller.Noel.t-flac1648')\nItem(identifier='gd1990-03-22.141931.FOB.Schoeps.Mattes.Miller.Noel.t-flac1648')\nItem(identifier='gd1990-03-22.143170.FOB.Schoeps.Mattes.Miller.Noel.REMASTER.t-flac1648')\nItem(identifier='gd1990-03-22.149413.FOB.Schoeps.Mattes.Miller.Noel.reMaster.t-flac1648')\nItem(identifier='gd1990-03-22.aud.gidley.91779.sbeok.flac16')\nItem(identifier='gd1990-03-22.dts.dan.31772.sbeok.shnf')\nItem(identifier='gd1990-03-22.dts.tobin.126699.flac16')\nItem(identifier='gd1990-03-22.mtx.dan.28040.sbeok.shnf')\nItem(identifier='gd1990-03-22.mtx.seamons.113144.flac16')\nItem(identifier='gd1990-03-22.mtx.tobin.126698.flac16')\nItem(identifier='gd1990-03-22.sbd.miller.107871.flac16')\nItem(identifier='gd1990-03-24.125389.nak.cm300.cp4.48khz.flac16')\nItem(identifier='gd1990-03-24.125390.nak-cm300.cp4.flac16')\nItem(identifier='gd1990-03-24.127119.mtx.dusborne.flac16')\nItem(identifier='gd1990-03-24.141113.OTS.AKG.Akerman.Miller.Noel.t-flac1648')\nItem(identifier='gd1990-03-24.142989.FOB.Schoeps.Mattes.Miller.Noel.t-flac1648')\nItem(identifier='gd1990-03-24.147572.senn441.boedicker.flac1644')\nItem(identifier='gd1990-03-24.AKG451.Berger.Currier.Keo.120742.Flac2496')\nItem(identifier='gd1990-03-24.AKG451.Berger.Currier.Keo.120743.Flac1644')\nItem(identifier='gd1990-03-24.aud.gildey.91828.sbeok.flac16')\nItem(identifier='gd1990-03-24.dts.32075.shnf')\nItem(identifier='gd1990-03-24.mtx.haugh.32082.sbeok.shnf')\nItem(identifier='gd1990-03-24.sbd.miller.107873.flac16')\nItem(identifier='gd1990-03-24.sennME80.wklitz.94287.flac1648')\nItem(identifier='gd1990-03-24.sennME80.wklitz.94288.flac16')\nItem(identifier='gd1990-03-25.127157.mtx.dusborne.flac16')\nItem(identifier='gd1990-03-25.130429.nak304akg414.flac1648')\nItem(identifier='gd1990-03-25.130430.nak304akg414.flac16')\nItem(identifier='gd1990-03-25.132707.28389-fix.mattes.miller.flac16')\nItem(identifier='gd1990-03-25.135267.sbd-pc.miller.flac16')\nItem(identifier='gd1990-03-25.141114.OTS.AKG.Akerman.Miller.Noel.t-flac1648')\nItem(identifier='gd1990-03-25.142990.FOB.Schoeps.Mattes.Miller.Noel.t-flac1648')\nItem(identifier='gd1990-03-25.143188.FOB-Schoeps.Mattes-Miller-Noel.REMASTER.t-flac1648')\nItem(identifier='gd1990-03-25.149394.FOB.Schoeps.Mattes.Miller.Noel.reMaster.t-flac1648')\nItem(identifier='gd1990-03-25.AKG451.Berger.Currier.Keo.120858.Flac1644')\nItem(identifier='gd1990-03-25.AKG451.Berger.Currier.Keo.120859.Flac2496')\nItem(identifier='gd1990-03-25.Nak300CP4.Floater.Keo.114256.Flac2496')\nItem(identifier='gd1990-03-25.Nak300CP4.Floater.Keo.114260.Flac1644')\nItem(identifier='gd1990-03-25.aud.gidley.91879.sbeok.flac16')\nItem(identifier='gd1990-03-25.sbd.hollister.7508.shnf')\nItem(identifier='gd1990-03-25.sbd.miller.87347.sbeok.flac16')\nItem(identifier='gd1990-03-25.sbd.nickspicks.4688.shnf')\nItem(identifier='gd1990-03-25.senn-me80.litzenberger.91500.sbeok.flac16')\nItem(identifier='gd1990-03-26.122541.mk21.48khz.flac16')\nItem(identifier='gd1990-03-26.122542.mk21.sbeok.flac16')\nItem(identifier='gd1990-03-26.127210.mtx.dusborne.flac16')\nItem(identifier='gd1990-03-26.133045.122541-fix.mattes.48khz.flac16')\nItem(identifier='gd1990-03-26.135063.bltz.flac2496')\nItem(identifier='gd1990-03-26.135497.sbd.miller.flac16')\nItem(identifier='gd1990-03-26.141115.OTS.AKG.Akerman.Miller.Noel.t-flac1648')\nItem(identifier='gd1990-03-26.142991.FOB.Schoeps.Mattes.Miller.Noel.t-flac1648')\nItem(identifier='gd1990-03-26.149395.FOB.Schoeps.Mattes.Miller.Noel.reMaster.t-flac1648')\nItem(identifier='gd1990-03-26.AKG451.Berger.Currier.Keo.120942.Flac2496')\nItem(identifier='gd1990-03-26.AKG451.Berger.Currier.Keo.120943.Flac1644')\nItem(identifier='gd1990-03-26.FM.Fitzy.Keo.126788.Flac2496')\nItem(identifier='gd1990-03-26.FM.Fitzy.Keo.126789.Flac1644')\nItem(identifier='gd1990-03-26.FM.richp.Keo.112092.Flac1644')\nItem(identifier='gd1990-03-26.FM.richp.Keo.112093.Flac2496')\nItem(identifier='gd1990-03-26.aud.gidley.91916.sbeok.flac16')\nItem(identifier='gd1990-03-26.sbd.griesman.6697.sbeok.shnf')\nItem(identifier='gd1990-03-26.sbd.hollister.7509.shnf')\nItem(identifier='gd1990-03-26.sbd.miller.87350.sbeok.flac16')\nItem(identifier='gd1990-03-26.sennME80.wklitz.94411.flac16')\nItem(identifier='gd1990-03-28.124834.AT835.laurentis.flac16')\nItem(identifier='gd1990-03-28.132758.hillwig-stubbe.mattes.miller.flac16')\nItem(identifier='gd1990-03-28.132872.mtx.bhp.flac16')\nItem(identifier='gd1990-03-28.132873.dts.bhp.flac16')\nItem(identifier='gd1990-03-28.135520.sbd-pc.miller.flac16')\nItem(identifier='gd1990-03-28.141954.FOB.Schoeps.Mattes.Miller.Noel.t-flac1648')\nItem(identifier='gd1990-03-28.149443.FOB.Schoeps.Mattes.Miller.Noel.reMaster.t-flac1648')\nItem(identifier='gd1990-03-28.AKG451.Berger.Currier.Keo.121786.Flac2496')\nItem(identifier='gd1990-03-28.AKG451.Berger.Currier.Keo.121788.Flac1644')\nItem(identifier='gd1990-03-28.Senn441.Fitzy.Keo.126837.Flac2496')\nItem(identifier='gd1990-03-28.Senn441.Fitzy.Keo.126838.Flac1644')\nItem(identifier='gd1990-03-28.aud.andrewf.87701.sbeok.flac16')\nItem(identifier='gd1990-03-28.mtx.dts.haugh.95825.flac16')\nItem(identifier='gd1990-03-28.mtx.haugh.95943.flac16')\nItem(identifier='gd1990-03-28.nak300.mandel.91202.sbeok.shnf')\nItem(identifier='gd1990-03-28.sbd.cutler.hollister.7510.sbeok.shnf')\nItem(identifier='gd1990-03-28.sbd.gorinsky.tetzeli.fix-8510.33833.sbeok.shnf')\nItem(identifier='gd1990-03-28.sbd.miller.87643.sbeok.flac16')\nItem(identifier='gd1990-03-28.sbd.nawrocki.3872.sbeok.shnf')\nItem(identifier='gd1990-03-28.sbd.nawrocki.4685.shnf')\nItem(identifier='gd1990-03-28.schoeps.mattes.miller.28381.sbeok.shnf')\nItem(identifier='gd1990-03-28.senn-me80.litzenberger.91355.sbeok.flac16')\nItem(identifier='gd1990-03-29.123924.fixed.mk4.48khz.flac16')\nItem(identifier='gd1990-03-29.123924.mk4.48khz.flac16')\nItem(identifier='gd1990-03-29.123925.fixed.mk4.flac16')\nItem(identifier='gd1990-03-29.123925.mk4.flac16')\nItem(identifier='gd1990-03-29.127385.mtx.eichorn.flac16')\nItem(identifier='gd1990-03-29.141955.FOB.Schoeps.Mattes.Miller.Noel.t-flac1648')\nItem(identifier='gd1990-03-29.143171.FOB.Schoeps.Mattes.Miller.Noel.REMASTER.t-flac1648')\nItem(identifier='gd1990-03-29.149396.sbd.ultramatrix.miller.flac24')\nItem(identifier='gd1990-03-29.149419.UltraMatrix.sbd.cm.miller.flac16')\nItem(identifier='gd1990-03-29.149589.PandP-aud.tobin.flac24')\nItem(identifier='gd1990-03-29.149590.PandP-aud.tobin.flac16')\nItem(identifier='gd1990-03-29.149591.mtx.tobin.flac24')\nItem(identifier='gd1990-03-29.149592.mtx.tobin.flac16')\nItem(identifier='gd1990-03-29.149593.dts.tobin.flac16')\nItem(identifier='gd1990-03-29.149594.5-1.tobin.flac1648')\nItem(identifier='gd1990-03-29.AKG451.Berger.Currier.Keo.121842.Flac2496')\nItem(identifier='gd1990-03-29.AKG451.Berger.Currier.Keo.121843.Flac1644')\nItem(identifier='gd1990-03-29.Senn441.Fitzy.Keo.126846.Flac2496')\nItem(identifier='gd1990-03-29.Senn441.Fitzy.Keo.126847.Flac1644')\nItem(identifier='gd1990-03-29.aud.nawrocki.29191.sbeok.flac16')\nItem(identifier='gd1990-03-29.mtx.hansokolow.97118.flac16')\nItem(identifier='gd1990-03-29.nak300.andrewf.83612.flac16')\nItem(identifier='gd1990-03-29.sbd.miller.tetzeli.fix-26341.33925.reflac.flac16')\nItem(identifier='gd1990-03-29.sbd.unknown.4686.sbefail.shnf')\nItem(identifier='gd1990-03-29.senn-me80.litzenberger.91347.sbeok.flac16')\nItem(identifier='gd1990-03-30.123934.NAK300.tobin.flac16')\nItem(identifier='gd1990-03-30.138584.BK4011.OTS.unknown.Ammons.Noel.t-flac16')\nItem(identifier='gd1990-03-30.141956.FOB.Schoeps.Mattes.Miller.Noel.t-flac1648')\nItem(identifier='gd1990-03-30.149442.FOB.Schoeps.Mattes.Miller.Noel.reMaster.t-flac1648')\nItem(identifier='gd1990-03-30.Senn441.Fitzy.Keo.126885.Flac2496')\nItem(identifier='gd1990-03-30.Senn441.Fitzy.Keo.126886.Flac1644')\nItem(identifier='gd1990-03-30.dts.tobin.123945.flac16')\nItem(identifier='gd1990-03-30.fm.greider-nawrocki.3390.sbefail.shnf')\nItem(identifier='gd1990-03-30.fm.grieder.4687.shnf')\nItem(identifier='gd1990-03-30.mtx.tobin.123944.flac16')\nItem(identifier='gd1990-03-30.sbd.barbella.8366.sbeok.shnf')\nItem(identifier='gd1990-03-30.sbd.cutler-mix.miller.89173.sbeok.flac16')\nItem(identifier='gd1990-03-30.sbd.gorinsky.tetzeli.fix-8511.33926.sbeok.shnf')\nItem(identifier='gd1990-03-30.sbd.miller.87742.sbeok.flac16')\nItem(identifier='gd1990-04-01.131204.cmc521.fob.deal.jwpetty.flac16')\nItem(identifier='gd1990-04-01.135535.sbd-pc.miller.flac16')\nItem(identifier='gd1990-04-01.145218.OTS.Senn.Hessberg.Miller.Noel.t-flac2496')\nItem(identifier='gd1990-04-01.145747.ots.senn421.hessberg.miller.noel.t-flac16')\nItem(identifier='gd1990-04-01.149445.s2.FOB.Schoeps.Brotman.Mattes.Miller.Noel.t-flac1648')\nItem(identifier='gd1990-04-01.fob.unknown.5063.sbeok.shnf')\nItem(identifier='gd1990-04-01.matrix.sirmick.35168.sbeok.flac16')\nItem(identifier='gd1990-04-01.mtx.hansokolow.97203.flac16')\nItem(identifier='gd1990-04-01.nak.cohen.106757.flac16')\nItem(identifier='gd1990-04-01.sbd.gorinsky.tetzeli.fix-8512.33927.sbeok.shnf')\nItem(identifier='gd1990-04-01.sbd.hollister.7512.sbeok.shnf')\nItem(identifier='gd1990-04-01.sbd.miller.87809.sbeok.flac16')\nItem(identifier='gd1990-04-02.131205.cmc421.fob.katzeff-deal.jwpetty.flac16')\nItem(identifier='gd1990-04-02.133276.131205-fix.deal-katzeff.flac16')\nItem(identifier='gd1990-04-02.137933.dbx.hale.flac16')\nItem(identifier='gd1990-04-02.142002.FOB.Schoeps.Brotman.Mattes.Miller.Noel.t-flac1648')\nItem(identifier='gd1990-04-02.143172.FOB.Schoeps.Brotman.Mattes.Miller.Noel.REMASTER.t-flac1648')\nItem(identifier='gd1990-04-02.145219.OTS.Senn.Hessberg.Miller.Noel.t-flac2496')\nItem(identifier='gd1990-04-02.145749.ots.senn421.hessberg.miller.noel.t-flac16')\nItem(identifier='gd1990-04-02.149446.FOB.Schoeps.Brotman.Mattes.Miller.Noel.reMaster.t-flac1648')\nItem(identifier='gd1990-04-02.fob.unknown.5064.sbeok.shnf')\nItem(identifier='gd1990-04-02.mtx.hansokolow.97216.flac16')\nItem(identifier='gd1990-04-02.nak.cohen.106763.flac16')\nItem(identifier='gd1990-04-02.sbd.miller.12198.sbeok.shnf')\nItem(identifier='gd1990-04-02.sbd.miller.13391.sbeok.shnf')\nItem(identifier='gd1990-04-03.131206.cmc44.fob.katzeff.jwpetty.flac16')\nItem(identifier='gd1990-04-03.133277.131206-fix.deal-katzeff.flac16')\nItem(identifier='gd1990-04-03.135201.bltz.flac24')\nItem(identifier='gd1990-04-03.142003.FOB.Schoeps.Brotman.Mattes.Miller.Noel.t-flac1648')\nItem(identifier='gd1990-04-03.142216.FOB.Schoeps.Katzeff.Ammons.Noel.fix.t-flac1648')\nItem(identifier='gd1990-04-03.145220.OTS.Senn.Hessberg.Miller.Noel.t-flac2496')\nItem(identifier='gd1990-04-03.145750.ots.senn.me80.hessberg.miller.noel.t-flac16')\nItem(identifier='gd1990-04-03.149447.FOB.Schoeps.Brotman.Mattes.Miller.Noel.reMaster.t-flac1648')\nItem(identifier='gd1990-04-03.fob.unknown.3732.sbeok.shnf')\nItem(identifier='gd1990-04-03.mtx.hansokolow.97566.flac16')\nItem(identifier='gd1990-04-03.nak.cohen.106904.flac16')\nItem(identifier='gd1990-05-05.131207.cmc521.fob.deal.jwpetty.flac16')\nItem(identifier='gd1990-05-05.134997.bltz.flac2496')\nItem(identifier='gd1990-05-05.137021.set1.sbd.miller.flac24')\nItem(identifier='gd1990-05-05.137088.set1.sbd.miller.flac16')\nItem(identifier='gd1990-05-05.138648.bk4011.french.sbeok.flac16')\nItem(identifier='gd1990-05-05.138649.fm.french.sbeok.flac16')\nItem(identifier='gd1990-05-05.138754.FOB.Schoeps.BK.Katzeff.Berner.Ammons.Noel.t-flac16')\nItem(identifier='gd1990-05-05.141262.sbd.miller.flac2496')\nItem(identifier='gd1990-05-05.141275.UltraMatrix.sbd.cm.miller.flac1644')\nItem(identifier='gd1990-05-05.141939.FOB.Schoeps.BK.Mattes.Miler.Noel.t-flac1648')\nItem(identifier='gd1990-05-05.143960.InHouseFM.Dalton-Miller-Noel.t-flac1644')\nItem(identifier='gd1990-05-05.dsbd.nickspicks.4850.shnf')\nItem(identifier='gd1990-05-05.nak300.lech.116818.flac')\nItem(identifier='gd1990-05-05.set1.fob.schoeps.b-and-d.andrewf.97423.flac16')\nItem(identifier='gd1990-05-06.111299.NeumannKMF4.daweez.d5scott.flac16')\nItem(identifier='gd1990-05-06.131208.cmc54.fob.deal.jwpetty.flac16')\nItem(identifier='gd1990-05-06.137861.french-tomD.bk4011.flac1644')\nItem(identifier='gd1990-05-06.141263.sbd.miller.flac2496')\nItem(identifier='gd1990-05-06.141276.UltraMatrix.sbd.cm.miller.flac1644')\nItem(identifier='gd1990-05-06.141940.FOB.Schoeps.BK.Mattes.Miler.Noel.t-flac1648')\nItem(identifier='gd1990-05-06.dsbd.miller.80278.sbeok.flac16')\nItem(identifier='gd1990-05-06.mtx.hansokolow.97237.flac16')\nItem(identifier='gd1990-05-06.nak300.lech.116826.flac')\n"
    },
    {
     "output_type": "error",
     "ename": "KeyboardInterrupt",
     "evalue": "",
     "traceback": [
      "\u001b[0;31m---------------------------------------------------------------------------\u001b[0m",
      "\u001b[0;31mKeyboardInterrupt\u001b[0m                         Traceback (most recent call last)",
      "\u001b[0;32m<ipython-input-14-1809d2b2673a>\u001b[0m in \u001b[0;36m<module>\u001b[0;34m\u001b[0m\n\u001b[1;32m      1\u001b[0m \u001b[0mi\u001b[0m \u001b[0;34m=\u001b[0m \u001b[0;36m0\u001b[0m\u001b[0;34m\u001b[0m\u001b[0;34m\u001b[0m\u001b[0m\n\u001b[0;32m----> 2\u001b[0;31m \u001b[0;32mfor\u001b[0m \u001b[0msri\u001b[0m \u001b[0;32min\u001b[0m \u001b[0msearch_results\u001b[0m\u001b[0;34m.\u001b[0m\u001b[0miter_as_items\u001b[0m\u001b[0;34m(\u001b[0m\u001b[0;34m)\u001b[0m\u001b[0;34m:\u001b[0m\u001b[0;34m\u001b[0m\u001b[0;34m\u001b[0m\u001b[0m\n\u001b[0m\u001b[1;32m      3\u001b[0m     \u001b[0;32mif\u001b[0m \u001b[0mi\u001b[0m \u001b[0;34m<\u001b[0m \u001b[0;36m20\u001b[0m\u001b[0;34m:\u001b[0m\u001b[0;34m\u001b[0m\u001b[0;34m\u001b[0m\u001b[0m\n\u001b[1;32m      4\u001b[0m         \u001b[0mprint\u001b[0m\u001b[0;34m(\u001b[0m\u001b[0msri\u001b[0m\u001b[0;34m)\u001b[0m\u001b[0;34m\u001b[0m\u001b[0;34m\u001b[0m\u001b[0m\n\u001b[1;32m      5\u001b[0m         \u001b[0mi\u001b[0m\u001b[0;34m+=\u001b[0m\u001b[0mi\u001b[0m\u001b[0;34m\u001b[0m\u001b[0;34m\u001b[0m\u001b[0m\n",
      "\u001b[0;32m~/Dev/internetarchive/internetarchive/search.py\u001b[0m in \u001b[0;36m__next__\u001b[0;34m(self)\u001b[0m\n\u001b[1;32m    202\u001b[0m \u001b[0;34m\u001b[0m\u001b[0m\n\u001b[1;32m    203\u001b[0m     \u001b[0;32mdef\u001b[0m \u001b[0m__next__\u001b[0m\u001b[0;34m(\u001b[0m\u001b[0mself\u001b[0m\u001b[0;34m)\u001b[0m\u001b[0;34m:\u001b[0m\u001b[0;34m\u001b[0m\u001b[0;34m\u001b[0m\u001b[0m\n\u001b[0;32m--> 204\u001b[0;31m         \u001b[0;32mreturn\u001b[0m \u001b[0mself\u001b[0m\u001b[0;34m.\u001b[0m\u001b[0miterator\u001b[0m\u001b[0;34m.\u001b[0m\u001b[0m__next__\u001b[0m\u001b[0;34m(\u001b[0m\u001b[0;34m)\u001b[0m\u001b[0;34m\u001b[0m\u001b[0;34m\u001b[0m\u001b[0m\n\u001b[0m\u001b[1;32m    205\u001b[0m \u001b[0;34m\u001b[0m\u001b[0m\n\u001b[1;32m    206\u001b[0m     \u001b[0;32mdef\u001b[0m \u001b[0mnext\u001b[0m\u001b[0;34m(\u001b[0m\u001b[0mself\u001b[0m\u001b[0;34m)\u001b[0m\u001b[0;34m:\u001b[0m\u001b[0;34m\u001b[0m\u001b[0;34m\u001b[0m\u001b[0m\n",
      "\u001b[0;32m~/Dev/internetarchive/internetarchive/search.py\u001b[0m in \u001b[0;36m_get_item_from_search_result\u001b[0;34m(self, search_result)\u001b[0m\n\u001b[1;32m    171\u001b[0m \u001b[0;34m\u001b[0m\u001b[0m\n\u001b[1;32m    172\u001b[0m     \u001b[0;32mdef\u001b[0m \u001b[0m_get_item_from_search_result\u001b[0m\u001b[0;34m(\u001b[0m\u001b[0mself\u001b[0m\u001b[0;34m,\u001b[0m \u001b[0msearch_result\u001b[0m\u001b[0;34m)\u001b[0m\u001b[0;34m:\u001b[0m\u001b[0;34m\u001b[0m\u001b[0;34m\u001b[0m\u001b[0m\n\u001b[0;32m--> 173\u001b[0;31m         \u001b[0;32mreturn\u001b[0m \u001b[0mself\u001b[0m\u001b[0;34m.\u001b[0m\u001b[0msession\u001b[0m\u001b[0;34m.\u001b[0m\u001b[0mget_item\u001b[0m\u001b[0;34m(\u001b[0m\u001b[0msearch_result\u001b[0m\u001b[0;34m[\u001b[0m\u001b[0;34m'identifier'\u001b[0m\u001b[0;34m]\u001b[0m\u001b[0;34m)\u001b[0m\u001b[0;34m\u001b[0m\u001b[0;34m\u001b[0m\u001b[0m\n\u001b[0m\u001b[1;32m    174\u001b[0m \u001b[0;34m\u001b[0m\u001b[0m\n\u001b[1;32m    175\u001b[0m     \u001b[0;32mdef\u001b[0m \u001b[0miter_as_results\u001b[0m\u001b[0;34m(\u001b[0m\u001b[0mself\u001b[0m\u001b[0;34m)\u001b[0m\u001b[0;34m:\u001b[0m\u001b[0;34m\u001b[0m\u001b[0;34m\u001b[0m\u001b[0m\n",
      "\u001b[0;32m~/Dev/internetarchive/internetarchive/session.py\u001b[0m in \u001b[0;36mget_item\u001b[0;34m(self, identifier, item_metadata, request_kwargs)\u001b[0m\n\u001b[1;32m    249\u001b[0m             logger.debug('no metadata provided for \"{0}\", '\n\u001b[1;32m    250\u001b[0m                          'retrieving now.'.format(identifier))\n\u001b[0;32m--> 251\u001b[0;31m             \u001b[0mitem_metadata\u001b[0m \u001b[0;34m=\u001b[0m \u001b[0mself\u001b[0m\u001b[0;34m.\u001b[0m\u001b[0mget_metadata\u001b[0m\u001b[0;34m(\u001b[0m\u001b[0midentifier\u001b[0m\u001b[0;34m,\u001b[0m \u001b[0mrequest_kwargs\u001b[0m\u001b[0;34m)\u001b[0m\u001b[0;34m\u001b[0m\u001b[0;34m\u001b[0m\u001b[0m\n\u001b[0m\u001b[1;32m    252\u001b[0m         \u001b[0mmediatype\u001b[0m \u001b[0;34m=\u001b[0m \u001b[0mitem_metadata\u001b[0m\u001b[0;34m.\u001b[0m\u001b[0mget\u001b[0m\u001b[0;34m(\u001b[0m\u001b[0;34m'metadata'\u001b[0m\u001b[0;34m,\u001b[0m \u001b[0;34m{\u001b[0m\u001b[0;34m}\u001b[0m\u001b[0;34m)\u001b[0m\u001b[0;34m.\u001b[0m\u001b[0mget\u001b[0m\u001b[0;34m(\u001b[0m\u001b[0;34m'mediatype'\u001b[0m\u001b[0;34m)\u001b[0m\u001b[0;34m\u001b[0m\u001b[0;34m\u001b[0m\u001b[0m\n\u001b[1;32m    253\u001b[0m         \u001b[0;32mtry\u001b[0m\u001b[0;34m:\u001b[0m\u001b[0;34m\u001b[0m\u001b[0;34m\u001b[0m\u001b[0m\n",
      "\u001b[0;32m~/Dev/internetarchive/internetarchive/session.py\u001b[0m in \u001b[0;36mget_metadata\u001b[0;34m(self, identifier, request_kwargs)\u001b[0m\n\u001b[1;32m    276\u001b[0m             \u001b[0;32melse\u001b[0m\u001b[0;34m:\u001b[0m\u001b[0;34m\u001b[0m\u001b[0;34m\u001b[0m\u001b[0m\n\u001b[1;32m    277\u001b[0m                 \u001b[0ms3_auth\u001b[0m \u001b[0;34m=\u001b[0m \u001b[0;32mNone\u001b[0m\u001b[0;34m\u001b[0m\u001b[0;34m\u001b[0m\u001b[0m\n\u001b[0;32m--> 278\u001b[0;31m             \u001b[0mresp\u001b[0m \u001b[0;34m=\u001b[0m \u001b[0mself\u001b[0m\u001b[0;34m.\u001b[0m\u001b[0mget\u001b[0m\u001b[0;34m(\u001b[0m\u001b[0murl\u001b[0m\u001b[0;34m,\u001b[0m \u001b[0mauth\u001b[0m\u001b[0;34m=\u001b[0m\u001b[0ms3_auth\u001b[0m\u001b[0;34m,\u001b[0m \u001b[0;34m**\u001b[0m\u001b[0mrequest_kwargs\u001b[0m\u001b[0;34m)\u001b[0m\u001b[0;34m\u001b[0m\u001b[0;34m\u001b[0m\u001b[0m\n\u001b[0m\u001b[1;32m    279\u001b[0m             \u001b[0mresp\u001b[0m\u001b[0;34m.\u001b[0m\u001b[0mraise_for_status\u001b[0m\u001b[0;34m(\u001b[0m\u001b[0;34m)\u001b[0m\u001b[0;34m\u001b[0m\u001b[0;34m\u001b[0m\u001b[0m\n\u001b[1;32m    280\u001b[0m         \u001b[0;32mexcept\u001b[0m \u001b[0mException\u001b[0m \u001b[0;32mas\u001b[0m \u001b[0mexc\u001b[0m\u001b[0;34m:\u001b[0m\u001b[0;34m\u001b[0m\u001b[0;34m\u001b[0m\u001b[0m\n",
      "\u001b[0;32m~/Dev/internetarchive/archVenv/lib/python3.6/site-packages/requests/sessions.py\u001b[0m in \u001b[0;36mget\u001b[0;34m(self, url, **kwargs)\u001b[0m\n\u001b[1;32m    541\u001b[0m \u001b[0;34m\u001b[0m\u001b[0m\n\u001b[1;32m    542\u001b[0m         \u001b[0mkwargs\u001b[0m\u001b[0;34m.\u001b[0m\u001b[0msetdefault\u001b[0m\u001b[0;34m(\u001b[0m\u001b[0;34m'allow_redirects'\u001b[0m\u001b[0;34m,\u001b[0m \u001b[0;32mTrue\u001b[0m\u001b[0;34m)\u001b[0m\u001b[0;34m\u001b[0m\u001b[0;34m\u001b[0m\u001b[0m\n\u001b[0;32m--> 543\u001b[0;31m         \u001b[0;32mreturn\u001b[0m \u001b[0mself\u001b[0m\u001b[0;34m.\u001b[0m\u001b[0mrequest\u001b[0m\u001b[0;34m(\u001b[0m\u001b[0;34m'GET'\u001b[0m\u001b[0;34m,\u001b[0m \u001b[0murl\u001b[0m\u001b[0;34m,\u001b[0m \u001b[0;34m**\u001b[0m\u001b[0mkwargs\u001b[0m\u001b[0;34m)\u001b[0m\u001b[0;34m\u001b[0m\u001b[0;34m\u001b[0m\u001b[0m\n\u001b[0m\u001b[1;32m    544\u001b[0m \u001b[0;34m\u001b[0m\u001b[0m\n\u001b[1;32m    545\u001b[0m     \u001b[0;32mdef\u001b[0m \u001b[0moptions\u001b[0m\u001b[0;34m(\u001b[0m\u001b[0mself\u001b[0m\u001b[0;34m,\u001b[0m \u001b[0murl\u001b[0m\u001b[0;34m,\u001b[0m \u001b[0;34m**\u001b[0m\u001b[0mkwargs\u001b[0m\u001b[0;34m)\u001b[0m\u001b[0;34m:\u001b[0m\u001b[0;34m\u001b[0m\u001b[0;34m\u001b[0m\u001b[0m\n",
      "\u001b[0;32m~/Dev/internetarchive/archVenv/lib/python3.6/site-packages/requests/sessions.py\u001b[0m in \u001b[0;36mrequest\u001b[0;34m(self, method, url, params, data, headers, cookies, files, auth, timeout, allow_redirects, proxies, hooks, stream, verify, cert, json)\u001b[0m\n\u001b[1;32m    528\u001b[0m         }\n\u001b[1;32m    529\u001b[0m         \u001b[0msend_kwargs\u001b[0m\u001b[0;34m.\u001b[0m\u001b[0mupdate\u001b[0m\u001b[0;34m(\u001b[0m\u001b[0msettings\u001b[0m\u001b[0;34m)\u001b[0m\u001b[0;34m\u001b[0m\u001b[0;34m\u001b[0m\u001b[0m\n\u001b[0;32m--> 530\u001b[0;31m         \u001b[0mresp\u001b[0m \u001b[0;34m=\u001b[0m \u001b[0mself\u001b[0m\u001b[0;34m.\u001b[0m\u001b[0msend\u001b[0m\u001b[0;34m(\u001b[0m\u001b[0mprep\u001b[0m\u001b[0;34m,\u001b[0m \u001b[0;34m**\u001b[0m\u001b[0msend_kwargs\u001b[0m\u001b[0;34m)\u001b[0m\u001b[0;34m\u001b[0m\u001b[0;34m\u001b[0m\u001b[0m\n\u001b[0m\u001b[1;32m    531\u001b[0m \u001b[0;34m\u001b[0m\u001b[0m\n\u001b[1;32m    532\u001b[0m         \u001b[0;32mreturn\u001b[0m \u001b[0mresp\u001b[0m\u001b[0;34m\u001b[0m\u001b[0;34m\u001b[0m\u001b[0m\n",
      "\u001b[0;32m~/Dev/internetarchive/internetarchive/session.py\u001b[0m in \u001b[0;36msend\u001b[0;34m(self, request, **kwargs)\u001b[0m\n\u001b[1;32m    513\u001b[0m             \u001b[0mwarnings\u001b[0m\u001b[0;34m.\u001b[0m\u001b[0mfilterwarnings\u001b[0m\u001b[0;34m(\u001b[0m\u001b[0;34m'always'\u001b[0m\u001b[0;34m)\u001b[0m\u001b[0;34m\u001b[0m\u001b[0;34m\u001b[0m\u001b[0m\n\u001b[1;32m    514\u001b[0m             \u001b[0;32mtry\u001b[0m\u001b[0;34m:\u001b[0m\u001b[0;34m\u001b[0m\u001b[0;34m\u001b[0m\u001b[0m\n\u001b[0;32m--> 515\u001b[0;31m                 \u001b[0mr\u001b[0m \u001b[0;34m=\u001b[0m \u001b[0msuper\u001b[0m\u001b[0;34m(\u001b[0m\u001b[0mArchiveSession\u001b[0m\u001b[0;34m,\u001b[0m \u001b[0mself\u001b[0m\u001b[0;34m)\u001b[0m\u001b[0;34m.\u001b[0m\u001b[0msend\u001b[0m\u001b[0;34m(\u001b[0m\u001b[0mrequest\u001b[0m\u001b[0;34m,\u001b[0m \u001b[0;34m**\u001b[0m\u001b[0mkwargs\u001b[0m\u001b[0;34m)\u001b[0m\u001b[0;34m\u001b[0m\u001b[0;34m\u001b[0m\u001b[0m\n\u001b[0m\u001b[1;32m    516\u001b[0m             \u001b[0;32mexcept\u001b[0m \u001b[0mException\u001b[0m \u001b[0;32mas\u001b[0m \u001b[0me\u001b[0m\u001b[0;34m:\u001b[0m\u001b[0;34m\u001b[0m\u001b[0;34m\u001b[0m\u001b[0m\n\u001b[1;32m    517\u001b[0m                 \u001b[0;32mtry\u001b[0m\u001b[0;34m:\u001b[0m\u001b[0;34m\u001b[0m\u001b[0;34m\u001b[0m\u001b[0m\n",
      "\u001b[0;32m~/Dev/internetarchive/archVenv/lib/python3.6/site-packages/requests/sessions.py\u001b[0m in \u001b[0;36msend\u001b[0;34m(self, request, **kwargs)\u001b[0m\n\u001b[1;32m    641\u001b[0m \u001b[0;34m\u001b[0m\u001b[0m\n\u001b[1;32m    642\u001b[0m         \u001b[0;31m# Send the request\u001b[0m\u001b[0;34m\u001b[0m\u001b[0;34m\u001b[0m\u001b[0;34m\u001b[0m\u001b[0m\n\u001b[0;32m--> 643\u001b[0;31m         \u001b[0mr\u001b[0m \u001b[0;34m=\u001b[0m \u001b[0madapter\u001b[0m\u001b[0;34m.\u001b[0m\u001b[0msend\u001b[0m\u001b[0;34m(\u001b[0m\u001b[0mrequest\u001b[0m\u001b[0;34m,\u001b[0m \u001b[0;34m**\u001b[0m\u001b[0mkwargs\u001b[0m\u001b[0;34m)\u001b[0m\u001b[0;34m\u001b[0m\u001b[0;34m\u001b[0m\u001b[0m\n\u001b[0m\u001b[1;32m    644\u001b[0m \u001b[0;34m\u001b[0m\u001b[0m\n\u001b[1;32m    645\u001b[0m         \u001b[0;31m# Total elapsed time of the request (approximately)\u001b[0m\u001b[0;34m\u001b[0m\u001b[0;34m\u001b[0m\u001b[0;34m\u001b[0m\u001b[0m\n",
      "\u001b[0;32m~/Dev/internetarchive/archVenv/lib/python3.6/site-packages/requests/adapters.py\u001b[0m in \u001b[0;36msend\u001b[0;34m(self, request, stream, timeout, verify, cert, proxies)\u001b[0m\n\u001b[1;32m    447\u001b[0m                     \u001b[0mdecode_content\u001b[0m\u001b[0;34m=\u001b[0m\u001b[0;32mFalse\u001b[0m\u001b[0;34m,\u001b[0m\u001b[0;34m\u001b[0m\u001b[0;34m\u001b[0m\u001b[0m\n\u001b[1;32m    448\u001b[0m                     \u001b[0mretries\u001b[0m\u001b[0;34m=\u001b[0m\u001b[0mself\u001b[0m\u001b[0;34m.\u001b[0m\u001b[0mmax_retries\u001b[0m\u001b[0;34m,\u001b[0m\u001b[0;34m\u001b[0m\u001b[0;34m\u001b[0m\u001b[0m\n\u001b[0;32m--> 449\u001b[0;31m                     \u001b[0mtimeout\u001b[0m\u001b[0;34m=\u001b[0m\u001b[0mtimeout\u001b[0m\u001b[0;34m\u001b[0m\u001b[0;34m\u001b[0m\u001b[0m\n\u001b[0m\u001b[1;32m    450\u001b[0m                 )\n\u001b[1;32m    451\u001b[0m \u001b[0;34m\u001b[0m\u001b[0m\n",
      "\u001b[0;32m~/Dev/internetarchive/archVenv/lib/python3.6/site-packages/urllib3/connectionpool.py\u001b[0m in \u001b[0;36murlopen\u001b[0;34m(self, method, url, body, headers, retries, redirect, assert_same_host, timeout, pool_timeout, release_conn, chunked, body_pos, **response_kw)\u001b[0m\n\u001b[1;32m    675\u001b[0m                 \u001b[0mbody\u001b[0m\u001b[0;34m=\u001b[0m\u001b[0mbody\u001b[0m\u001b[0;34m,\u001b[0m\u001b[0;34m\u001b[0m\u001b[0;34m\u001b[0m\u001b[0m\n\u001b[1;32m    676\u001b[0m                 \u001b[0mheaders\u001b[0m\u001b[0;34m=\u001b[0m\u001b[0mheaders\u001b[0m\u001b[0;34m,\u001b[0m\u001b[0;34m\u001b[0m\u001b[0;34m\u001b[0m\u001b[0m\n\u001b[0;32m--> 677\u001b[0;31m                 \u001b[0mchunked\u001b[0m\u001b[0;34m=\u001b[0m\u001b[0mchunked\u001b[0m\u001b[0;34m,\u001b[0m\u001b[0;34m\u001b[0m\u001b[0;34m\u001b[0m\u001b[0m\n\u001b[0m\u001b[1;32m    678\u001b[0m             )\n\u001b[1;32m    679\u001b[0m \u001b[0;34m\u001b[0m\u001b[0m\n",
      "\u001b[0;32m~/Dev/internetarchive/archVenv/lib/python3.6/site-packages/urllib3/connectionpool.py\u001b[0m in \u001b[0;36m_make_request\u001b[0;34m(self, conn, method, url, timeout, chunked, **httplib_request_kw)\u001b[0m\n\u001b[1;32m    424\u001b[0m                     \u001b[0;31m# Python 3 (including for exceptions like SystemExit).\u001b[0m\u001b[0;34m\u001b[0m\u001b[0;34m\u001b[0m\u001b[0;34m\u001b[0m\u001b[0m\n\u001b[1;32m    425\u001b[0m                     \u001b[0;31m# Otherwise it looks like a bug in the code.\u001b[0m\u001b[0;34m\u001b[0m\u001b[0;34m\u001b[0m\u001b[0;34m\u001b[0m\u001b[0m\n\u001b[0;32m--> 426\u001b[0;31m                     \u001b[0msix\u001b[0m\u001b[0;34m.\u001b[0m\u001b[0mraise_from\u001b[0m\u001b[0;34m(\u001b[0m\u001b[0me\u001b[0m\u001b[0;34m,\u001b[0m \u001b[0;32mNone\u001b[0m\u001b[0;34m)\u001b[0m\u001b[0;34m\u001b[0m\u001b[0;34m\u001b[0m\u001b[0m\n\u001b[0m\u001b[1;32m    427\u001b[0m         \u001b[0;32mexcept\u001b[0m \u001b[0;34m(\u001b[0m\u001b[0mSocketTimeout\u001b[0m\u001b[0;34m,\u001b[0m \u001b[0mBaseSSLError\u001b[0m\u001b[0;34m,\u001b[0m \u001b[0mSocketError\u001b[0m\u001b[0;34m)\u001b[0m \u001b[0;32mas\u001b[0m \u001b[0me\u001b[0m\u001b[0;34m:\u001b[0m\u001b[0;34m\u001b[0m\u001b[0;34m\u001b[0m\u001b[0m\n\u001b[1;32m    428\u001b[0m             \u001b[0mself\u001b[0m\u001b[0;34m.\u001b[0m\u001b[0m_raise_timeout\u001b[0m\u001b[0;34m(\u001b[0m\u001b[0merr\u001b[0m\u001b[0;34m=\u001b[0m\u001b[0me\u001b[0m\u001b[0;34m,\u001b[0m \u001b[0murl\u001b[0m\u001b[0;34m=\u001b[0m\u001b[0murl\u001b[0m\u001b[0;34m,\u001b[0m \u001b[0mtimeout_value\u001b[0m\u001b[0;34m=\u001b[0m\u001b[0mread_timeout\u001b[0m\u001b[0;34m)\u001b[0m\u001b[0;34m\u001b[0m\u001b[0;34m\u001b[0m\u001b[0m\n",
      "\u001b[0;32m~/Dev/internetarchive/archVenv/lib/python3.6/site-packages/urllib3/packages/six.py\u001b[0m in \u001b[0;36mraise_from\u001b[0;34m(value, from_value)\u001b[0m\n",
      "\u001b[0;32m~/Dev/internetarchive/archVenv/lib/python3.6/site-packages/urllib3/connectionpool.py\u001b[0m in \u001b[0;36m_make_request\u001b[0;34m(self, conn, method, url, timeout, chunked, **httplib_request_kw)\u001b[0m\n\u001b[1;32m    419\u001b[0m                 \u001b[0;31m# Python 3\u001b[0m\u001b[0;34m\u001b[0m\u001b[0;34m\u001b[0m\u001b[0;34m\u001b[0m\u001b[0m\n\u001b[1;32m    420\u001b[0m                 \u001b[0;32mtry\u001b[0m\u001b[0;34m:\u001b[0m\u001b[0;34m\u001b[0m\u001b[0;34m\u001b[0m\u001b[0m\n\u001b[0;32m--> 421\u001b[0;31m                     \u001b[0mhttplib_response\u001b[0m \u001b[0;34m=\u001b[0m \u001b[0mconn\u001b[0m\u001b[0;34m.\u001b[0m\u001b[0mgetresponse\u001b[0m\u001b[0;34m(\u001b[0m\u001b[0;34m)\u001b[0m\u001b[0;34m\u001b[0m\u001b[0;34m\u001b[0m\u001b[0m\n\u001b[0m\u001b[1;32m    422\u001b[0m                 \u001b[0;32mexcept\u001b[0m \u001b[0mBaseException\u001b[0m \u001b[0;32mas\u001b[0m \u001b[0me\u001b[0m\u001b[0;34m:\u001b[0m\u001b[0;34m\u001b[0m\u001b[0;34m\u001b[0m\u001b[0m\n\u001b[1;32m    423\u001b[0m                     \u001b[0;31m# Remove the TypeError from the exception chain in\u001b[0m\u001b[0;34m\u001b[0m\u001b[0;34m\u001b[0m\u001b[0;34m\u001b[0m\u001b[0m\n",
      "\u001b[0;32m/usr/lib/python3.6/http/client.py\u001b[0m in \u001b[0;36mgetresponse\u001b[0;34m(self)\u001b[0m\n\u001b[1;32m   1354\u001b[0m         \u001b[0;32mtry\u001b[0m\u001b[0;34m:\u001b[0m\u001b[0;34m\u001b[0m\u001b[0;34m\u001b[0m\u001b[0m\n\u001b[1;32m   1355\u001b[0m             \u001b[0;32mtry\u001b[0m\u001b[0;34m:\u001b[0m\u001b[0;34m\u001b[0m\u001b[0;34m\u001b[0m\u001b[0m\n\u001b[0;32m-> 1356\u001b[0;31m                 \u001b[0mresponse\u001b[0m\u001b[0;34m.\u001b[0m\u001b[0mbegin\u001b[0m\u001b[0;34m(\u001b[0m\u001b[0;34m)\u001b[0m\u001b[0;34m\u001b[0m\u001b[0;34m\u001b[0m\u001b[0m\n\u001b[0m\u001b[1;32m   1357\u001b[0m             \u001b[0;32mexcept\u001b[0m \u001b[0mConnectionError\u001b[0m\u001b[0;34m:\u001b[0m\u001b[0;34m\u001b[0m\u001b[0;34m\u001b[0m\u001b[0m\n\u001b[1;32m   1358\u001b[0m                 \u001b[0mself\u001b[0m\u001b[0;34m.\u001b[0m\u001b[0mclose\u001b[0m\u001b[0;34m(\u001b[0m\u001b[0;34m)\u001b[0m\u001b[0;34m\u001b[0m\u001b[0;34m\u001b[0m\u001b[0m\n",
      "\u001b[0;32m/usr/lib/python3.6/http/client.py\u001b[0m in \u001b[0;36mbegin\u001b[0;34m(self)\u001b[0m\n\u001b[1;32m    329\u001b[0m             \u001b[0;32mraise\u001b[0m \u001b[0mUnknownProtocol\u001b[0m\u001b[0;34m(\u001b[0m\u001b[0mversion\u001b[0m\u001b[0;34m)\u001b[0m\u001b[0;34m\u001b[0m\u001b[0;34m\u001b[0m\u001b[0m\n\u001b[1;32m    330\u001b[0m \u001b[0;34m\u001b[0m\u001b[0m\n\u001b[0;32m--> 331\u001b[0;31m         \u001b[0mself\u001b[0m\u001b[0;34m.\u001b[0m\u001b[0mheaders\u001b[0m \u001b[0;34m=\u001b[0m \u001b[0mself\u001b[0m\u001b[0;34m.\u001b[0m\u001b[0mmsg\u001b[0m \u001b[0;34m=\u001b[0m \u001b[0mparse_headers\u001b[0m\u001b[0;34m(\u001b[0m\u001b[0mself\u001b[0m\u001b[0;34m.\u001b[0m\u001b[0mfp\u001b[0m\u001b[0;34m)\u001b[0m\u001b[0;34m\u001b[0m\u001b[0;34m\u001b[0m\u001b[0m\n\u001b[0m\u001b[1;32m    332\u001b[0m \u001b[0;34m\u001b[0m\u001b[0m\n\u001b[1;32m    333\u001b[0m         \u001b[0;32mif\u001b[0m \u001b[0mself\u001b[0m\u001b[0;34m.\u001b[0m\u001b[0mdebuglevel\u001b[0m \u001b[0;34m>\u001b[0m \u001b[0;36m0\u001b[0m\u001b[0;34m:\u001b[0m\u001b[0;34m\u001b[0m\u001b[0;34m\u001b[0m\u001b[0m\n",
      "\u001b[0;32m/usr/lib/python3.6/http/client.py\u001b[0m in \u001b[0;36mparse_headers\u001b[0;34m(fp, _class)\u001b[0m\n\u001b[1;32m    223\u001b[0m             \u001b[0;32mbreak\u001b[0m\u001b[0;34m\u001b[0m\u001b[0;34m\u001b[0m\u001b[0m\n\u001b[1;32m    224\u001b[0m     \u001b[0mhstring\u001b[0m \u001b[0;34m=\u001b[0m \u001b[0;34mb''\u001b[0m\u001b[0;34m.\u001b[0m\u001b[0mjoin\u001b[0m\u001b[0;34m(\u001b[0m\u001b[0mheaders\u001b[0m\u001b[0;34m)\u001b[0m\u001b[0;34m.\u001b[0m\u001b[0mdecode\u001b[0m\u001b[0;34m(\u001b[0m\u001b[0;34m'iso-8859-1'\u001b[0m\u001b[0;34m)\u001b[0m\u001b[0;34m\u001b[0m\u001b[0;34m\u001b[0m\u001b[0m\n\u001b[0;32m--> 225\u001b[0;31m     \u001b[0;32mreturn\u001b[0m \u001b[0memail\u001b[0m\u001b[0;34m.\u001b[0m\u001b[0mparser\u001b[0m\u001b[0;34m.\u001b[0m\u001b[0mParser\u001b[0m\u001b[0;34m(\u001b[0m\u001b[0m_class\u001b[0m\u001b[0;34m=\u001b[0m\u001b[0m_class\u001b[0m\u001b[0;34m)\u001b[0m\u001b[0;34m.\u001b[0m\u001b[0mparsestr\u001b[0m\u001b[0;34m(\u001b[0m\u001b[0mhstring\u001b[0m\u001b[0;34m)\u001b[0m\u001b[0;34m\u001b[0m\u001b[0;34m\u001b[0m\u001b[0m\n\u001b[0m\u001b[1;32m    226\u001b[0m \u001b[0;34m\u001b[0m\u001b[0m\n\u001b[1;32m    227\u001b[0m \u001b[0;34m\u001b[0m\u001b[0m\n",
      "\u001b[0;32m/usr/lib/python3.6/email/parser.py\u001b[0m in \u001b[0;36mparsestr\u001b[0;34m(self, text, headersonly)\u001b[0m\n\u001b[1;32m     66\u001b[0m         \u001b[0mthe\u001b[0m \u001b[0mfile\u001b[0m\u001b[0;34m.\u001b[0m\u001b[0;34m\u001b[0m\u001b[0;34m\u001b[0m\u001b[0m\n\u001b[1;32m     67\u001b[0m         \"\"\"\n\u001b[0;32m---> 68\u001b[0;31m         \u001b[0;32mreturn\u001b[0m \u001b[0mself\u001b[0m\u001b[0;34m.\u001b[0m\u001b[0mparse\u001b[0m\u001b[0;34m(\u001b[0m\u001b[0mStringIO\u001b[0m\u001b[0;34m(\u001b[0m\u001b[0mtext\u001b[0m\u001b[0;34m)\u001b[0m\u001b[0;34m,\u001b[0m \u001b[0mheadersonly\u001b[0m\u001b[0;34m=\u001b[0m\u001b[0mheadersonly\u001b[0m\u001b[0;34m)\u001b[0m\u001b[0;34m\u001b[0m\u001b[0;34m\u001b[0m\u001b[0m\n\u001b[0m\u001b[1;32m     69\u001b[0m \u001b[0;34m\u001b[0m\u001b[0m\n\u001b[1;32m     70\u001b[0m \u001b[0;34m\u001b[0m\u001b[0m\n",
      "\u001b[0;32m/usr/lib/python3.6/email/parser.py\u001b[0m in \u001b[0;36mparse\u001b[0;34m(self, fp, headersonly)\u001b[0m\n\u001b[1;32m     55\u001b[0m             \u001b[0;32mif\u001b[0m \u001b[0;32mnot\u001b[0m \u001b[0mdata\u001b[0m\u001b[0;34m:\u001b[0m\u001b[0;34m\u001b[0m\u001b[0;34m\u001b[0m\u001b[0m\n\u001b[1;32m     56\u001b[0m                 \u001b[0;32mbreak\u001b[0m\u001b[0;34m\u001b[0m\u001b[0;34m\u001b[0m\u001b[0m\n\u001b[0;32m---> 57\u001b[0;31m             \u001b[0mfeedparser\u001b[0m\u001b[0;34m.\u001b[0m\u001b[0mfeed\u001b[0m\u001b[0;34m(\u001b[0m\u001b[0mdata\u001b[0m\u001b[0;34m)\u001b[0m\u001b[0;34m\u001b[0m\u001b[0;34m\u001b[0m\u001b[0m\n\u001b[0m\u001b[1;32m     58\u001b[0m         \u001b[0;32mreturn\u001b[0m \u001b[0mfeedparser\u001b[0m\u001b[0;34m.\u001b[0m\u001b[0mclose\u001b[0m\u001b[0;34m(\u001b[0m\u001b[0;34m)\u001b[0m\u001b[0;34m\u001b[0m\u001b[0;34m\u001b[0m\u001b[0m\n\u001b[1;32m     59\u001b[0m \u001b[0;34m\u001b[0m\u001b[0m\n",
      "\u001b[0;32m/usr/lib/python3.6/email/feedparser.py\u001b[0m in \u001b[0;36mfeed\u001b[0;34m(self, data)\u001b[0m\n\u001b[1;32m    174\u001b[0m         \u001b[0;34m\"\"\"Push more data into the parser.\"\"\"\u001b[0m\u001b[0;34m\u001b[0m\u001b[0;34m\u001b[0m\u001b[0m\n\u001b[1;32m    175\u001b[0m         \u001b[0mself\u001b[0m\u001b[0;34m.\u001b[0m\u001b[0m_input\u001b[0m\u001b[0;34m.\u001b[0m\u001b[0mpush\u001b[0m\u001b[0;34m(\u001b[0m\u001b[0mdata\u001b[0m\u001b[0;34m)\u001b[0m\u001b[0;34m\u001b[0m\u001b[0;34m\u001b[0m\u001b[0m\n\u001b[0;32m--> 176\u001b[0;31m         \u001b[0mself\u001b[0m\u001b[0;34m.\u001b[0m\u001b[0m_call_parse\u001b[0m\u001b[0;34m(\u001b[0m\u001b[0;34m)\u001b[0m\u001b[0;34m\u001b[0m\u001b[0;34m\u001b[0m\u001b[0m\n\u001b[0m\u001b[1;32m    177\u001b[0m \u001b[0;34m\u001b[0m\u001b[0m\n\u001b[1;32m    178\u001b[0m     \u001b[0;32mdef\u001b[0m \u001b[0m_call_parse\u001b[0m\u001b[0;34m(\u001b[0m\u001b[0mself\u001b[0m\u001b[0;34m)\u001b[0m\u001b[0;34m:\u001b[0m\u001b[0;34m\u001b[0m\u001b[0;34m\u001b[0m\u001b[0m\n",
      "\u001b[0;32m/usr/lib/python3.6/email/feedparser.py\u001b[0m in \u001b[0;36m_call_parse\u001b[0;34m(self)\u001b[0m\n\u001b[1;32m    178\u001b[0m     \u001b[0;32mdef\u001b[0m \u001b[0m_call_parse\u001b[0m\u001b[0;34m(\u001b[0m\u001b[0mself\u001b[0m\u001b[0;34m)\u001b[0m\u001b[0;34m:\u001b[0m\u001b[0;34m\u001b[0m\u001b[0;34m\u001b[0m\u001b[0m\n\u001b[1;32m    179\u001b[0m         \u001b[0;32mtry\u001b[0m\u001b[0;34m:\u001b[0m\u001b[0;34m\u001b[0m\u001b[0;34m\u001b[0m\u001b[0m\n\u001b[0;32m--> 180\u001b[0;31m             \u001b[0mself\u001b[0m\u001b[0;34m.\u001b[0m\u001b[0m_parse\u001b[0m\u001b[0;34m(\u001b[0m\u001b[0;34m)\u001b[0m\u001b[0;34m\u001b[0m\u001b[0;34m\u001b[0m\u001b[0m\n\u001b[0m\u001b[1;32m    181\u001b[0m         \u001b[0;32mexcept\u001b[0m \u001b[0mStopIteration\u001b[0m\u001b[0;34m:\u001b[0m\u001b[0;34m\u001b[0m\u001b[0;34m\u001b[0m\u001b[0m\n\u001b[1;32m    182\u001b[0m             \u001b[0;32mpass\u001b[0m\u001b[0;34m\u001b[0m\u001b[0;34m\u001b[0m\u001b[0m\n",
      "\u001b[0;32m/usr/lib/python3.6/email/feedparser.py\u001b[0m in \u001b[0;36m_parsegen\u001b[0;34m(self)\u001b[0m\n\u001b[1;32m    235\u001b[0m                     \u001b[0mself\u001b[0m\u001b[0;34m.\u001b[0m\u001b[0m_input\u001b[0m\u001b[0;34m.\u001b[0m\u001b[0munreadline\u001b[0m\u001b[0;34m(\u001b[0m\u001b[0mline\u001b[0m\u001b[0;34m)\u001b[0m\u001b[0;34m\u001b[0m\u001b[0;34m\u001b[0m\u001b[0m\n\u001b[1;32m    236\u001b[0m                 \u001b[0;32mbreak\u001b[0m\u001b[0;34m\u001b[0m\u001b[0;34m\u001b[0m\u001b[0m\n\u001b[0;32m--> 237\u001b[0;31m             \u001b[0mheaders\u001b[0m\u001b[0;34m.\u001b[0m\u001b[0mappend\u001b[0m\u001b[0;34m(\u001b[0m\u001b[0mline\u001b[0m\u001b[0;34m)\u001b[0m\u001b[0;34m\u001b[0m\u001b[0;34m\u001b[0m\u001b[0m\n\u001b[0m\u001b[1;32m    238\u001b[0m         \u001b[0;31m# Done with the headers, so parse them and figure out what we're\u001b[0m\u001b[0;34m\u001b[0m\u001b[0;34m\u001b[0m\u001b[0;34m\u001b[0m\u001b[0m\n\u001b[1;32m    239\u001b[0m         \u001b[0;31m# supposed to see in the body of the message.\u001b[0m\u001b[0;34m\u001b[0m\u001b[0;34m\u001b[0m\u001b[0;34m\u001b[0m\u001b[0m\n",
      "\u001b[0;31mKeyboardInterrupt\u001b[0m: "
     ]
    }
   ],
   "source": [
    "i = 0\n",
    "for sri in search_results.iter_as_items():\n",
    "    if i < 20:\n",
    "        print(sri)\n",
    "        i+=i\n",
    "    else:\n",
    "        break"
   ]
  },
  {
   "cell_type": "code",
   "execution_count": null,
   "metadata": {},
   "outputs": [],
   "source": [
    "{'identifier': 'gd93-03-10.sbd.ladner.2024.sbeok.shnf'}"
   ]
  },
  {
   "cell_type": "code",
   "execution_count": 22,
   "metadata": {},
   "outputs": [],
   "source": [
    "item = get_item('gd93-03-10.sbd.ladner.2024.sbeok.shnf')"
   ]
  },
  {
   "cell_type": "code",
   "execution_count": 34,
   "metadata": {
    "tags": []
   },
   "outputs": [
    {
     "output_type": "stream",
     "name": "stdout",
     "text": "gd1990-03-21.aud.gidley.91767.sbeok.flac16:ddddddddddddddddddddddddddddddddddddddddddddddddddddddddddddddddddddddddddddddddddddddddddddddddddddddddddddddddddddddddddddddddddddddddddddddddddddddddddddddddddddddddddddddddddddddd - success\n"
    }
   ],
   "source": [
    "d = download('gd1990-03-21.aud.gidley.91767.sbeok.flac16')"
   ]
  },
  {
   "cell_type": "code",
   "execution_count": 32,
   "metadata": {},
   "outputs": [],
   "source": [
    "g_item = s.get_item('gd93-03-10.sbd.ladner.2024.sbeok.shnf')"
   ]
  },
  {
   "cell_type": "code",
   "execution_count": 33,
   "metadata": {
    "tags": []
   },
   "outputs": [
    {
     "output_type": "stream",
     "name": "stdout",
     "text": "Item(identifier='gd93-03-10.sbd.ladner.2024.sbeok.shnf'):skipping Item(identifier='gd93-03-10.sbd.ladner.2024.sbeok.shnf'), item does not exist.\n"
    }
   ],
   "source": [
    "download(g_item)"
   ]
  },
  {
   "cell_type": "code",
   "execution_count": 35,
   "metadata": {
    "tags": []
   },
   "outputs": [
    {
     "output_type": "stream",
     "name": "stdout",
     "text": "gd1990-03-26.sbd.hollister.7509.shnf:dde"
    },
    {
     "output_type": "error",
     "ename": "HTTPError",
     "evalue": "403 Client Error: Forbidden for url: https://ia802609.us.archive.org/10/items/gd1990-03-26.sbd.hollister.7509.shnf/gd1990-03-26.sbd.hollister.7509.shnf_archive.torrent",
     "traceback": [
      "\u001b[0;31m---------------------------------------------------------------------------\u001b[0m",
      "\u001b[0;31mHTTPError\u001b[0m                                 Traceback (most recent call last)",
      "\u001b[0;32m<ipython-input-35-8501784b5be6>\u001b[0m in \u001b[0;36m<module>\u001b[0;34m\u001b[0m\n\u001b[0;32m----> 1\u001b[0;31m \u001b[0mdownload\u001b[0m\u001b[0;34m(\u001b[0m\u001b[0;34m'gd1990-03-26.sbd.hollister.7509.shnf'\u001b[0m\u001b[0;34m)\u001b[0m\u001b[0;34m\u001b[0m\u001b[0;34m\u001b[0m\u001b[0m\n\u001b[0m",
      "\u001b[0;32m~/Dev/internetarchive/internetarchive/api.py\u001b[0m in \u001b[0;36mdownload\u001b[0;34m(identifier, files, formats, glob_pattern, dry_run, verbose, silent, ignore_existing, checksum, destdir, no_directory, retries, item_index, ignore_errors, on_the_fly, return_responses, **get_item_kwargs)\u001b[0m\n\u001b[1;32m    391\u001b[0m                       \u001b[0mignore_errors\u001b[0m\u001b[0;34m=\u001b[0m\u001b[0mignore_errors\u001b[0m\u001b[0;34m,\u001b[0m\u001b[0;34m\u001b[0m\u001b[0;34m\u001b[0m\u001b[0m\n\u001b[1;32m    392\u001b[0m                       \u001b[0mon_the_fly\u001b[0m\u001b[0;34m=\u001b[0m\u001b[0mon_the_fly\u001b[0m\u001b[0;34m,\u001b[0m\u001b[0;34m\u001b[0m\u001b[0;34m\u001b[0m\u001b[0m\n\u001b[0;32m--> 393\u001b[0;31m                       return_responses=return_responses)\n\u001b[0m\u001b[1;32m    394\u001b[0m     \u001b[0;32mreturn\u001b[0m \u001b[0mr\u001b[0m\u001b[0;34m\u001b[0m\u001b[0;34m\u001b[0m\u001b[0m\n\u001b[1;32m    395\u001b[0m \u001b[0;34m\u001b[0m\u001b[0m\n",
      "\u001b[0;32m~/Dev/internetarchive/internetarchive/item.py\u001b[0m in \u001b[0;36mdownload\u001b[0;34m(self, files, formats, glob_pattern, dry_run, verbose, silent, ignore_existing, checksum, destdir, no_directory, retries, item_index, ignore_errors, on_the_fly, return_responses, no_change_timestamp, ignore_history_dir, params)\u001b[0m\n\u001b[1;32m    624\u001b[0m             r = f.download(path, verbose, silent, ignore_existing, checksum, destdir,\n\u001b[1;32m    625\u001b[0m                            \u001b[0mretries\u001b[0m\u001b[0;34m,\u001b[0m \u001b[0mignore_errors\u001b[0m\u001b[0;34m,\u001b[0m \u001b[0;32mNone\u001b[0m\u001b[0;34m,\u001b[0m \u001b[0mreturn_responses\u001b[0m\u001b[0;34m,\u001b[0m\u001b[0;34m\u001b[0m\u001b[0;34m\u001b[0m\u001b[0m\n\u001b[0;32m--> 626\u001b[0;31m                            no_change_timestamp, params)\n\u001b[0m\u001b[1;32m    627\u001b[0m             \u001b[0;32mif\u001b[0m \u001b[0mreturn_responses\u001b[0m\u001b[0;34m:\u001b[0m\u001b[0;34m\u001b[0m\u001b[0;34m\u001b[0m\u001b[0m\n\u001b[1;32m    628\u001b[0m                 \u001b[0mresponses\u001b[0m\u001b[0;34m.\u001b[0m\u001b[0mappend\u001b[0m\u001b[0;34m(\u001b[0m\u001b[0mr\u001b[0m\u001b[0;34m)\u001b[0m\u001b[0;34m\u001b[0m\u001b[0;34m\u001b[0m\u001b[0m\n",
      "\u001b[0;32m~/Dev/internetarchive/internetarchive/files.py\u001b[0m in \u001b[0;36mdownload\u001b[0;34m(self, file_path, verbose, silent, ignore_existing, checksum, destdir, retries, ignore_errors, fileobj, return_responses, no_change_timestamp, params)\u001b[0m\n\u001b[1;32m    292\u001b[0m                 \u001b[0;32mreturn\u001b[0m \u001b[0;32mFalse\u001b[0m\u001b[0;34m\u001b[0m\u001b[0;34m\u001b[0m\u001b[0m\n\u001b[1;32m    293\u001b[0m             \u001b[0;32melse\u001b[0m\u001b[0;34m:\u001b[0m\u001b[0;34m\u001b[0m\u001b[0;34m\u001b[0m\u001b[0m\n\u001b[0;32m--> 294\u001b[0;31m                 \u001b[0;32mraise\u001b[0m \u001b[0mexc\u001b[0m\u001b[0;34m\u001b[0m\u001b[0;34m\u001b[0m\u001b[0m\n\u001b[0m\u001b[1;32m    295\u001b[0m \u001b[0;34m\u001b[0m\u001b[0m\n\u001b[1;32m    296\u001b[0m         \u001b[0;31m# Set mtime with mtime from files.xml.\u001b[0m\u001b[0;34m\u001b[0m\u001b[0;34m\u001b[0m\u001b[0;34m\u001b[0m\u001b[0m\n",
      "\u001b[0;32m~/Dev/internetarchive/internetarchive/files.py\u001b[0m in \u001b[0;36mdownload\u001b[0;34m(self, file_path, verbose, silent, ignore_existing, checksum, destdir, retries, ignore_errors, fileobj, return_responses, no_change_timestamp, params)\u001b[0m\n\u001b[1;32m    264\u001b[0m                                              \u001b[0mauth\u001b[0m\u001b[0;34m=\u001b[0m\u001b[0mself\u001b[0m\u001b[0;34m.\u001b[0m\u001b[0mauth\u001b[0m\u001b[0;34m,\u001b[0m\u001b[0;34m\u001b[0m\u001b[0;34m\u001b[0m\u001b[0m\n\u001b[1;32m    265\u001b[0m                                              params=params)\n\u001b[0;32m--> 266\u001b[0;31m             \u001b[0mresponse\u001b[0m\u001b[0;34m.\u001b[0m\u001b[0mraise_for_status\u001b[0m\u001b[0;34m(\u001b[0m\u001b[0;34m)\u001b[0m\u001b[0;34m\u001b[0m\u001b[0;34m\u001b[0m\u001b[0m\n\u001b[0m\u001b[1;32m    267\u001b[0m             \u001b[0;32mif\u001b[0m \u001b[0mreturn_responses\u001b[0m\u001b[0;34m:\u001b[0m\u001b[0;34m\u001b[0m\u001b[0;34m\u001b[0m\u001b[0m\n\u001b[1;32m    268\u001b[0m                 \u001b[0;32mreturn\u001b[0m \u001b[0mresponse\u001b[0m\u001b[0;34m\u001b[0m\u001b[0;34m\u001b[0m\u001b[0m\n",
      "\u001b[0;32m~/Dev/internetarchive/archVenv/lib/python3.6/site-packages/requests/models.py\u001b[0m in \u001b[0;36mraise_for_status\u001b[0;34m(self)\u001b[0m\n\u001b[1;32m    939\u001b[0m \u001b[0;34m\u001b[0m\u001b[0m\n\u001b[1;32m    940\u001b[0m         \u001b[0;32mif\u001b[0m \u001b[0mhttp_error_msg\u001b[0m\u001b[0;34m:\u001b[0m\u001b[0;34m\u001b[0m\u001b[0;34m\u001b[0m\u001b[0m\n\u001b[0;32m--> 941\u001b[0;31m             \u001b[0;32mraise\u001b[0m \u001b[0mHTTPError\u001b[0m\u001b[0;34m(\u001b[0m\u001b[0mhttp_error_msg\u001b[0m\u001b[0;34m,\u001b[0m \u001b[0mresponse\u001b[0m\u001b[0;34m=\u001b[0m\u001b[0mself\u001b[0m\u001b[0;34m)\u001b[0m\u001b[0;34m\u001b[0m\u001b[0;34m\u001b[0m\u001b[0m\n\u001b[0m\u001b[1;32m    942\u001b[0m \u001b[0;34m\u001b[0m\u001b[0m\n\u001b[1;32m    943\u001b[0m     \u001b[0;32mdef\u001b[0m \u001b[0mclose\u001b[0m\u001b[0;34m(\u001b[0m\u001b[0mself\u001b[0m\u001b[0;34m)\u001b[0m\u001b[0;34m:\u001b[0m\u001b[0;34m\u001b[0m\u001b[0;34m\u001b[0m\u001b[0m\n",
      "\u001b[0;31mHTTPError\u001b[0m: 403 Client Error: Forbidden for url: https://ia802609.us.archive.org/10/items/gd1990-03-26.sbd.hollister.7509.shnf/gd1990-03-26.sbd.hollister.7509.shnf_archive.torrent"
     ]
    }
   ],
   "source": [
    "download('gd1990-03-26.sbd.hollister.7509.shnf')"
   ]
  },
  {
   "cell_type": "code",
   "execution_count": 36,
   "metadata": {},
   "outputs": [],
   "source": [
    "item = get_item('gd1990-03-30.sbd.barbella.8366.sbeok.shnf')"
   ]
  },
  {
   "cell_type": "code",
   "execution_count": 37,
   "metadata": {},
   "outputs": [],
   "source": [
    "s_item = s.get_item('gd1990-03-30.sbd.barbella.8366.sbeok.shnf')"
   ]
  },
  {
   "cell_type": "code",
   "execution_count": 38,
   "metadata": {},
   "outputs": [
    {
     "output_type": "execute_result",
     "data": {
      "text/plain": "'/19/items/gd1990-03-30.sbd.barbella.8366.sbeok.shnf'"
     },
     "metadata": {},
     "execution_count": 38
    }
   ],
   "source": [
    "item.dir"
   ]
  },
  {
   "cell_type": "code",
   "execution_count": 39,
   "metadata": {},
   "outputs": [
    {
     "output_type": "execute_result",
     "data": {
      "text/plain": "'/19/items/gd1990-03-30.sbd.barbella.8366.sbeok.shnf'"
     },
     "metadata": {},
     "execution_count": 39
    }
   ],
   "source": [
    "s_item.dir"
   ]
  },
  {
   "cell_type": "code",
   "execution_count": 44,
   "metadata": {
    "tags": []
   },
   "outputs": [],
   "source": [
    "s = s_item.get_files()"
   ]
  },
  {
   "cell_type": "code",
   "execution_count": 45,
   "metadata": {
    "tags": []
   },
   "outputs": [
    {
     "output_type": "stream",
     "name": "stdout",
     "text": "<generator object Item.get_files at 0x7f193a22f938>\n"
    }
   ],
   "source": [
    "print(s)"
   ]
  },
  {
   "cell_type": "code",
   "execution_count": 51,
   "metadata": {},
   "outputs": [],
   "source": [
    "f = get_files('gd1990-03-30.sbd.barbella.8366.sbeok.shnf')"
   ]
  },
  {
   "cell_type": "code",
   "execution_count": 52,
   "metadata": {
    "tags": []
   },
   "outputs": [
    {
     "output_type": "stream",
     "name": "stdout",
     "text": "<generator object Item.get_files at 0x7f193be00888>\n"
    }
   ],
   "source": [
    "print(f)"
   ]
  },
  {
   "cell_type": "code",
   "execution_count": 53,
   "metadata": {},
   "outputs": [],
   "source": [
    "fnames = [f.name for f in get_files('gd1990-03-30.sbd.barbella.8366.sbeok.shnf', glob_pattern='*mp3')]"
   ]
  },
  {
   "cell_type": "code",
   "execution_count": 54,
   "metadata": {
    "tags": []
   },
   "outputs": [
    {
     "output_type": "stream",
     "name": "stdout",
     "text": "['gd90-03-30d1t01multi.mp3', 'gd90-03-30d1t02multi.mp3', 'gd90-03-30d1t03multi.mp3', 'gd90-03-30d1t04multi.mp3', 'gd90-03-30d1t05multi.mp3', 'gd90-03-30d1t06multi.mp3', 'gd90-03-30d1t07multi.mp3', 'gd90-03-30d1t08multi.mp3', 'gd90-03-30d1t09multi.mp3', 'gd90-03-30d2t01multi.mp3', 'gd90-03-30d2t02multi.mp3', 'gd90-03-30d2t03multi.mp3', 'gd90-03-30d2t04multi.mp3', 'gd90-03-30d2t05multi.mp3', 'gd90-03-30d2t06multi.mp3', 'gd90-03-30d3t01multi.mp3', 'gd90-03-30d3t02multi.mp3', 'gd90-03-30d3t03multi.mp3', 'gd90-03-30d3t04multi.mp3', 'gd90-03-30d3t05multi.mp3', 'gd90-03-30d3t06multi.mp3']\n"
    }
   ],
   "source": [
    "print(fnames)"
   ]
  },
  {
   "cell_type": "code",
   "execution_count": 55,
   "metadata": {
    "tags": []
   },
   "outputs": [
    {
     "output_type": "stream",
     "name": "stdout",
     "text": "gd90-03-30d1t01multi.mp3:skipping gd90-03-30d1t01multi.mp3, item does not exist.\n"
    }
   ],
   "source": [
    "s_item.download('gd90-03-30d1t01multi.mp3')"
   ]
  },
  {
   "cell_type": "code",
   "execution_count": null,
   "metadata": {},
   "outputs": [],
   "source": []
  }
 ],
 "metadata": {
  "language_info": {
   "codemirror_mode": {
    "name": "ipython",
    "version": 3
   },
   "file_extension": ".py",
   "mimetype": "text/x-python",
   "name": "python",
   "nbconvert_exporter": "python",
   "pygments_lexer": "ipython3",
   "version": "3.6.9-final"
  },
  "orig_nbformat": 2,
  "kernelspec": {
   "name": "python36964bitarchvenvvenv6f2c86c1fa4b45c48084a12f6149b67e",
   "display_name": "Python 3.6.9 64-bit ('archVenv': venv)"
  }
 },
 "nbformat": 4,
 "nbformat_minor": 2
}