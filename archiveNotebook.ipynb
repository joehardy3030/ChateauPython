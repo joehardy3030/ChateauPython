{
 "cells": [
  {
   "cell_type": "code",
   "execution_count": 1,
   "metadata": {},
   "outputs": [],
   "source": [
    "import internetarchive\n",
    "from internetarchive import get_item\n",
    "from internetarchive import download\n",
    "from internetarchive import search_items\n",
    "from internetarchive import search\n",
    "from internetarchive import get_session\n",
    "from internetarchive import configure\n",
    "from internetarchive import get_files\n",
    "import numpy as np\n",
    "import pandas as pd\n"
   ]
  },
  {
   "cell_type": "code",
   "execution_count": 2,
   "metadata": {},
   "outputs": [],
   "source": [
    "#configure(username='joehardy_1974@yahoo.com', password='')"
   ]
  },
  {
   "cell_type": "code",
   "execution_count": 3,
   "metadata": {},
   "outputs": [],
   "source": [
    "s = get_session()\n",
    "s.mount_http_adapter()\n",
    "search_results = s.search_items('nasa')"
   ]
  },
  {
   "cell_type": "code",
   "execution_count": 4,
   "metadata": {
    "tags": []
   },
   "outputs": [
    {
     "output_type": "stream",
     "name": "stdout",
     "text": "LOW PByWs2wfyAXs3EXt:RBZUZAbUzmU47EE3\n"
    },
    {
     "output_type": "execute_result",
     "data": {
      "text/plain": "True"
     },
     "metadata": {},
     "execution_count": 4
    }
   ],
   "source": [
    "item = get_item('GratefulDead')\n",
    "item.exists"
   ]
  },
  {
   "cell_type": "code",
   "execution_count": 5,
   "metadata": {},
   "outputs": [],
   "source": [
    "# item.item_metadata['metadata']"
   ]
  },
  {
   "cell_type": "code",
   "execution_count": 8,
   "metadata": {},
   "outputs": [],
   "source": [
    "search_results = s.search_items('GratefulDead')"
   ]
  },
  {
   "cell_type": "code",
   "execution_count": 9,
   "metadata": {
    "tags": []
   },
   "outputs": [],
   "source": [
    "#search_results.auth.__dict__['access_key']"
   ]
  },
  {
   "cell_type": "code",
   "execution_count": 10,
   "metadata": {},
   "outputs": [],
   "source": [
    "#auth_str = 'LOW {a}:{s}'.format(a=search_results.auth.__dict__['access_key'], #s=search_results.auth.__dict__['secret_key'])\n"
   ]
  },
  {
   "cell_type": "code",
   "execution_count": 11,
   "metadata": {},
   "outputs": [],
   "source": [
    "#auth_str"
   ]
  },
  {
   "cell_type": "code",
   "execution_count": 12,
   "metadata": {},
   "outputs": [],
   "source": [
    "# https://archive.org/services/search/v1/scrape?q=collection%3AGratefulDead"
   ]
  },
  {
   "cell_type": "code",
   "execution_count": 13,
   "metadata": {},
   "outputs": [],
   "source": [
    "#search_results.iter_as_items"
   ]
  },
  {
   "cell_type": "code",
   "execution_count": 14,
   "metadata": {
    "tags": []
   },
   "outputs": [
    {
     "output_type": "stream",
     "name": "stdout",
     "text": "LOW PByWs2wfyAXs3EXt:RBZUZAbUzmU47EE3\nLOW PByWs2wfyAXs3EXt:RBZUZAbUzmU47EE3\nLOW PByWs2wfyAXs3EXt:RBZUZAbUzmU47EE3\n"
    }
   ],
   "source": [
    "df_search = pd.DataFrame(search_results)\n",
    "#for sr in search_results:\n",
    "#    print(sr)\n",
    "#    break"
   ]
  },
  {
   "cell_type": "code",
   "execution_count": 15,
   "metadata": {
    "tags": [
     "outputPrepend"
    ]
   },
   "outputs": [
    {
     "output_type": "stream",
     "name": "stdout",
     "text": "AbUzmU47EE3\nLOW PByWs2wfyAXs3EXt:RBZUZAbUzmU47EE3\nLOW PByWs2wfyAXs3EXt:RBZUZAbUzmU47EE3\nLOW PByWs2wfyAXs3EXt:RBZUZAbUzmU47EE3\nLOW PByWs2wfyAXs3EXt:RBZUZAbUzmU47EE3\nLOW PByWs2wfyAXs3EXt:RBZUZAbUzmU47EE3\nLOW PByWs2wfyAXs3EXt:RBZUZAbUzmU47EE3\nLOW PByWs2wfyAXs3EXt:RBZUZAbUzmU47EE3\nLOW PByWs2wfyAXs3EXt:RBZUZAbUzmU47EE3\nLOW PByWs2wfyAXs3EXt:RBZUZAbUzmU47EE3\nLOW PByWs2wfyAXs3EXt:RBZUZAbUzmU47EE3\nLOW PByWs2wfyAXs3EXt:RBZUZAbUzmU47EE3\nLOW PByWs2wfyAXs3EXt:RBZUZAbUzmU47EE3\nLOW PByWs2wfyAXs3EXt:RBZUZAbUzmU47EE3\nLOW PByWs2wfyAXs3EXt:RBZUZAbUzmU47EE3\nLOW PByWs2wfyAXs3EXt:RBZUZAbUzmU47EE3\nLOW PByWs2wfyAXs3EXt:RBZUZAbUzmU47EE3\nLOW PByWs2wfyAXs3EXt:RBZUZAbUzmU47EE3\nLOW PByWs2wfyAXs3EXt:RBZUZAbUzmU47EE3\nLOW PByWs2wfyAXs3EXt:RBZUZAbUzmU47EE3\nLOW PByWs2wfyAXs3EXt:RBZUZAbUzmU47EE3\nLOW PByWs2wfyAXs3EXt:RBZUZAbUzmU47EE3\nLOW PByWs2wfyAXs3EXt:RBZUZAbUzmU47EE3\nLOW PByWs2wfyAXs3EXt:RBZUZAbUzmU47EE3\nLOW PByWs2wfyAXs3EXt:RBZUZAbUzmU47EE3\nLOW PByWs2wfyAXs3EXt:RBZUZAbUzmU47EE3\nLOW PByWs2wfyAXs3EXt:RBZUZAbUzmU47EE3\nLOW PByWs2wfyAXs3EXt:RBZUZAbUzmU47EE3\nLOW PByWs2wfyAXs3EXt:RBZUZAbUzmU47EE3\nLOW PByWs2wfyAXs3EXt:RBZUZAbUzmU47EE3\nLOW PByWs2wfyAXs3EXt:RBZUZAbUzmU47EE3\nLOW PByWs2wfyAXs3EXt:RBZUZAbUzmU47EE3\nLOW PByWs2wfyAXs3EXt:RBZUZAbUzmU47EE3\nLOW PByWs2wfyAXs3EXt:RBZUZAbUzmU47EE3\nLOW PByWs2wfyAXs3EXt:RBZUZAbUzmU47EE3\nLOW PByWs2wfyAXs3EXt:RBZUZAbUzmU47EE3\nLOW PByWs2wfyAXs3EXt:RBZUZAbUzmU47EE3\nLOW PByWs2wfyAXs3EXt:RBZUZAbUzmU47EE3\nLOW PByWs2wfyAXs3EXt:RBZUZAbUzmU47EE3\nLOW PByWs2wfyAXs3EXt:RBZUZAbUzmU47EE3\nLOW PByWs2wfyAXs3EXt:RBZUZAbUzmU47EE3\nLOW PByWs2wfyAXs3EXt:RBZUZAbUzmU47EE3\nLOW PByWs2wfyAXs3EXt:RBZUZAbUzmU47EE3\nLOW PByWs2wfyAXs3EXt:RBZUZAbUzmU47EE3\nLOW PByWs2wfyAXs3EXt:RBZUZAbUzmU47EE3\nLOW PByWs2wfyAXs3EXt:RBZUZAbUzmU47EE3\nLOW PByWs2wfyAXs3EXt:RBZUZAbUzmU47EE3\nLOW PByWs2wfyAXs3EXt:RBZUZAbUzmU47EE3\nLOW PByWs2wfyAXs3EXt:RBZUZAbUzmU47EE3\nLOW PByWs2wfyAXs3EXt:RBZUZAbUzmU47EE3\nLOW PByWs2wfyAXs3EXt:RBZUZAbUzmU47EE3\nLOW PByWs2wfyAXs3EXt:RBZUZAbUzmU47EE3\nLOW PByWs2wfyAXs3EXt:RBZUZAbUzmU47EE3\nLOW PByWs2wfyAXs3EXt:RBZUZAbUzmU47EE3\nLOW PByWs2wfyAXs3EXt:RBZUZAbUzmU47EE3\nLOW PByWs2wfyAXs3EXt:RBZUZAbUzmU47EE3\nLOW PByWs2wfyAXs3EXt:RBZUZAbUzmU47EE3\nLOW PByWs2wfyAXs3EXt:RBZUZAbUzmU47EE3\nLOW PByWs2wfyAXs3EXt:RBZUZAbUzmU47EE3\nLOW PByWs2wfyAXs3EXt:RBZUZAbUzmU47EE3\nLOW PByWs2wfyAXs3EXt:RBZUZAbUzmU47EE3\nLOW PByWs2wfyAXs3EXt:RBZUZAbUzmU47EE3\nLOW PByWs2wfyAXs3EXt:RBZUZAbUzmU47EE3\nLOW PByWs2wfyAXs3EXt:RBZUZAbUzmU47EE3\nLOW PByWs2wfyAXs3EXt:RBZUZAbUzmU47EE3\nLOW PByWs2wfyAXs3EXt:RBZUZAbUzmU47EE3\nLOW PByWs2wfyAXs3EXt:RBZUZAbUzmU47EE3\nLOW PByWs2wfyAXs3EXt:RBZUZAbUzmU47EE3\nLOW PByWs2wfyAXs3EXt:RBZUZAbUzmU47EE3\nLOW PByWs2wfyAXs3EXt:RBZUZAbUzmU47EE3\nLOW PByWs2wfyAXs3EXt:RBZUZAbUzmU47EE3\nLOW PByWs2wfyAXs3EXt:RBZUZAbUzmU47EE3\nLOW PByWs2wfyAXs3EXt:RBZUZAbUzmU47EE3\nLOW PByWs2wfyAXs3EXt:RBZUZAbUzmU47EE3\nLOW PByWs2wfyAXs3EXt:RBZUZAbUzmU47EE3\nLOW PByWs2wfyAXs3EXt:RBZUZAbUzmU47EE3\nLOW PByWs2wfyAXs3EXt:RBZUZAbUzmU47EE3\nLOW PByWs2wfyAXs3EXt:RBZUZAbUzmU47EE3\nLOW PByWs2wfyAXs3EXt:RBZUZAbUzmU47EE3\nLOW PByWs2wfyAXs3EXt:RBZUZAbUzmU47EE3\nLOW PByWs2wfyAXs3EXt:RBZUZAbUzmU47EE3\nLOW PByWs2wfyAXs3EXt:RBZUZAbUzmU47EE3\nLOW PByWs2wfyAXs3EXt:RBZUZAbUzmU47EE3\nLOW PByWs2wfyAXs3EXt:RBZUZAbUzmU47EE3\nLOW PByWs2wfyAXs3EXt:RBZUZAbUzmU47EE3\nLOW PByWs2wfyAXs3EXt:RBZUZAbUzmU47EE3\nLOW PByWs2wfyAXs3EXt:RBZUZAbUzmU47EE3\nLOW PByWs2wfyAXs3EXt:RBZUZAbUzmU47EE3\nLOW PByWs2wfyAXs3EXt:RBZUZAbUzmU47EE3\nLOW PByWs2wfyAXs3EXt:RBZUZAbUzmU47EE3\nLOW PByWs2wfyAXs3EXt:RBZUZAbUzmU47EE3\nLOW PByWs2wfyAXs3EXt:RBZUZAbUzmU47EE3\nLOW PByWs2wfyAXs3EXt:RBZUZAbUzmU47EE3\nLOW PByWs2wfyAXs3EXt:RBZUZAbUzmU47EE3\nLOW PByWs2wfyAXs3EXt:RBZUZAbUzmU47EE3\nLOW PByWs2wfyAXs3EXt:RBZUZAbUzmU47EE3\nLOW PByWs2wfyAXs3EXt:RBZUZAbUzmU47EE3\nLOW PByWs2wfyAXs3EXt:RBZUZAbUzmU47EE3\nLOW PByWs2wfyAXs3EXt:RBZUZAbUzmU47EE3\nLOW PByWs2wfyAXs3EXt:RBZUZAbUzmU47EE3\nLOW PByWs2wfyAXs3EXt:RBZUZAbUzmU47EE3\nLOW PByWs2wfyAXs3EXt:RBZUZAbUzmU47EE3\nLOW PByWs2wfyAXs3EXt:RBZUZAbUzmU47EE3\nLOW PByWs2wfyAXs3EXt:RBZUZAbUzmU47EE3\nLOW PByWs2wfyAXs3EXt:RBZUZAbUzmU47EE3\nLOW PByWs2wfyAXs3EXt:RBZUZAbUzmU47EE3\nLOW PByWs2wfyAXs3EXt:RBZUZAbUzmU47EE3\nLOW PByWs2wfyAXs3EXt:RBZUZAbUzmU47EE3\nLOW PByWs2wfyAXs3EXt:RBZUZAbUzmU47EE3\nLOW PByWs2wfyAXs3EXt:RBZUZAbUzmU47EE3\nLOW PByWs2wfyAXs3EXt:RBZUZAbUzmU47EE3\nLOW PByWs2wfyAXs3EXt:RBZUZAbUzmU47EE3\nLOW PByWs2wfyAXs3EXt:RBZUZAbUzmU47EE3\nLOW PByWs2wfyAXs3EXt:RBZUZAbUzmU47EE3\nLOW PByWs2wfyAXs3EXt:RBZUZAbUzmU47EE3\nLOW PByWs2wfyAXs3EXt:RBZUZAbUzmU47EE3\nLOW PByWs2wfyAXs3EXt:RBZUZAbUzmU47EE3\nLOW PByWs2wfyAXs3EXt:RBZUZAbUzmU47EE3\nLOW PByWs2wfyAXs3EXt:RBZUZAbUzmU47EE3\nLOW PByWs2wfyAXs3EXt:RBZUZAbUzmU47EE3\nLOW PByWs2wfyAXs3EXt:RBZUZAbUzmU47EE3\nLOW PByWs2wfyAXs3EXt:RBZUZAbUzmU47EE3\nLOW PByWs2wfyAXs3EXt:RBZUZAbUzmU47EE3\nLOW PByWs2wfyAXs3EXt:RBZUZAbUzmU47EE3\nLOW PByWs2wfyAXs3EXt:RBZUZAbUzmU47EE3\nLOW PByWs2wfyAXs3EXt:RBZUZAbUzmU47EE3\nLOW PByWs2wfyAXs3EXt:RBZUZAbUzmU47EE3\nLOW PByWs2wfyAXs3EXt:RBZUZAbUzmU47EE3\nLOW PByWs2wfyAXs3EXt:RBZUZAbUzmU47EE3\nLOW PByWs2wfyAXs3EXt:RBZUZAbUzmU47EE3\nLOW PByWs2wfyAXs3EXt:RBZUZAbUzmU47EE3\nLOW PByWs2wfyAXs3EXt:RBZUZAbUzmU47EE3\nLOW PByWs2wfyAXs3EXt:RBZUZAbUzmU47EE3\nLOW PByWs2wfyAXs3EXt:RBZUZAbUzmU47EE3\nLOW PByWs2wfyAXs3EXt:RBZUZAbUzmU47EE3\nLOW PByWs2wfyAXs3EXt:RBZUZAbUzmU47EE3\nLOW PByWs2wfyAXs3EXt:RBZUZAbUzmU47EE3\nLOW PByWs2wfyAXs3EXt:RBZUZAbUzmU47EE3\nLOW PByWs2wfyAXs3EXt:RBZUZAbUzmU47EE3\nLOW PByWs2wfyAXs3EXt:RBZUZAbUzmU47EE3\nLOW PByWs2wfyAXs3EXt:RBZUZAbUzmU47EE3\nLOW PByWs2wfyAXs3EXt:RBZUZAbUzmU47EE3\nLOW PByWs2wfyAXs3EXt:RBZUZAbUzmU47EE3\nLOW PByWs2wfyAXs3EXt:RBZUZAbUzmU47EE3\nLOW PByWs2wfyAXs3EXt:RBZUZAbUzmU47EE3\nLOW PByWs2wfyAXs3EXt:RBZUZAbUzmU47EE3\nLOW PByWs2wfyAXs3EXt:RBZUZAbUzmU47EE3\nLOW PByWs2wfyAXs3EXt:RBZUZAbUzmU47EE3\nLOW PByWs2wfyAXs3EXt:RBZUZAbUzmU47EE3\nLOW PByWs2wfyAXs3EXt:RBZUZAbUzmU47EE3\nLOW PByWs2wfyAXs3EXt:RBZUZAbUzmU47EE3\nLOW PByWs2wfyAXs3EXt:RBZUZAbUzmU47EE3\nLOW PByWs2wfyAXs3EXt:RBZUZAbUzmU47EE3\nLOW PByWs2wfyAXs3EXt:RBZUZAbUzmU47EE3\nLOW PByWs2wfyAXs3EXt:RBZUZAbUzmU47EE3\nLOW PByWs2wfyAXs3EXt:RBZUZAbUzmU47EE3\nLOW PByWs2wfyAXs3EXt:RBZUZAbUzmU47EE3\nLOW PByWs2wfyAXs3EXt:RBZUZAbUzmU47EE3\nLOW PByWs2wfyAXs3EXt:RBZUZAbUzmU47EE3\nLOW PByWs2wfyAXs3EXt:RBZUZAbUzmU47EE3\nLOW PByWs2wfyAXs3EXt:RBZUZAbUzmU47EE3\nLOW PByWs2wfyAXs3EXt:RBZUZAbUzmU47EE3\nLOW PByWs2wfyAXs3EXt:RBZUZAbUzmU47EE3\nLOW PByWs2wfyAXs3EXt:RBZUZAbUzmU47EE3\nLOW PByWs2wfyAXs3EXt:RBZUZAbUzmU47EE3\nLOW PByWs2wfyAXs3EXt:RBZUZAbUzmU47EE3\nLOW PByWs2wfyAXs3EXt:RBZUZAbUzmU47EE3\nLOW PByWs2wfyAXs3EXt:RBZUZAbUzmU47EE3\nLOW PByWs2wfyAXs3EXt:RBZUZAbUzmU47EE3\nLOW PByWs2wfyAXs3EXt:RBZUZAbUzmU47EE3\nLOW PByWs2wfyAXs3EXt:RBZUZAbUzmU47EE3\nLOW PByWs2wfyAXs3EXt:RBZUZAbUzmU47EE3\nLOW PByWs2wfyAXs3EXt:RBZUZAbUzmU47EE3\nLOW PByWs2wfyAXs3EXt:RBZUZAbUzmU47EE3\nLOW PByWs2wfyAXs3EXt:RBZUZAbUzmU47EE3\nLOW PByWs2wfyAXs3EXt:RBZUZAbUzmU47EE3\nLOW PByWs2wfyAXs3EXt:RBZUZAbUzmU47EE3\nLOW PByWs2wfyAXs3EXt:RBZUZAbUzmU47EE3\nLOW PByWs2wfyAXs3EXt:RBZUZAbUzmU47EE3\nLOW PByWs2wfyAXs3EXt:RBZUZAbUzmU47EE3\nLOW PByWs2wfyAXs3EXt:RBZUZAbUzmU47EE3\nLOW PByWs2wfyAXs3EXt:RBZUZAbUzmU47EE3\nLOW PByWs2wfyAXs3EXt:RBZUZAbUzmU47EE3\nLOW PByWs2wfyAXs3EXt:RBZUZAbUzmU47EE3\nLOW PByWs2wfyAXs3EXt:RBZUZAbUzmU47EE3\nLOW PByWs2wfyAXs3EXt:RBZUZAbUzmU47EE3\nLOW PByWs2wfyAXs3EXt:RBZUZAbUzmU47EE3\nLOW PByWs2wfyAXs3EXt:RBZUZAbUzmU47EE3\nLOW PByWs2wfyAXs3EXt:RBZUZAbUzmU47EE3\nLOW PByWs2wfyAXs3EXt:RBZUZAbUzmU47EE3\nLOW PByWs2wfyAXs3EXt:RBZUZAbUzmU47EE3\nLOW PByWs2wfyAXs3EXt:RBZUZAbUzmU47EE3\nLOW PByWs2wfyAXs3EXt:RBZUZAbUzmU47EE3\nLOW PByWs2wfyAXs3EXt:RBZUZAbUzmU47EE3\nLOW PByWs2wfyAXs3EXt:RBZUZAbUzmU47EE3\nLOW PByWs2wfyAXs3EXt:RBZUZAbUzmU47EE3\nLOW PByWs2wfyAXs3EXt:RBZUZAbUzmU47EE3\nLOW PByWs2wfyAXs3EXt:RBZUZAbUzmU47EE3\nLOW PByWs2wfyAXs3EXt:RBZUZAbUzmU47EE3\nLOW PByWs2wfyAXs3EXt:RBZUZAbUzmU47EE3\nLOW PByWs2wfyAXs3EXt:RBZUZAbUzmU47EE3\nLOW PByWs2wfyAXs3EXt:RBZUZAbUzmU47EE3\nLOW PByWs2wfyAXs3EXt:RBZUZAbUzmU47EE3\nLOW PByWs2wfyAXs3EXt:RBZUZAbUzmU47EE3\nLOW PByWs2wfyAXs3EXt:RBZUZAbUzmU47EE3\nLOW PByWs2wfyAXs3EXt:RBZUZAbUzmU47EE3\nLOW PByWs2wfyAXs3EXt:RBZUZAbUzmU47EE3\nLOW PByWs2wfyAXs3EXt:RBZUZAbUzmU47EE3\nLOW PByWs2wfyAXs3EXt:RBZUZAbUzmU47EE3\nLOW PByWs2wfyAXs3EXt:RBZUZAbUzmU47EE3\nLOW PByWs2wfyAXs3EXt:RBZUZAbUzmU47EE3\nLOW PByWs2wfyAXs3EXt:RBZUZAbUzmU47EE3\nLOW PByWs2wfyAXs3EXt:RBZUZAbUzmU47EE3\nLOW PByWs2wfyAXs3EXt:RBZUZAbUzmU47EE3\nLOW PByWs2wfyAXs3EXt:RBZUZAbUzmU47EE3\nLOW PByWs2wfyAXs3EXt:RBZUZAbUzmU47EE3\nLOW PByWs2wfyAXs3EXt:RBZUZAbUzmU47EE3\nLOW PByWs2wfyAXs3EXt:RBZUZAbUzmU47EE3\nLOW PByWs2wfyAXs3EXt:RBZUZAbUzmU47EE3\nLOW PByWs2wfyAXs3EXt:RBZUZAbUzmU47EE3\nLOW PByWs2wfyAXs3EXt:RBZUZAbUzmU47EE3\nLOW PByWs2wfyAXs3EXt:RBZUZAbUzmU47EE3\nLOW PByWs2wfyAXs3EXt:RBZUZAbUzmU47EE3\nLOW PByWs2wfyAXs3EXt:RBZUZAbUzmU47EE3\nLOW PByWs2wfyAXs3EXt:RBZUZAbUzmU47EE3\nLOW PByWs2wfyAXs3EXt:RBZUZAbUzmU47EE3\nLOW PByWs2wfyAXs3EXt:RBZUZAbUzmU47EE3\nLOW PByWs2wfyAXs3EXt:RBZUZAbUzmU47EE3\nLOW PByWs2wfyAXs3EXt:RBZUZAbUzmU47EE3\nLOW PByWs2wfyAXs3EXt:RBZUZAbUzmU47EE3\nLOW PByWs2wfyAXs3EXt:RBZUZAbUzmU47EE3\nLOW PByWs2wfyAXs3EXt:RBZUZAbUzmU47EE3\nLOW PByWs2wfyAXs3EXt:RBZUZAbUzmU47EE3\nLOW PByWs2wfyAXs3EXt:RBZUZAbUzmU47EE3\nLOW PByWs2wfyAXs3EXt:RBZUZAbUzmU47EE3\nLOW PByWs2wfyAXs3EXt:RBZUZAbUzmU47EE3\nLOW PByWs2wfyAXs3EXt:RBZUZAbUzmU47EE3\nLOW PByWs2wfyAXs3EXt:RBZUZAbUzmU47EE3\nLOW PByWs2wfyAXs3EXt:RBZUZAbUzmU47EE3\nLOW PByWs2wfyAXs3EXt:RBZUZAbUzmU47EE3\nLOW PByWs2wfyAXs3EXt:RBZUZAbUzmU47EE3\nLOW PByWs2wfyAXs3EXt:RBZUZAbUzmU47EE3\nLOW PByWs2wfyAXs3EXt:RBZUZAbUzmU47EE3\nLOW PByWs2wfyAXs3EXt:RBZUZAbUzmU47EE3\nLOW PByWs2wfyAXs3EXt:RBZUZAbUzmU47EE3\nLOW PByWs2wfyAXs3EXt:RBZUZAbUzmU47EE3\nLOW PByWs2wfyAXs3EXt:RBZUZAbUzmU47EE3\nLOW PByWs2wfyAXs3EXt:RBZUZAbUzmU47EE3\nLOW PByWs2wfyAXs3EXt:RBZUZAbUzmU47EE3\nLOW PByWs2wfyAXs3EXt:RBZUZAbUzmU47EE3\nLOW PByWs2wfyAXs3EXt:RBZUZAbUzmU47EE3\nLOW PByWs2wfyAXs3EXt:RBZUZAbUzmU47EE3\nLOW PByWs2wfyAXs3EXt:RBZUZAbUzmU47EE3\nLOW PByWs2wfyAXs3EXt:RBZUZAbUzmU47EE3\nLOW PByWs2wfyAXs3EXt:RBZUZAbUzmU47EE3\nLOW PByWs2wfyAXs3EXt:RBZUZAbUzmU47EE3\nLOW PByWs2wfyAXs3EXt:RBZUZAbUzmU47EE3\nLOW PByWs2wfyAXs3EXt:RBZUZAbUzmU47EE3\nLOW PByWs2wfyAXs3EXt:RBZUZAbUzmU47EE3\nLOW PByWs2wfyAXs3EXt:RBZUZAbUzmU47EE3\nLOW PByWs2wfyAXs3EXt:RBZUZAbUzmU47EE3\nLOW PByWs2wfyAXs3EXt:RBZUZAbUzmU47EE3\nLOW PByWs2wfyAXs3EXt:RBZUZAbUzmU47EE3\nLOW PByWs2wfyAXs3EXt:RBZUZAbUzmU47EE3\nLOW PByWs2wfyAXs3EXt:RBZUZAbUzmU47EE3\nLOW PByWs2wfyAXs3EXt:RBZUZAbUzmU47EE3\nLOW PByWs2wfyAXs3EXt:RBZUZAbUzmU47EE3\nLOW PByWs2wfyAXs3EXt:RBZUZAbUzmU47EE3\nLOW PByWs2wfyAXs3EXt:RBZUZAbUzmU47EE3\nLOW PByWs2wfyAXs3EXt:RBZUZAbUzmU47EE3\nLOW PByWs2wfyAXs3EXt:RBZUZAbUzmU47EE3\nLOW PByWs2wfyAXs3EXt:RBZUZAbUzmU47EE3\nLOW PByWs2wfyAXs3EXt:RBZUZAbUzmU47EE3\nLOW PByWs2wfyAXs3EXt:RBZUZAbUzmU47EE3\nLOW PByWs2wfyAXs3EXt:RBZUZAbUzmU47EE3\nLOW PByWs2wfyAXs3EXt:RBZUZAbUzmU47EE3\nLOW PByWs2wfyAXs3EXt:RBZUZAbUzmU47EE3\nLOW PByWs2wfyAXs3EXt:RBZUZAbUzmU47EE3\nLOW PByWs2wfyAXs3EXt:RBZUZAbUzmU47EE3\nLOW PByWs2wfyAXs3EXt:RBZUZAbUzmU47EE3\nLOW PByWs2wfyAXs3EXt:RBZUZAbUzmU47EE3\nLOW PByWs2wfyAXs3EXt:RBZUZAbUzmU47EE3\nLOW PByWs2wfyAXs3EXt:RBZUZAbUzmU47EE3\nLOW PByWs2wfyAXs3EXt:RBZUZAbUzmU47EE3\nLOW PByWs2wfyAXs3EXt:RBZUZAbUzmU47EE3\nLOW PByWs2wfyAXs3EXt:RBZUZAbUzmU47EE3\nLOW PByWs2wfyAXs3EXt:RBZUZAbUzmU47EE3\nLOW PByWs2wfyAXs3EXt:RBZUZAbUzmU47EE3\nLOW PByWs2wfyAXs3EXt:RBZUZAbUzmU47EE3\nLOW PByWs2wfyAXs3EXt:RBZUZAbUzmU47EE3\nLOW PByWs2wfyAXs3EXt:RBZUZAbUzmU47EE3\nLOW PByWs2wfyAXs3EXt:RBZUZAbUzmU47EE3\nLOW PByWs2wfyAXs3EXt:RBZUZAbUzmU47EE3\nLOW PByWs2wfyAXs3EXt:RBZUZAbUzmU47EE3\nLOW PByWs2wfyAXs3EXt:RBZUZAbUzmU47EE3\nLOW PByWs2wfyAXs3EXt:RBZUZAbUzmU47EE3\nLOW PByWs2wfyAXs3EXt:RBZUZAbUzmU47EE3\nLOW PByWs2wfyAXs3EXt:RBZUZAbUzmU47EE3\nLOW PByWs2wfyAXs3EXt:RBZUZAbUzmU47EE3\nLOW PByWs2wfyAXs3EXt:RBZUZAbUzmU47EE3\nLOW PByWs2wfyAXs3EXt:RBZUZAbUzmU47EE3\nLOW PByWs2wfyAXs3EXt:RBZUZAbUzmU47EE3\nLOW PByWs2wfyAXs3EXt:RBZUZAbUzmU47EE3\nLOW PByWs2wfyAXs3EXt:RBZUZAbUzmU47EE3\nLOW PByWs2wfyAXs3EXt:RBZUZAbUzmU47EE3\nLOW PByWs2wfyAXs3EXt:RBZUZAbUzmU47EE3\nLOW PByWs2wfyAXs3EXt:RBZUZAbUzmU47EE3\nLOW PByWs2wfyAXs3EXt:RBZUZAbUzmU47EE3\nLOW PByWs2wfyAXs3EXt:RBZUZAbUzmU47EE3\nLOW PByWs2wfyAXs3EXt:RBZUZAbUzmU47EE3\nLOW PByWs2wfyAXs3EXt:RBZUZAbUzmU47EE3\nLOW PByWs2wfyAXs3EXt:RBZUZAbUzmU47EE3\nLOW PByWs2wfyAXs3EXt:RBZUZAbUzmU47EE3\nLOW PByWs2wfyAXs3EXt:RBZUZAbUzmU47EE3\nLOW PByWs2wfyAXs3EXt:RBZUZAbUzmU47EE3\nLOW PByWs2wfyAXs3EXt:RBZUZAbUzmU47EE3\nLOW PByWs2wfyAXs3EXt:RBZUZAbUzmU47EE3\nLOW PByWs2wfyAXs3EXt:RBZUZAbUzmU47EE3\nLOW PByWs2wfyAXs3EXt:RBZUZAbUzmU47EE3\nLOW PByWs2wfyAXs3EXt:RBZUZAbUzmU47EE3\nLOW PByWs2wfyAXs3EXt:RBZUZAbUzmU47EE3\nLOW PByWs2wfyAXs3EXt:RBZUZAbUzmU47EE3\nLOW PByWs2wfyAXs3EXt:RBZUZAbUzmU47EE3\nLOW PByWs2wfyAXs3EXt:RBZUZAbUzmU47EE3\nLOW PByWs2wfyAXs3EXt:RBZUZAbUzmU47EE3\nLOW PByWs2wfyAXs3EXt:RBZUZAbUzmU47EE3\nLOW PByWs2wfyAXs3EXt:RBZUZAbUzmU47EE3\nLOW PByWs2wfyAXs3EXt:RBZUZAbUzmU47EE3\nLOW PByWs2wfyAXs3EXt:RBZUZAbUzmU47EE3\nLOW PByWs2wfyAXs3EXt:RBZUZAbUzmU47EE3\nLOW PByWs2wfyAXs3EXt:RBZUZAbUzmU47EE3\nLOW PByWs2wfyAXs3EXt:RBZUZAbUzmU47EE3\nLOW PByWs2wfyAXs3EXt:RBZUZAbUzmU47EE3\nLOW PByWs2wfyAXs3EXt:RBZUZAbUzmU47EE3\nLOW PByWs2wfyAXs3EXt:RBZUZAbUzmU47EE3\nLOW PByWs2wfyAXs3EXt:RBZUZAbUzmU47EE3\nLOW PByWs2wfyAXs3EXt:RBZUZAbUzmU47EE3\nLOW PByWs2wfyAXs3EXt:RBZUZAbUzmU47EE3\nLOW PByWs2wfyAXs3EXt:RBZUZAbUzmU47EE3\nLOW PByWs2wfyAXs3EXt:RBZUZAbUzmU47EE3\nLOW PByWs2wfyAXs3EXt:RBZUZAbUzmU47EE3\nLOW PByWs2wfyAXs3EXt:RBZUZAbUzmU47EE3\nLOW PByWs2wfyAXs3EXt:RBZUZAbUzmU47EE3\nLOW PByWs2wfyAXs3EXt:RBZUZAbUzmU47EE3\nLOW PByWs2wfyAXs3EXt:RBZUZAbUzmU47EE3\nLOW PByWs2wfyAXs3EXt:RBZUZAbUzmU47EE3\nLOW PByWs2wfyAXs3EXt:RBZUZAbUzmU47EE3\nLOW PByWs2wfyAXs3EXt:RBZUZAbUzmU47EE3\nLOW PByWs2wfyAXs3EXt:RBZUZAbUzmU47EE3\nLOW PByWs2wfyAXs3EXt:RBZUZAbUzmU47EE3\nLOW PByWs2wfyAXs3EXt:RBZUZAbUzmU47EE3\nLOW PByWs2wfyAXs3EXt:RBZUZAbUzmU47EE3\nLOW PByWs2wfyAXs3EXt:RBZUZAbUzmU47EE3\nLOW PByWs2wfyAXs3EXt:RBZUZAbUzmU47EE3\nLOW PByWs2wfyAXs3EXt:RBZUZAbUzmU47EE3\nLOW PByWs2wfyAXs3EXt:RBZUZAbUzmU47EE3\nLOW PByWs2wfyAXs3EXt:RBZUZAbUzmU47EE3\nLOW PByWs2wfyAXs3EXt:RBZUZAbUzmU47EE3\nLOW PByWs2wfyAXs3EXt:RBZUZAbUzmU47EE3\nLOW PByWs2wfyAXs3EXt:RBZUZAbUzmU47EE3\nLOW PByWs2wfyAXs3EXt:RBZUZAbUzmU47EE3\nLOW PByWs2wfyAXs3EXt:RBZUZAbUzmU47EE3\nLOW PByWs2wfyAXs3EXt:RBZUZAbUzmU47EE3\nLOW PByWs2wfyAXs3EXt:RBZUZAbUzmU47EE3\nLOW PByWs2wfyAXs3EXt:RBZUZAbUzmU47EE3\nLOW PByWs2wfyAXs3EXt:RBZUZAbUzmU47EE3\nLOW PByWs2wfyAXs3EXt:RBZUZAbUzmU47EE3\nLOW PByWs2wfyAXs3EXt:RBZUZAbUzmU47EE3\nLOW PByWs2wfyAXs3EXt:RBZUZAbUzmU47EE3\nLOW PByWs2wfyAXs3EXt:RBZUZAbUzmU47EE3\nLOW PByWs2wfyAXs3EXt:RBZUZAbUzmU47EE3\nLOW PByWs2wfyAXs3EXt:RBZUZAbUzmU47EE3\nLOW PByWs2wfyAXs3EXt:RBZUZAbUzmU47EE3\nLOW PByWs2wfyAXs3EXt:RBZUZAbUzmU47EE3\nLOW PByWs2wfyAXs3EXt:RBZUZAbUzmU47EE3\nLOW PByWs2wfyAXs3EXt:RBZUZAbUzmU47EE3\nLOW PByWs2wfyAXs3EXt:RBZUZAbUzmU47EE3\nLOW PByWs2wfyAXs3EXt:RBZUZAbUzmU47EE3\nLOW PByWs2wfyAXs3EXt:RBZUZAbUzmU47EE3\nLOW PByWs2wfyAXs3EXt:RBZUZAbUzmU47EE3\nLOW PByWs2wfyAXs3EXt:RBZUZAbUzmU47EE3\nLOW PByWs2wfyAXs3EXt:RBZUZAbUzmU47EE3\nLOW PByWs2wfyAXs3EXt:RBZUZAbUzmU47EE3\nLOW PByWs2wfyAXs3EXt:RBZUZAbUzmU47EE3\nLOW PByWs2wfyAXs3EXt:RBZUZAbUzmU47EE3\nLOW PByWs2wfyAXs3EXt:RBZUZAbUzmU47EE3\nLOW PByWs2wfyAXs3EXt:RBZUZAbUzmU47EE3\nLOW PByWs2wfyAXs3EXt:RBZUZAbUzmU47EE3\nLOW PByWs2wfyAXs3EXt:RBZUZAbUzmU47EE3\nLOW PByWs2wfyAXs3EXt:RBZUZAbUzmU47EE3\nLOW PByWs2wfyAXs3EXt:RBZUZAbUzmU47EE3\nLOW PByWs2wfyAXs3EXt:RBZUZAbUzmU47EE3\nLOW PByWs2wfyAXs3EXt:RBZUZAbUzmU47EE3\nLOW PByWs2wfyAXs3EXt:RBZUZAbUzmU47EE3\nLOW PByWs2wfyAXs3EXt:RBZUZAbUzmU47EE3\nLOW PByWs2wfyAXs3EXt:RBZUZAbUzmU47EE3\nLOW PByWs2wfyAXs3EXt:RBZUZAbUzmU47EE3\nLOW PByWs2wfyAXs3EXt:RBZUZAbUzmU47EE3\nLOW PByWs2wfyAXs3EXt:RBZUZAbUzmU47EE3\nLOW PByWs2wfyAXs3EXt:RBZUZAbUzmU47EE3\nLOW PByWs2wfyAXs3EXt:RBZUZAbUzmU47EE3\nLOW PByWs2wfyAXs3EXt:RBZUZAbUzmU47EE3\nLOW PByWs2wfyAXs3EXt:RBZUZAbUzmU47EE3\nLOW PByWs2wfyAXs3EXt:RBZUZAbUzmU47EE3\nLOW PByWs2wfyAXs3EXt:RBZUZAbUzmU47EE3\nLOW PByWs2wfyAXs3EXt:RBZUZAbUzmU47EE3\nLOW PByWs2wfyAXs3EXt:RBZUZAbUzmU47EE3\nLOW PByWs2wfyAXs3EXt:RBZUZAbUzmU47EE3\nLOW PByWs2wfyAXs3EXt:RBZUZAbUzmU47EE3\nLOW PByWs2wfyAXs3EXt:RBZUZAbUzmU47EE3\nLOW PByWs2wfyAXs3EXt:RBZUZAbUzmU47EE3\nLOW PByWs2wfyAXs3EXt:RBZUZAbUzmU47EE3\nLOW PByWs2wfyAXs3EXt:RBZUZAbUzmU47EE3\nLOW PByWs2wfyAXs3EXt:RBZUZAbUzmU47EE3\nLOW PByWs2wfyAXs3EXt:RBZUZAbUzmU47EE3\nLOW PByWs2wfyAXs3EXt:RBZUZAbUzmU47EE3\nLOW PByWs2wfyAXs3EXt:RBZUZAbUzmU47EE3\nLOW PByWs2wfyAXs3EXt:RBZUZAbUzmU47EE3\nLOW PByWs2wfyAXs3EXt:RBZUZAbUzmU47EE3\nLOW PByWs2wfyAXs3EXt:RBZUZAbUzmU47EE3\nLOW PByWs2wfyAXs3EXt:RBZUZAbUzmU47EE3\nLOW PByWs2wfyAXs3EXt:RBZUZAbUzmU47EE3\nLOW PByWs2wfyAXs3EXt:RBZUZAbUzmU47EE3\nLOW PByWs2wfyAXs3EXt:RBZUZAbUzmU47EE3\nLOW PByWs2wfyAXs3EXt:RBZUZAbUzmU47EE3\nLOW PByWs2wfyAXs3EXt:RBZUZAbUzmU47EE3\nLOW PByWs2wfyAXs3EXt:RBZUZAbUzmU47EE3\nLOW PByWs2wfyAXs3EXt:RBZUZAbUzmU47EE3\nLOW PByWs2wfyAXs3EXt:RBZUZAbUzmU47EE3\nLOW PByWs2wfyAXs3EXt:RBZUZAbUzmU47EE3\nLOW PByWs2wfyAXs3EXt:RBZUZAbUzmU47EE3\nLOW PByWs2wfyAXs3EXt:RBZUZAbUzmU47EE3\nLOW PByWs2wfyAXs3EXt:RBZUZAbUzmU47EE3\nLOW PByWs2wfyAXs3EXt:RBZUZAbUzmU47EE3\nLOW PByWs2wfyAXs3EXt:RBZUZAbUzmU47EE3\nLOW PByWs2wfyAXs3EXt:RBZUZAbUzmU47EE3\nLOW PByWs2wfyAXs3EXt:RBZUZAbUzmU47EE3\nLOW PByWs2wfyAXs3EXt:RBZUZAbUzmU47EE3\nLOW PByWs2wfyAXs3EXt:RBZUZAbUzmU47EE3\nLOW PByWs2wfyAXs3EXt:RBZUZAbUzmU47EE3\nLOW PByWs2wfyAXs3EXt:RBZUZAbUzmU47EE3\nLOW PByWs2wfyAXs3EXt:RBZUZAbUzmU47EE3\nLOW PByWs2wfyAXs3EXt:RBZUZAbUzmU47EE3\nLOW PByWs2wfyAXs3EXt:RBZUZAbUzmU47EE3\nLOW PByWs2wfyAXs3EXt:RBZUZAbUzmU47EE3\nLOW PByWs2wfyAXs3EXt:RBZUZAbUzmU47EE3\nLOW PByWs2wfyAXs3EXt:RBZUZAbUzmU47EE3\nLOW PByWs2wfyAXs3EXt:RBZUZAbUzmU47EE3\nLOW PByWs2wfyAXs3EXt:RBZUZAbUzmU47EE3\nLOW PByWs2wfyAXs3EXt:RBZUZAbUzmU47EE3\nLOW PByWs2wfyAXs3EXt:RBZUZAbUzmU47EE3\nLOW PByWs2wfyAXs3EXt:RBZUZAbUzmU47EE3\nLOW PByWs2wfyAXs3EXt:RBZUZAbUzmU47EE3\nLOW PByWs2wfyAXs3EXt:RBZUZAbUzmU47EE3\nLOW PByWs2wfyAXs3EXt:RBZUZAbUzmU47EE3\nLOW PByWs2wfyAXs3EXt:RBZUZAbUzmU47EE3\nLOW PByWs2wfyAXs3EXt:RBZUZAbUzmU47EE3\nLOW PByWs2wfyAXs3EXt:RBZUZAbUzmU47EE3\nLOW PByWs2wfyAXs3EXt:RBZUZAbUzmU47EE3\nLOW PByWs2wfyAXs3EXt:RBZUZAbUzmU47EE3\nLOW PByWs2wfyAXs3EXt:RBZUZAbUzmU47EE3\nLOW PByWs2wfyAXs3EXt:RBZUZAbUzmU47EE3\nLOW PByWs2wfyAXs3EXt:RBZUZAbUzmU47EE3\nLOW PByWs2wfyAXs3EXt:RBZUZAbUzmU47EE3\nLOW PByWs2wfyAXs3EXt:RBZUZAbUzmU47EE3\nLOW PByWs2wfyAXs3EXt:RBZUZAbUzmU47EE3\nLOW PByWs2wfyAXs3EXt:RBZUZAbUzmU47EE3\nLOW PByWs2wfyAXs3EXt:RBZUZAbUzmU47EE3\nLOW PByWs2wfyAXs3EXt:RBZUZAbUzmU47EE3\nLOW PByWs2wfyAXs3EXt:RBZUZAbUzmU47EE3\nLOW PByWs2wfyAXs3EXt:RBZUZAbUzmU47EE3\nLOW PByWs2wfyAXs3EXt:RBZUZAbUzmU47EE3\nLOW PByWs2wfyAXs3EXt:RBZUZAbUzmU47EE3\nLOW PByWs2wfyAXs3EXt:RBZUZAbUzmU47EE3\nLOW PByWs2wfyAXs3EXt:RBZUZAbUzmU47EE3\nLOW PByWs2wfyAXs3EXt:RBZUZAbUzmU47EE3\nLOW PByWs2wfyAXs3EXt:RBZUZAbUzmU47EE3\nLOW PByWs2wfyAXs3EXt:RBZUZAbUzmU47EE3\nLOW PByWs2wfyAXs3EXt:RBZUZAbUzmU47EE3\nLOW PByWs2wfyAXs3EXt:RBZUZAbUzmU47EE3\nLOW PByWs2wfyAXs3EXt:RBZUZAbUzmU47EE3\nLOW PByWs2wfyAXs3EXt:RBZUZAbUzmU47EE3\nLOW PByWs2wfyAXs3EXt:RBZUZAbUzmU47EE3\nLOW PByWs2wfyAXs3EXt:RBZUZAbUzmU47EE3\nLOW PByWs2wfyAXs3EXt:RBZUZAbUzmU47EE3\nLOW PByWs2wfyAXs3EXt:RBZUZAbUzmU47EE3\nLOW PByWs2wfyAXs3EXt:RBZUZAbUzmU47EE3\nLOW PByWs2wfyAXs3EXt:RBZUZAbUzmU47EE3\nLOW PByWs2wfyAXs3EXt:RBZUZAbUzmU47EE3\nLOW PByWs2wfyAXs3EXt:RBZUZAbUzmU47EE3\nLOW PByWs2wfyAXs3EXt:RBZUZAbUzmU47EE3\nLOW PByWs2wfyAXs3EXt:RBZUZAbUzmU47EE3\nLOW PByWs2wfyAXs3EXt:RBZUZAbUzmU47EE3\nLOW PByWs2wfyAXs3EXt:RBZUZAbUzmU47EE3\nLOW PByWs2wfyAXs3EXt:RBZUZAbUzmU47EE3\nLOW PByWs2wfyAXs3EXt:RBZUZAbUzmU47EE3\nLOW PByWs2wfyAXs3EXt:RBZUZAbUzmU47EE3\nLOW PByWs2wfyAXs3EXt:RBZUZAbUzmU47EE3\nLOW PByWs2wfyAXs3EXt:RBZUZAbUzmU47EE3\nLOW PByWs2wfyAXs3EXt:RBZUZAbUzmU47EE3\nLOW PByWs2wfyAXs3EXt:RBZUZAbUzmU47EE3\nLOW PByWs2wfyAXs3EXt:RBZUZAbUzmU47EE3\nLOW PByWs2wfyAXs3EXt:RBZUZAbUzmU47EE3\nLOW PByWs2wfyAXs3EXt:RBZUZAbUzmU47EE3\nLOW PByWs2wfyAXs3EXt:RBZUZAbUzmU47EE3\nLOW PByWs2wfyAXs3EXt:RBZUZAbUzmU47EE3\nLOW PByWs2wfyAXs3EXt:RBZUZAbUzmU47EE3\nLOW PByWs2wfyAXs3EXt:RBZUZAbUzmU47EE3\nLOW PByWs2wfyAXs3EXt:RBZUZAbUzmU47EE3\nLOW PByWs2wfyAXs3EXt:RBZUZAbUzmU47EE3\nLOW PByWs2wfyAXs3EXt:RBZUZAbUzmU47EE3\nLOW PByWs2wfyAXs3EXt:RBZUZAbUzmU47EE3\nLOW PByWs2wfyAXs3EXt:RBZUZAbUzmU47EE3\nLOW PByWs2wfyAXs3EXt:RBZUZAbUzmU47EE3\nLOW PByWs2wfyAXs3EXt:RBZUZAbUzmU47EE3\nLOW PByWs2wfyAXs3EXt:RBZUZAbUzmU47EE3\nLOW PByWs2wfyAXs3EXt:RBZUZAbUzmU47EE3\nLOW PByWs2wfyAXs3EXt:RBZUZAbUzmU47EE3\nLOW PByWs2wfyAXs3EXt:RBZUZAbUzmU47EE3\nLOW PByWs2wfyAXs3EXt:RBZUZAbUzmU47EE3\nLOW PByWs2wfyAXs3EXt:RBZUZAbUzmU47EE3\nLOW PByWs2wfyAXs3EXt:RBZUZAbUzmU47EE3\nLOW PByWs2wfyAXs3EXt:RBZUZAbUzmU47EE3\nLOW PByWs2wfyAXs3EXt:RBZUZAbUzmU47EE3\nLOW PByWs2wfyAXs3EXt:RBZUZAbUzmU47EE3\nLOW PByWs2wfyAXs3EXt:RBZUZAbUzmU47EE3\nLOW PByWs2wfyAXs3EXt:RBZUZAbUzmU47EE3\n"
    }
   ],
   "source": [
    "meta = []\n",
    "year = []\n",
    "for i in df_search['identifier']:\n",
    "    item = get_item(i)\n",
    "    meta.append(item)\n"
   ]
  },
  {
   "cell_type": "code",
   "execution_count": 31,
   "metadata": {},
   "outputs": [],
   "source": [
    "df_meta = pd.DataFrame(meta)"
   ]
  },
  {
   "cell_type": "code",
   "execution_count": 32,
   "metadata": {},
   "outputs": [
    {
     "output_type": "execute_result",
     "data": {
      "text/plain": "                                                       0\n0                           Item(identifier='01Antics1')\n1                           Item(identifier='01Trips24')\n2                            Item(identifier='01Voodoo')\n3                       Item(identifier='01dointhatrag')\n4                           Item(identifier='02Antics2')\n...                                                  ...\n15874                    Item(identifier='wg2005-10-31')\n15875                    Item(identifier='worddocument')\n15876  Item(identifier='yahoo-groups-2018-06-09T11-07...\n15877                  Item(identifier='zebu2018-10-09')\n15878                  Item(identifier='zebu2018-12-17')\n\n[15879 rows x 1 columns]",
      "text/html": "<div>\n<style scoped>\n    .dataframe tbody tr th:only-of-type {\n        vertical-align: middle;\n    }\n\n    .dataframe tbody tr th {\n        vertical-align: top;\n    }\n\n    .dataframe thead th {\n        text-align: right;\n    }\n</style>\n<table border=\"1\" class=\"dataframe\">\n  <thead>\n    <tr style=\"text-align: right;\">\n      <th></th>\n      <th>0</th>\n    </tr>\n  </thead>\n  <tbody>\n    <tr>\n      <th>0</th>\n      <td>Item(identifier='01Antics1')</td>\n    </tr>\n    <tr>\n      <th>1</th>\n      <td>Item(identifier='01Trips24')</td>\n    </tr>\n    <tr>\n      <th>2</th>\n      <td>Item(identifier='01Voodoo')</td>\n    </tr>\n    <tr>\n      <th>3</th>\n      <td>Item(identifier='01dointhatrag')</td>\n    </tr>\n    <tr>\n      <th>4</th>\n      <td>Item(identifier='02Antics2')</td>\n    </tr>\n    <tr>\n      <th>...</th>\n      <td>...</td>\n    </tr>\n    <tr>\n      <th>15874</th>\n      <td>Item(identifier='wg2005-10-31')</td>\n    </tr>\n    <tr>\n      <th>15875</th>\n      <td>Item(identifier='worddocument')</td>\n    </tr>\n    <tr>\n      <th>15876</th>\n      <td>Item(identifier='yahoo-groups-2018-06-09T11-07...</td>\n    </tr>\n    <tr>\n      <th>15877</th>\n      <td>Item(identifier='zebu2018-10-09')</td>\n    </tr>\n    <tr>\n      <th>15878</th>\n      <td>Item(identifier='zebu2018-12-17')</td>\n    </tr>\n  </tbody>\n</table>\n<p>15879 rows × 1 columns</p>\n</div>"
     },
     "metadata": {},
     "execution_count": 32
    }
   ],
   "source": [
    "df_meta.to_csv(\"./data/meta_data.csv\")"
   ]
  },
  {
   "cell_type": "code",
   "execution_count": 16,
   "metadata": {},
   "outputs": [],
   "source": [
    "df_search.to_csv(\"./data/GD_search_results.csv\")"
   ]
  },
  {
   "cell_type": "code",
   "execution_count": 17,
   "metadata": {},
   "outputs": [
    {
     "output_type": "execute_result",
     "data": {
      "text/plain": "{'identifier': 'gd93-03-10.sbd.ladner.2024.sbeok.shnf'}"
     },
     "metadata": {},
     "execution_count": 17
    }
   ],
   "source": [
    "{'identifier': 'gd93-03-10.sbd.ladner.2024.sbeok.shnf'}"
   ]
  },
  {
   "cell_type": "code",
   "execution_count": 18,
   "metadata": {
    "tags": []
   },
   "outputs": [],
   "source": [
    "# d = download('gd1990-03-21.aud.gidley.91767.sbeok.flac16') ## works w/o a session for aud files, can download a torrent"
   ]
  },
  {
   "cell_type": "code",
   "execution_count": 19,
   "metadata": {
    "tags": []
   },
   "outputs": [
    {
     "output_type": "stream",
     "name": "stdout",
     "text": "LOW PByWs2wfyAXs3EXt:RBZUZAbUzmU47EE3\n"
    }
   ],
   "source": [
    "item = get_item('gd93-03-10.sbd.ladner.2024.sbeok.shnf')"
   ]
  },
  {
   "cell_type": "code",
   "execution_count": 20,
   "metadata": {
    "tags": []
   },
   "outputs": [
    {
     "output_type": "stream",
     "name": "stdout",
     "text": "LOW PByWs2wfyAXs3EXt:RBZUZAbUzmU47EE3\n"
    }
   ],
   "source": [
    "s_item = s.get_item('gd1990-03-30.sbd.barbella.8366.sbeok.shnf')"
   ]
  },
  {
   "cell_type": "code",
   "execution_count": 21,
   "metadata": {},
   "outputs": [
    {
     "output_type": "execute_result",
     "data": {
      "text/plain": "'/25/items/gd93-03-10.sbd.ladner.2024.sbeok.shnf'"
     },
     "metadata": {},
     "execution_count": 21
    }
   ],
   "source": [
    "item.dir"
   ]
  },
  {
   "cell_type": "code",
   "execution_count": 22,
   "metadata": {},
   "outputs": [
    {
     "output_type": "execute_result",
     "data": {
      "text/plain": "'/19/items/gd1990-03-30.sbd.barbella.8366.sbeok.shnf'"
     },
     "metadata": {},
     "execution_count": 22
    }
   ],
   "source": [
    "s_item.dir"
   ]
  },
  {
   "cell_type": "code",
   "execution_count": 23,
   "metadata": {},
   "outputs": [
    {
     "output_type": "execute_result",
     "data": {
      "text/plain": "{'identifier': 'gd1990-03-30.sbd.barbella.8366.sbeok.shnf',\n 'title': 'Grateful Dead Live at Nassau Veterans Memorial Coliseum on 1990-03-30',\n 'creator': 'Grateful Dead',\n 'mediatype': 'etree',\n 'collection': ['GratefulDead', 'etree', 'stream_only'],\n 'type': 'sound',\n 'description': \"Set 1\\n\\nHelp On The Way -->\\nSlipknot! -->\\nFranklin's Tower  \\nLittle Red Rooster \\nDire Wolf  \\nIt's All Over Now  \\nJust Like Tom Thumb's Blues  \\nPicasso Moon  \\nDon't Ease Me In  \\n\\nSet 2\\n\\nIko Iko  \\nPlayin' In The Band -->\\nChina Doll -->\\nUncle John's Band -->\\nTerrapin Station -->\\nDrums -->\\nSpace -->\\nI Need A Miracle -->\\nGimme Some Lovin'-->\\nStanding On the Moon -->\\nNot Fade Away  \\n\\nEncore\\nAttics Of My Life\",\n 'date': '1990-03-30',\n 'year': '1990',\n 'subject': 'Soundboard;Steve Barbella',\n 'publicdate': '2009-01-21 22:21:26',\n 'addeddate': '2009-01-20 15:06:29',\n 'uploader': 'mvernon54@yahoo.com',\n 'updater': ['Matthew Vernon', 'Matthew Vernon', 'Matthew Vernon'],\n 'updatedate': ['2009-01-21 22:25:23',\n  '2009-08-13 00:25:18',\n  '2010-01-26 02:42:11'],\n 'venue': 'Nassau Veterans Memorial Coliseum',\n 'coverage': 'Uniondale, NY',\n 'source': '24-track master (presumably ADAT) > 2-track mixdown > DAT > Cass > PCM > CD',\n 'transferer': 'Steve Barbella',\n 'md5s': 'cfb50b919b566517c767c0406240722d *gd90-03-30d1t01multi.shn\\r\\nbf45251c12cfe81ff2e15eadbe68d408 *gd90-03-30d1t02multi.shn\\r\\nc3ccc8f1afd033f42102b1abc1a726ab *gd90-03-30d1t03multi.shn\\r\\n9e353204dcc9e15bcb796f1cd31460d4 *gd90-03-30d1t04multi.shn\\r\\nb7151979594238e95088b00eb479ffc1 *gd90-03-30d1t05multi.shn\\r\\n209d27a87979824831911fb1f3546203 *gd90-03-30d1t06multi.shn\\r\\n408e335bc9a7dd49953af493f99d9674 *gd90-03-30d1t07multi.shn\\r\\n36b8e1a02f1abbb87249bd5f67cb7d49 *gd90-03-30d1t08multi.shn\\r\\na8416644da5ded4f9cc7a057bf4dfe1a *gd90-03-30d1t09multi.shn\\r\\n36d3abbbed72ea1aa31490288416a563 *gd90-03-30d2t01multi.shn\\r\\nf2cbace1c39d2f56ee57794077bd3265 *gd90-03-30d2t02multi.shn\\r\\n1172fd770b8130db4656e9796d069171 *gd90-03-30d2t03multi.shn\\r\\nb8623bafeb5a783c5a64891aa7b54bbf *gd90-03-30d2t04multi.shn\\r\\n520877631165bc009509e6bcd7657ccb *gd90-03-30d2t05multi.shn\\r\\ne9f08f1345009d2d6ac5952b39ad42f4 *gd90-03-30d2t06multi.shn\\r\\n1f33b070aa225e59fc84f07f172a8cbb *gd90-03-30d3t01multi.shn\\r\\n7aa759fbfbd0d7a7e519bed80869637a *gd90-03-30d3t02multi.shn\\r\\nc7f013b92e5482e361011287501fc98b *gd90-03-30d3t03multi.shn\\r\\nee9540647683e72809fda0925bfd3e82 *gd90-03-30d3t04multi.shn\\r\\n7bdca3a2e1c47c196856652c39ddd202 *gd90-03-30d3t05multi.shn\\r\\n28bbcbe72f70a749626f18194a102738 *gd90-03-30d3t06multi.shn',\n 'notes': \"EAC>SHN transfer by Steve Barbella\\nseeded Feb '02\\n\\nEAC Test and Copy, offsets config'd, no errors, 100% all tracks\\nshns via MKW v.97, seek enabled\\nsector boundaries confirmed via shntool\",\n 'backup_location': 'ia903602_25'}"
     },
     "metadata": {},
     "execution_count": 23
    }
   ],
   "source": [
    "s_item.metadata"
   ]
  },
  {
   "cell_type": "code",
   "execution_count": 24,
   "metadata": {
    "tags": []
   },
   "outputs": [],
   "source": [
    "s = s_item.get_files()"
   ]
  },
  {
   "cell_type": "code",
   "execution_count": 25,
   "metadata": {
    "tags": []
   },
   "outputs": [
    {
     "output_type": "stream",
     "name": "stdout",
     "text": "<generator object Item.get_files at 0x1b2aa78d0>\n"
    }
   ],
   "source": [
    "print(s)"
   ]
  },
  {
   "cell_type": "code",
   "execution_count": 26,
   "metadata": {
    "tags": []
   },
   "outputs": [
    {
     "output_type": "stream",
     "name": "stdout",
     "text": "LOW PByWs2wfyAXs3EXt:RBZUZAbUzmU47EE3\n"
    }
   ],
   "source": [
    "f = get_files('gd1990-03-30.sbd.barbella.8366.sbeok.shnf')"
   ]
  },
  {
   "cell_type": "code",
   "execution_count": 27,
   "metadata": {
    "tags": []
   },
   "outputs": [
    {
     "output_type": "stream",
     "name": "stdout",
     "text": "<generator object Item.get_files at 0x1b2b493d0>\n"
    }
   ],
   "source": [
    "print(f)"
   ]
  },
  {
   "cell_type": "code",
   "execution_count": 28,
   "metadata": {
    "tags": []
   },
   "outputs": [
    {
     "output_type": "stream",
     "name": "stdout",
     "text": "LOW PByWs2wfyAXs3EXt:RBZUZAbUzmU47EE3\n"
    }
   ],
   "source": [
    "fnames = [f.name for f in get_files('gd1990-03-30.sbd.barbella.8366.sbeok.shnf', glob_pattern='*mp3')]"
   ]
  },
  {
   "cell_type": "code",
   "execution_count": 29,
   "metadata": {
    "tags": []
   },
   "outputs": [
    {
     "output_type": "stream",
     "name": "stdout",
     "text": "['gd90-03-30d1t01multi.mp3', 'gd90-03-30d1t02multi.mp3', 'gd90-03-30d1t03multi.mp3', 'gd90-03-30d1t04multi.mp3', 'gd90-03-30d1t05multi.mp3', 'gd90-03-30d1t06multi.mp3', 'gd90-03-30d1t07multi.mp3', 'gd90-03-30d1t08multi.mp3', 'gd90-03-30d1t09multi.mp3', 'gd90-03-30d2t01multi.mp3', 'gd90-03-30d2t02multi.mp3', 'gd90-03-30d2t03multi.mp3', 'gd90-03-30d2t04multi.mp3', 'gd90-03-30d2t05multi.mp3', 'gd90-03-30d2t06multi.mp3', 'gd90-03-30d3t01multi.mp3', 'gd90-03-30d3t02multi.mp3', 'gd90-03-30d3t03multi.mp3', 'gd90-03-30d3t04multi.mp3', 'gd90-03-30d3t05multi.mp3', 'gd90-03-30d3t06multi.mp3']\n"
    }
   ],
   "source": [
    "print(fnames)"
   ]
  },
  {
   "cell_type": "code",
   "execution_count": 30,
   "metadata": {
    "tags": []
   },
   "outputs": [
    {
     "output_type": "stream",
     "name": "stdout",
     "text": "gd1990-03-30.sbd.barbella.8366.sbeok.shnf:. - success\n"
    },
    {
     "output_type": "execute_result",
     "data": {
      "text/plain": "[]"
     },
     "metadata": {},
     "execution_count": 30
    }
   ],
   "source": [
    "s_item.download('gd90-03-30d1t01multi.mp3', destdir=\"downloads\")"
   ]
  }
 ],
 "metadata": {
  "language_info": {
   "codemirror_mode": {
    "name": "ipython",
    "version": 3
   },
   "file_extension": ".py",
   "mimetype": "text/x-python",
   "name": "python",
   "nbconvert_exporter": "python",
   "pygments_lexer": "ipython3",
   "version": "3.7.7-final"
  },
  "orig_nbformat": 2,
  "kernelspec": {
   "name": "python37764bitarchvenvvenv24e91d2851964b159e7924f1f8e80ea8",
   "display_name": "Python 3.7.7 64-bit ('archVenv': venv)"
  }
 },
 "nbformat": 4,
 "nbformat_minor": 2
}