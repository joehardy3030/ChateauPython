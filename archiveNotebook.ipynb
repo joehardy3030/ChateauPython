{
 "cells": [
  {
   "cell_type": "code",
   "execution_count": 6,
   "metadata": {},
   "outputs": [],
   "source": [
    "import internetarchive\n",
    "from internetarchive import get_item\n",
    "from internetarchive import download\n",
    "from internetarchive import search_items\n",
    "from internetarchive import search\n",
    "from internetarchive import get_session\n",
    "from internetarchive import configure\n",
    "from internetarchive import get_files\n",
    "import numpy as np\n",
    "import pandas as pd\n"
   ]
  },
  {
   "cell_type": "code",
   "execution_count": 93,
   "metadata": {},
   "outputs": [
    {
     "output_type": "error",
     "ename": "AuthenticationError",
     "evalue": "Account not found, check your email and try again.",
     "traceback": [
      "\u001b[0;31m---------------------------------------------------------------------------\u001b[0m",
      "\u001b[0;31mAuthenticationError\u001b[0m                       Traceback (most recent call last)",
      "\u001b[0;32m<ipython-input-93-f2958f095cff>\u001b[0m in \u001b[0;36m<module>\u001b[0;34m\u001b[0m\n\u001b[0;32m----> 1\u001b[0;31m \u001b[0mconfigure\u001b[0m\u001b[0;34m(\u001b[0m\u001b[0musername\u001b[0m\u001b[0;34m=\u001b[0m\u001b[0;34m'DEADTRON$3030'\u001b[0m\u001b[0;34m,\u001b[0m \u001b[0mpassword\u001b[0m\u001b[0;34m=\u001b[0m\u001b[0;34m'garica1'\u001b[0m\u001b[0;34m)\u001b[0m\u001b[0;34m\u001b[0m\u001b[0;34m\u001b[0m\u001b[0m\n\u001b[0m",
      "\u001b[0;32m~/Dev/internetarchive/internetarchive/api.py\u001b[0m in \u001b[0;36mconfigure\u001b[0;34m(username, password, config_file, host)\u001b[0m\n\u001b[1;32m    553\u001b[0m     \u001b[0mpassword\u001b[0m \u001b[0;34m=\u001b[0m \u001b[0mgetpass\u001b[0m\u001b[0;34m(\u001b[0m\u001b[0;34m'Password: '\u001b[0m\u001b[0;34m)\u001b[0m \u001b[0;32mif\u001b[0m \u001b[0;32mnot\u001b[0m \u001b[0mpassword\u001b[0m \u001b[0;32melse\u001b[0m \u001b[0mpassword\u001b[0m\u001b[0;34m\u001b[0m\u001b[0;34m\u001b[0m\u001b[0m\n\u001b[1;32m    554\u001b[0m     config_file_path = config_module.write_config_file(\n\u001b[0;32m--> 555\u001b[0;31m         username, password, config_file, host)\n\u001b[0m\u001b[1;32m    556\u001b[0m     \u001b[0;32mreturn\u001b[0m \u001b[0mconfig_file_path\u001b[0m\u001b[0;34m\u001b[0m\u001b[0;34m\u001b[0m\u001b[0m\n\u001b[1;32m    557\u001b[0m \u001b[0;34m\u001b[0m\u001b[0m\n",
      "\u001b[0;32m~/Dev/internetarchive/internetarchive/config.py\u001b[0m in \u001b[0;36mwrite_config_file\u001b[0;34m(username, password, config_file, host)\u001b[0m\n\u001b[1;32m     75\u001b[0m \u001b[0;32mdef\u001b[0m \u001b[0mwrite_config_file\u001b[0m\u001b[0;34m(\u001b[0m\u001b[0musername\u001b[0m\u001b[0;34m,\u001b[0m \u001b[0mpassword\u001b[0m\u001b[0;34m,\u001b[0m \u001b[0mconfig_file\u001b[0m\u001b[0;34m=\u001b[0m\u001b[0;32mNone\u001b[0m\u001b[0;34m,\u001b[0m \u001b[0mhost\u001b[0m\u001b[0;34m=\u001b[0m\u001b[0;32mNone\u001b[0m\u001b[0;34m)\u001b[0m\u001b[0;34m:\u001b[0m\u001b[0;34m\u001b[0m\u001b[0;34m\u001b[0m\u001b[0m\n\u001b[1;32m     76\u001b[0m     \u001b[0mconfig_file\u001b[0m\u001b[0;34m,\u001b[0m \u001b[0mconfig\u001b[0m \u001b[0;34m=\u001b[0m \u001b[0mparse_config_file\u001b[0m\u001b[0;34m(\u001b[0m\u001b[0mconfig_file\u001b[0m\u001b[0;34m)\u001b[0m\u001b[0;34m\u001b[0m\u001b[0;34m\u001b[0m\u001b[0m\n\u001b[0;32m---> 77\u001b[0;31m     \u001b[0mauth_config\u001b[0m \u001b[0;34m=\u001b[0m \u001b[0mget_auth_config\u001b[0m\u001b[0;34m(\u001b[0m\u001b[0musername\u001b[0m\u001b[0;34m,\u001b[0m \u001b[0mpassword\u001b[0m\u001b[0;34m,\u001b[0m \u001b[0mhost\u001b[0m\u001b[0;34m)\u001b[0m\u001b[0;34m\u001b[0m\u001b[0;34m\u001b[0m\u001b[0m\n\u001b[0m\u001b[1;32m     78\u001b[0m \u001b[0;34m\u001b[0m\u001b[0m\n\u001b[1;32m     79\u001b[0m     \u001b[0;31m# S3 Keys.\u001b[0m\u001b[0;34m\u001b[0m\u001b[0;34m\u001b[0m\u001b[0;34m\u001b[0m\u001b[0m\n",
      "\u001b[0;32m~/Dev/internetarchive/internetarchive/config.py\u001b[0m in \u001b[0;36mget_auth_config\u001b[0;34m(email, password, host)\u001b[0m\n\u001b[1;32m     56\u001b[0m         \u001b[0;32melse\u001b[0m\u001b[0;34m:\u001b[0m\u001b[0;34m\u001b[0m\u001b[0;34m\u001b[0m\u001b[0m\n\u001b[1;32m     57\u001b[0m             \u001b[0mmsg\u001b[0m \u001b[0;34m=\u001b[0m \u001b[0;34m'Authentication failed: {}'\u001b[0m\u001b[0;34m.\u001b[0m\u001b[0mformat\u001b[0m\u001b[0;34m(\u001b[0m\u001b[0mmsg\u001b[0m\u001b[0;34m)\u001b[0m\u001b[0;34m\u001b[0m\u001b[0;34m\u001b[0m\u001b[0m\n\u001b[0;32m---> 58\u001b[0;31m         \u001b[0;32mraise\u001b[0m \u001b[0mAuthenticationError\u001b[0m\u001b[0;34m(\u001b[0m\u001b[0mmsg\u001b[0m\u001b[0;34m)\u001b[0m\u001b[0;34m\u001b[0m\u001b[0;34m\u001b[0m\u001b[0m\n\u001b[0m\u001b[1;32m     59\u001b[0m     auth_config = {\n\u001b[1;32m     60\u001b[0m         's3': {\n",
      "\u001b[0;31mAuthenticationError\u001b[0m: Account not found, check your email and try again."
     ]
    }
   ],
   "source": [
    "configure(username='joehardy_1974@yahoo.com', password='garica1')"
   ]
  },
  {
   "cell_type": "code",
   "execution_count": 8,
   "metadata": {},
   "outputs": [],
   "source": [
    "s = get_session()\n",
    "s.mount_http_adapter()\n",
    "search_results = s.search_items('nasa')"
   ]
  },
  {
   "cell_type": "code",
   "execution_count": 9,
   "metadata": {
    "tags": []
   },
   "outputs": [
    {
     "output_type": "stream",
     "name": "stdout",
     "text": "LOW PByWs2wfyAXs3EXt:RBZUZAbUzmU47EE3\n"
    },
    {
     "output_type": "execute_result",
     "data": {
      "text/plain": "True"
     },
     "metadata": {},
     "execution_count": 9
    }
   ],
   "source": [
    "item = get_item('GratefulDead')\n",
    "item.exists"
   ]
  },
  {
   "cell_type": "code",
   "execution_count": 5,
   "metadata": {},
   "outputs": [],
   "source": [
    "# item.item_metadata['metadata']"
   ]
  },
  {
   "cell_type": "code",
   "execution_count": 10,
   "metadata": {},
   "outputs": [],
   "source": [
    "search_results = s.search_items('GratefulDead')"
   ]
  },
  {
   "cell_type": "code",
   "execution_count": 9,
   "metadata": {
    "tags": []
   },
   "outputs": [],
   "source": [
    "#search_results.auth.__dict__['access_key']"
   ]
  },
  {
   "cell_type": "code",
   "execution_count": 10,
   "metadata": {},
   "outputs": [],
   "source": [
    "#auth_str = 'LOW {a}:{s}'.format(a=search_results.auth.__dict__['access_key'], #s=search_results.auth.__dict__['secret_key'])\n"
   ]
  },
  {
   "cell_type": "code",
   "execution_count": 11,
   "metadata": {},
   "outputs": [],
   "source": [
    "#auth_str"
   ]
  },
  {
   "cell_type": "code",
   "execution_count": 12,
   "metadata": {},
   "outputs": [],
   "source": [
    "# https://archive.org/services/search/v1/scrape?q=collection%3AGratefulDead"
   ]
  },
  {
   "cell_type": "code",
   "execution_count": 13,
   "metadata": {},
   "outputs": [],
   "source": [
    "#search_results.iter_as_items"
   ]
  },
  {
   "cell_type": "code",
   "execution_count": 16,
   "metadata": {
    "tags": []
   },
   "outputs": [],
   "source": [
    "#df_search = pd.DataFrame(search_results)\n",
    "#for sr in search_results:\n",
    "#    print(sr)\n",
    "#    break"
   ]
  },
  {
   "cell_type": "code",
   "execution_count": 12,
   "metadata": {
    "tags": []
   },
   "outputs": [],
   "source": [
    "#meta = []\n",
    "#year = []\n",
    "#for i in df_search['identifier']:\n",
    "#    item = get_item(i)\n",
    "#    meta.append(item)\n"
   ]
  },
  {
   "cell_type": "code",
   "execution_count": 31,
   "metadata": {},
   "outputs": [],
   "source": [
    "#df_meta = pd.DataFrame(meta)"
   ]
  },
  {
   "cell_type": "code",
   "execution_count": 15,
   "metadata": {},
   "outputs": [],
   "source": [
    "#df_meta.to_csv(\"./data/meta_data.csv\")"
   ]
  },
  {
   "cell_type": "code",
   "execution_count": 16,
   "metadata": {},
   "outputs": [],
   "source": [
    "#df_search.to_csv(\"./data/GD_search_results.csv\")"
   ]
  },
  {
   "cell_type": "code",
   "execution_count": 13,
   "metadata": {},
   "outputs": [],
   "source": [
    "#{'identifier': 'gd93-03-10.sbd.ladner.2024.sbeok.shnf'}"
   ]
  },
  {
   "cell_type": "code",
   "execution_count": 18,
   "metadata": {
    "tags": []
   },
   "outputs": [],
   "source": [
    "# d = download('gd1990-03-21.aud.gidley.91767.sbeok.flac16') ## works w/o a session for aud files, can download a torrent"
   ]
  },
  {
   "cell_type": "code",
   "execution_count": 14,
   "metadata": {
    "tags": []
   },
   "outputs": [],
   "source": [
    "#item = get_item('gd93-03-10.sbd.ladner.2024.sbeok.shnf')"
   ]
  },
  {
   "cell_type": "code",
   "execution_count": 17,
   "metadata": {},
   "outputs": [],
   "source": [
    "id = 'gd1977-05-09.mtx.seamons.98168.flac16'"
   ]
  },
  {
   "cell_type": "code",
   "execution_count": 57,
   "metadata": {
    "tags": []
   },
   "outputs": [
    {
     "output_type": "stream",
     "name": "stdout",
     "text": "LOW PByWs2wfyAXs3EXt:RBZUZAbUzmU47EE3\n"
    }
   ],
   "source": [
    "item = get_item(id)"
   ]
  },
  {
   "cell_type": "code",
   "execution_count": 18,
   "metadata": {
    "tags": []
   },
   "outputs": [
    {
     "output_type": "stream",
     "name": "stdout",
     "text": "LOW PByWs2wfyAXs3EXt:RBZUZAbUzmU47EE3\n"
    }
   ],
   "source": [
    "s_item = s.get_item(id)"
   ]
  },
  {
   "cell_type": "code",
   "execution_count": 20,
   "metadata": {},
   "outputs": [
    {
     "output_type": "execute_result",
     "data": {
      "text/plain": "'/31/items/gd1977-05-09.mtx.seamons.98168.flac16'"
     },
     "metadata": {},
     "execution_count": 20
    }
   ],
   "source": [
    "s_item.dir"
   ]
  },
  {
   "cell_type": "code",
   "execution_count": 21,
   "metadata": {},
   "outputs": [
    {
     "output_type": "execute_result",
     "data": {
      "text/plain": "{'identifier': 'gd1977-05-09.mtx.seamons.98168.flac16',\n 'title': 'Grateful Dead Live at Buffalo Memorial Auditorium on 1977-05-09',\n 'creator': 'Grateful Dead',\n 'mediatype': 'etree',\n 'collection': ['GratefulDead', 'etree', 'stream_only'],\n 'type': 'sound',\n 'description': \"Set I\\n-----\\nd1t01 - Help On The Way ->\\nd1t02 - Slipknot! ->\\nd1t03 - Franklin's Tower\\nd1t04 - Cassidy\\nd1t05 - Brown Eyed Women\\nd1t06 - Mexicali Blues\\nd1t07 - Tennessee Jed\\nd1t08 - Big River\\nd1t09 - Peggy-O\\nd2t01 - Sunrise\\nd2t02 - The Music Never Stopped\\n\\nSet II\\n-----\\nd2t03 - Bertha ->\\nd2t04 - Good Lovin'\\nd2t05 - Ship Of Fools\\nd3t01 - Estimated Prophet ->\\nd3t02 - The Other One ->\\nd3t03 - Drums ->\\nd3t04 - Not Fade Away ->\\nd3t05 - Comes A Time ->\\nd3t06 - Sugar Magnolia\\n\\nEncore\\n------\\nd3t07 - Uncle John's Band\",\n 'date': '1977-05-09',\n 'year': '1977',\n 'subject': 'Soundboard;Matrix;Hunter Seamons',\n 'publicdate': '2009-03-30 14:51:21',\n 'addeddate': '2009-03-30 02:36:31',\n 'uploader': 'mvernon54@yahoo.com',\n 'venue': 'Buffalo Memorial Auditorium',\n 'coverage': 'Buffalo, NY',\n 'source': 'Matrix by Hunter Seamons',\n 'md5s': 'bdfab86de1b01c7d08035b10178c3bda *gd77-05-09d1t01.flac\\r\\na273a87bba9461fce7e3b7845f0cc68f *gd77-05-09d1t02.flac\\r\\neaff53a35500aafa9f03726ca85ef9da *gd77-05-09d1t03.flac\\r\\n706fc62cd03f1ba70740733d07542eb6 *gd77-05-09d1t04.flac\\r\\n97a9ac8e20598a5ba5584743a6b674a3 *gd77-05-09d1t05.flac\\r\\nbd386aa089232861eb0dedc0b39b30f2 *gd77-05-09d1t06.flac\\r\\n43e50ace21e0b6aabae8bdb13825c5d4 *gd77-05-09d1t07.flac\\r\\n456105d14459538d24327d35880a6822 *gd77-05-09d1t08.flac\\r\\nb00d9743ec62c737e72dd31cf373049c *gd77-05-09d1t09.flac\\r\\n7a1d23dfc9e6690a1f75464b446dba1d *gd77-05-09d2t01.flac\\r\\n07f7a76315e277209ec444b7585c2261 *gd77-05-09d2t02.flac\\r\\n4773c1e30aa7da6e37a2280e746982d3 *gd77-05-09d2t03.flac\\r\\n96801d5f1a9d79a5409f2cdfbff72b59 *gd77-05-09d2t04.flac\\r\\nc239ed27ee0afa24b005d76b13fcd67c *gd77-05-09d2t05.flac\\r\\n0856df726b7d9e7b1ce69c523eae92c6 *gd77-05-09d3t01.flac\\r\\n13626daa406273998b0fa5fab40ae333 *gd77-05-09d3t02.flac\\r\\ncea710bfcc6fe897ff8fd6f509ea87aa *gd77-05-09d3t03.flac\\r\\n90c5c22ff80817219ab8398cd9629a55 *gd77-05-09d3t04.flac\\r\\n9ecfd8d72d8bf009b935386d3c9e7e3f *gd77-05-09d3t05.flac\\r\\nc0b160fd42a134474bee7423791d5178 *gd77-05-09d3t06.flac\\r\\n6a40d40325c802281bb869ffa801d840 *gd77-05-09d3t07.flac',\n 'notes': '1) The matrix begins at 1:51 of Help, preceded by a twenty-second AUD fade-in.\\n\\n2) Two \"click\" sounds in Help, and one in Sugar Mags, in the SBD source, were removed using Soundtrack Pro. \\n\\n3) Minor shifts in levels/mix in the SBD at various points.',\n 'updatedate': '2009-03-30 14:53:57',\n 'updater': 'Matthew Vernon',\n 'backup_location': 'ia903602_33'}"
     },
     "metadata": {},
     "execution_count": 21
    }
   ],
   "source": [
    "s_item.metadata"
   ]
  },
  {
   "cell_type": "code",
   "execution_count": 22,
   "metadata": {
    "tags": []
   },
   "outputs": [],
   "source": [
    "s = s_item.get_files()"
   ]
  },
  {
   "cell_type": "code",
   "execution_count": 58,
   "metadata": {},
   "outputs": [],
   "source": [
    "gf = item.get_files()"
   ]
  },
  {
   "cell_type": "code",
   "execution_count": 26,
   "metadata": {
    "tags": []
   },
   "outputs": [
    {
     "output_type": "stream",
     "name": "stdout",
     "text": "LOW PByWs2wfyAXs3EXt:RBZUZAbUzmU47EE3\n"
    }
   ],
   "source": [
    "#f = get_files('gd1990-03-30.sbd.barbella.8366.sbeok.shnf')"
   ]
  },
  {
   "cell_type": "code",
   "execution_count": 27,
   "metadata": {
    "tags": []
   },
   "outputs": [
    {
     "output_type": "stream",
     "name": "stdout",
     "text": "<generator object Item.get_files at 0x1b2b493d0>\n"
    }
   ],
   "source": [
    "#print(f)"
   ]
  },
  {
   "cell_type": "code",
   "execution_count": 89,
   "metadata": {
    "tags": []
   },
   "outputs": [],
   "source": [
    "#glob_pattern='*mp3'\n",
    "fnames = [f.name for f in s_item.get_files(id, glob_pattern='*mp3')]"
   ]
  },
  {
   "cell_type": "code",
   "execution_count": null,
   "metadata": {},
   "outputs": [],
   "source": []
  },
  {
   "cell_type": "code",
   "execution_count": 90,
   "metadata": {
    "tags": []
   },
   "outputs": [
    {
     "output_type": "stream",
     "name": "stdout",
     "text": "['gd77-05-09d1t01.flac', 'gd77-05-09d1t02.flac', 'gd77-05-09d1t03.flac', 'gd77-05-09d1t04.flac', 'gd77-05-09d1t05.flac', 'gd77-05-09d1t06.flac', 'gd77-05-09d1t07.flac', 'gd77-05-09d1t08.flac', 'gd77-05-09d1t09.flac', 'gd77-05-09d2t01.flac', 'gd77-05-09d2t02.flac', 'gd77-05-09d2t03.flac', 'gd77-05-09d2t04.flac', 'gd77-05-09d2t05.flac', 'gd77-05-09d3t01.flac', 'gd77-05-09d3t02.flac', 'gd77-05-09d3t03.flac', 'gd77-05-09d3t04.flac', 'gd77-05-09d3t05.flac', 'gd77-05-09d3t06.flac', 'gd77-05-09d3t07.flac']\n"
    }
   ],
   "source": [
    "print(fnames)"
   ]
  },
  {
   "cell_type": "code",
   "execution_count": 91,
   "metadata": {
    "tags": []
   },
   "outputs": [
    {
     "output_type": "stream",
     "name": "stdout",
     "text": "gd1977-05-09.mtx.seamons.98168.flac16:LOW PByWs2wfyAXs3EXt:RBZUZAbUzmU47EE3\ne"
    },
    {
     "output_type": "error",
     "ename": "HTTPError",
     "evalue": "403 Client Error: Forbidden for url: https://ia802708.us.archive.org/31/items/gd1977-05-09.mtx.seamons.98168.flac16/gd77-05-09d1t01.flac",
     "traceback": [
      "\u001b[0;31m---------------------------------------------------------------------------\u001b[0m",
      "\u001b[0;31mHTTPError\u001b[0m                                 Traceback (most recent call last)",
      "\u001b[0;32m<ipython-input-91-c46c001b056a>\u001b[0m in \u001b[0;36m<module>\u001b[0;34m\u001b[0m\n\u001b[1;32m      1\u001b[0m \u001b[0;32mfor\u001b[0m \u001b[0mf\u001b[0m \u001b[0;32min\u001b[0m \u001b[0mfnames\u001b[0m\u001b[0;34m:\u001b[0m\u001b[0;34m\u001b[0m\u001b[0;34m\u001b[0m\u001b[0m\n\u001b[0;32m----> 2\u001b[0;31m     \u001b[0ms_item\u001b[0m\u001b[0;34m.\u001b[0m\u001b[0mdownload\u001b[0m\u001b[0;34m(\u001b[0m\u001b[0mf\u001b[0m\u001b[0;34m)\u001b[0m\u001b[0;34m\u001b[0m\u001b[0;34m\u001b[0m\u001b[0m\n\u001b[0m",
      "\u001b[0;32m~/Dev/internetarchive/internetarchive/item.py\u001b[0m in \u001b[0;36mdownload\u001b[0;34m(self, files, formats, glob_pattern, dry_run, verbose, silent, ignore_existing, checksum, destdir, no_directory, retries, item_index, ignore_errors, on_the_fly, return_responses, no_change_timestamp, ignore_history_dir, params)\u001b[0m\n\u001b[1;32m    624\u001b[0m             r = f.download(path, verbose, silent, ignore_existing, checksum, destdir,\n\u001b[1;32m    625\u001b[0m                            \u001b[0mretries\u001b[0m\u001b[0;34m,\u001b[0m \u001b[0mignore_errors\u001b[0m\u001b[0;34m,\u001b[0m \u001b[0;32mNone\u001b[0m\u001b[0;34m,\u001b[0m \u001b[0mreturn_responses\u001b[0m\u001b[0;34m,\u001b[0m\u001b[0;34m\u001b[0m\u001b[0;34m\u001b[0m\u001b[0m\n\u001b[0;32m--> 626\u001b[0;31m                            no_change_timestamp, params)\n\u001b[0m\u001b[1;32m    627\u001b[0m             \u001b[0;32mif\u001b[0m \u001b[0mreturn_responses\u001b[0m\u001b[0;34m:\u001b[0m\u001b[0;34m\u001b[0m\u001b[0;34m\u001b[0m\u001b[0m\n\u001b[1;32m    628\u001b[0m                 \u001b[0mresponses\u001b[0m\u001b[0;34m.\u001b[0m\u001b[0mappend\u001b[0m\u001b[0;34m(\u001b[0m\u001b[0mr\u001b[0m\u001b[0;34m)\u001b[0m\u001b[0;34m\u001b[0m\u001b[0;34m\u001b[0m\u001b[0m\n",
      "\u001b[0;32m~/Dev/internetarchive/internetarchive/files.py\u001b[0m in \u001b[0;36mdownload\u001b[0;34m(self, file_path, verbose, silent, ignore_existing, checksum, destdir, retries, ignore_errors, fileobj, return_responses, no_change_timestamp, params)\u001b[0m\n\u001b[1;32m    292\u001b[0m                 \u001b[0;32mreturn\u001b[0m \u001b[0;32mFalse\u001b[0m\u001b[0;34m\u001b[0m\u001b[0;34m\u001b[0m\u001b[0m\n\u001b[1;32m    293\u001b[0m             \u001b[0;32melse\u001b[0m\u001b[0;34m:\u001b[0m\u001b[0;34m\u001b[0m\u001b[0;34m\u001b[0m\u001b[0m\n\u001b[0;32m--> 294\u001b[0;31m                 \u001b[0;32mraise\u001b[0m \u001b[0mexc\u001b[0m\u001b[0;34m\u001b[0m\u001b[0;34m\u001b[0m\u001b[0m\n\u001b[0m\u001b[1;32m    295\u001b[0m \u001b[0;34m\u001b[0m\u001b[0m\n\u001b[1;32m    296\u001b[0m         \u001b[0;31m# Set mtime with mtime from files.xml.\u001b[0m\u001b[0;34m\u001b[0m\u001b[0;34m\u001b[0m\u001b[0;34m\u001b[0m\u001b[0m\n",
      "\u001b[0;32m~/Dev/internetarchive/internetarchive/files.py\u001b[0m in \u001b[0;36mdownload\u001b[0;34m(self, file_path, verbose, silent, ignore_existing, checksum, destdir, retries, ignore_errors, fileobj, return_responses, no_change_timestamp, params)\u001b[0m\n\u001b[1;32m    264\u001b[0m                                              \u001b[0mauth\u001b[0m\u001b[0;34m=\u001b[0m\u001b[0mself\u001b[0m\u001b[0;34m.\u001b[0m\u001b[0mauth\u001b[0m\u001b[0;34m,\u001b[0m\u001b[0;34m\u001b[0m\u001b[0;34m\u001b[0m\u001b[0m\n\u001b[1;32m    265\u001b[0m                                              params=params)\n\u001b[0;32m--> 266\u001b[0;31m             \u001b[0mresponse\u001b[0m\u001b[0;34m.\u001b[0m\u001b[0mraise_for_status\u001b[0m\u001b[0;34m(\u001b[0m\u001b[0;34m)\u001b[0m\u001b[0;34m\u001b[0m\u001b[0;34m\u001b[0m\u001b[0m\n\u001b[0m\u001b[1;32m    267\u001b[0m             \u001b[0;32mif\u001b[0m \u001b[0mreturn_responses\u001b[0m\u001b[0;34m:\u001b[0m\u001b[0;34m\u001b[0m\u001b[0;34m\u001b[0m\u001b[0m\n\u001b[1;32m    268\u001b[0m                 \u001b[0;32mreturn\u001b[0m \u001b[0mresponse\u001b[0m\u001b[0;34m\u001b[0m\u001b[0;34m\u001b[0m\u001b[0m\n",
      "\u001b[0;32m~/Dev/internetarchive/archVenv/lib/python3.6/site-packages/requests/models.py\u001b[0m in \u001b[0;36mraise_for_status\u001b[0;34m(self)\u001b[0m\n\u001b[1;32m    939\u001b[0m \u001b[0;34m\u001b[0m\u001b[0m\n\u001b[1;32m    940\u001b[0m         \u001b[0;32mif\u001b[0m \u001b[0mhttp_error_msg\u001b[0m\u001b[0;34m:\u001b[0m\u001b[0;34m\u001b[0m\u001b[0;34m\u001b[0m\u001b[0m\n\u001b[0;32m--> 941\u001b[0;31m             \u001b[0;32mraise\u001b[0m \u001b[0mHTTPError\u001b[0m\u001b[0;34m(\u001b[0m\u001b[0mhttp_error_msg\u001b[0m\u001b[0;34m,\u001b[0m \u001b[0mresponse\u001b[0m\u001b[0;34m=\u001b[0m\u001b[0mself\u001b[0m\u001b[0;34m)\u001b[0m\u001b[0;34m\u001b[0m\u001b[0;34m\u001b[0m\u001b[0m\n\u001b[0m\u001b[1;32m    942\u001b[0m \u001b[0;34m\u001b[0m\u001b[0m\n\u001b[1;32m    943\u001b[0m     \u001b[0;32mdef\u001b[0m \u001b[0mclose\u001b[0m\u001b[0;34m(\u001b[0m\u001b[0mself\u001b[0m\u001b[0;34m)\u001b[0m\u001b[0;34m:\u001b[0m\u001b[0;34m\u001b[0m\u001b[0;34m\u001b[0m\u001b[0m\n",
      "\u001b[0;31mHTTPError\u001b[0m: 403 Client Error: Forbidden for url: https://ia802708.us.archive.org/31/items/gd1977-05-09.mtx.seamons.98168.flac16/gd77-05-09d1t01.flac"
     ]
    }
   ],
   "source": [
    "for f in fnames:\n",
    "    s_item.download(f)"
   ]
  }
 ],
 "metadata": {
  "language_info": {
   "codemirror_mode": {
    "name": "ipython",
    "version": 3
   },
   "file_extension": ".py",
   "mimetype": "text/x-python",
   "name": "python",
   "nbconvert_exporter": "python",
   "pygments_lexer": "ipython3",
   "version": "3.6.9-final"
  },
  "orig_nbformat": 2,
  "kernelspec": {
   "name": "python_defaultSpec_1600307675264",
   "display_name": "Python 3.6.9 64-bit ('archVenv': venv)"
  }
 },
 "nbformat": 4,
 "nbformat_minor": 2
}