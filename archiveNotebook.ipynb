{
 "cells": [
  {
   "cell_type": "code",
   "execution_count": 29,
   "metadata": {},
   "outputs": [],
   "source": [
    "import internetarchive\n",
    "from internetarchive import get_item\n",
    "from internetarchive import download\n",
    "from internetarchive import search_items\n",
    "from internetarchive import search\n",
    "from internetarchive import get_session\n",
    "from internetarchive import configure\n",
    "from internetarchive import get_files\n"
   ]
  },
  {
   "cell_type": "code",
   "execution_count": 30,
   "metadata": {},
   "outputs": [
    {
     "output_type": "execute_result",
     "data": {
      "text/plain": "'/Users/joehardy/.ia'"
     },
     "metadata": {},
     "execution_count": 30
    }
   ],
   "source": [
    "# configure(username='joehardy_1974@yahoo.com', password='')"
   ]
  },
  {
   "cell_type": "code",
   "execution_count": 31,
   "metadata": {},
   "outputs": [],
   "source": [
    "s = get_session()\n",
    "s.mount_http_adapter()\n",
    "search_results = s.search_items('nasa')"
   ]
  },
  {
   "cell_type": "code",
   "execution_count": 32,
   "metadata": {},
   "outputs": [
    {
     "output_type": "execute_result",
     "data": {
      "text/plain": "True"
     },
     "metadata": {},
     "execution_count": 32
    }
   ],
   "source": [
    "item = get_item('GratefulDead')\n",
    "item.exists"
   ]
  },
  {
   "cell_type": "code",
   "execution_count": 33,
   "metadata": {},
   "outputs": [
    {
     "output_type": "execute_result",
     "data": {
      "text/plain": "'Grateful Dead'"
     },
     "metadata": {},
     "execution_count": 33
    }
   ],
   "source": [
    "item.item_metadata['metadata']['title']"
   ]
  },
  {
   "cell_type": "code",
   "execution_count": 34,
   "metadata": {},
   "outputs": [
    {
     "output_type": "execute_result",
     "data": {
      "text/plain": "Search(query='nasa')"
     },
     "metadata": {},
     "execution_count": 34
    }
   ],
   "source": [
    "search_results"
   ]
  },
  {
   "cell_type": "code",
   "execution_count": 35,
   "metadata": {},
   "outputs": [
    {
     "output_type": "execute_result",
     "data": {
      "text/plain": "<internetarchive.session.ArchiveSession at 0x111f4b850>"
     },
     "metadata": {},
     "execution_count": 35
    }
   ],
   "source": [
    "s"
   ]
  },
  {
   "cell_type": "code",
   "execution_count": 36,
   "metadata": {},
   "outputs": [],
   "source": [
    "search_results = s.search_items('GratefulDead')"
   ]
  },
  {
   "cell_type": "code",
   "execution_count": 37,
   "metadata": {},
   "outputs": [
    {
     "output_type": "execute_result",
     "data": {
      "text/plain": "<bound method Search.iter_as_items of Search(query='GratefulDead')>"
     },
     "metadata": {},
     "execution_count": 37
    }
   ],
   "source": [
    "search_results.iter_as_items"
   ]
  },
  {
   "cell_type": "code",
   "execution_count": 38,
   "metadata": {
    "tags": []
   },
   "outputs": [
    {
     "output_type": "stream",
     "name": "stdout",
     "text": "{'identifier': '01Antics1'}\n"
    }
   ],
   "source": [
    "for sr in search_results:\n",
    "    print(sr)\n",
    "    break"
   ]
  },
  {
   "cell_type": "code",
   "execution_count": 39,
   "metadata": {},
   "outputs": [
    {
     "output_type": "execute_result",
     "data": {
      "text/plain": "{'identifier': 'gd93-03-10.sbd.ladner.2024.sbeok.shnf'}"
     },
     "metadata": {},
     "execution_count": 39
    }
   ],
   "source": [
    "{'identifier': 'gd93-03-10.sbd.ladner.2024.sbeok.shnf'}"
   ]
  },
  {
   "cell_type": "code",
   "execution_count": null,
   "metadata": {},
   "outputs": [],
   "source": [
    "d = download('gd1990-03-21.aud.gidley.91767.sbeok.flac16') ## works w/o a session for aud files, can download a torrent"
   ]
  },
  {
   "cell_type": "code",
   "execution_count": 40,
   "metadata": {},
   "outputs": [],
   "source": [
    "item = get_item('gd93-03-10.sbd.ladner.2024.sbeok.shnf')"
   ]
  },
  {
   "cell_type": "code",
   "execution_count": 46,
   "metadata": {},
   "outputs": [],
   "source": [
    "s_item = s.get_item('gd1990-03-30.sbd.barbella.8366.sbeok.shnf')"
   ]
  },
  {
   "cell_type": "code",
   "execution_count": 47,
   "metadata": {},
   "outputs": [
    {
     "output_type": "execute_result",
     "data": {
      "text/plain": "'/19/items/gd1990-03-30.sbd.barbella.8366.sbeok.shnf'"
     },
     "metadata": {},
     "execution_count": 47
    }
   ],
   "source": [
    "item.dir"
   ]
  },
  {
   "cell_type": "code",
   "execution_count": 48,
   "metadata": {},
   "outputs": [
    {
     "output_type": "execute_result",
     "data": {
      "text/plain": "'/19/items/gd1990-03-30.sbd.barbella.8366.sbeok.shnf'"
     },
     "metadata": {},
     "execution_count": 48
    }
   ],
   "source": [
    "s_item.dir"
   ]
  },
  {
   "cell_type": "code",
   "execution_count": 49,
   "metadata": {
    "tags": []
   },
   "outputs": [],
   "source": [
    "s = s_item.get_files()"
   ]
  },
  {
   "cell_type": "code",
   "execution_count": 50,
   "metadata": {
    "tags": []
   },
   "outputs": [
    {
     "output_type": "stream",
     "name": "stdout",
     "text": "<generator object Item.get_files at 0x112f56350>\n"
    }
   ],
   "source": [
    "print(s)"
   ]
  },
  {
   "cell_type": "code",
   "execution_count": 51,
   "metadata": {},
   "outputs": [],
   "source": [
    "f = get_files('gd1990-03-30.sbd.barbella.8366.sbeok.shnf')"
   ]
  },
  {
   "cell_type": "code",
   "execution_count": 52,
   "metadata": {
    "tags": []
   },
   "outputs": [
    {
     "output_type": "stream",
     "name": "stdout",
     "text": "<generator object Item.get_files at 0x112f56ad0>\n"
    }
   ],
   "source": [
    "print(f)"
   ]
  },
  {
   "cell_type": "code",
   "execution_count": 53,
   "metadata": {},
   "outputs": [],
   "source": [
    "fnames = [f.name for f in get_files('gd1990-03-30.sbd.barbella.8366.sbeok.shnf', glob_pattern='*mp3')]"
   ]
  },
  {
   "cell_type": "code",
   "execution_count": 54,
   "metadata": {
    "tags": []
   },
   "outputs": [
    {
     "output_type": "stream",
     "name": "stdout",
     "text": "['gd90-03-30d1t01multi.mp3', 'gd90-03-30d1t02multi.mp3', 'gd90-03-30d1t03multi.mp3', 'gd90-03-30d1t04multi.mp3', 'gd90-03-30d1t05multi.mp3', 'gd90-03-30d1t06multi.mp3', 'gd90-03-30d1t07multi.mp3', 'gd90-03-30d1t08multi.mp3', 'gd90-03-30d1t09multi.mp3', 'gd90-03-30d2t01multi.mp3', 'gd90-03-30d2t02multi.mp3', 'gd90-03-30d2t03multi.mp3', 'gd90-03-30d2t04multi.mp3', 'gd90-03-30d2t05multi.mp3', 'gd90-03-30d2t06multi.mp3', 'gd90-03-30d3t01multi.mp3', 'gd90-03-30d3t02multi.mp3', 'gd90-03-30d3t03multi.mp3', 'gd90-03-30d3t04multi.mp3', 'gd90-03-30d3t05multi.mp3', 'gd90-03-30d3t06multi.mp3']\n"
    }
   ],
   "source": [
    "print(fnames)"
   ]
  },
  {
   "cell_type": "code",
   "execution_count": 55,
   "metadata": {
    "tags": []
   },
   "outputs": [
    {
     "output_type": "stream",
     "name": "stdout",
     "text": "gd1990-03-30.sbd.barbella.8366.sbeok.shnf:. - success\n"
    },
    {
     "output_type": "execute_result",
     "data": {
      "text/plain": "[]"
     },
     "metadata": {},
     "execution_count": 55
    }
   ],
   "source": [
    "s_item.download('gd90-03-30d1t01multi.mp3')"
   ]
  }
 ],
 "metadata": {
  "language_info": {
   "codemirror_mode": {
    "name": "ipython",
    "version": 3
   },
   "file_extension": ".py",
   "mimetype": "text/x-python",
   "name": "python",
   "nbconvert_exporter": "python",
   "pygments_lexer": "ipython3",
   "version": "3.7.7-final"
  },
  "orig_nbformat": 2,
  "kernelspec": {
   "name": "python37764bitarchvenvvenvacd8f9d91cd349cfa5326974cd3f38f5",
   "display_name": "Python 3.7.7 64-bit ('archVenv': venv)"
  }
 },
 "nbformat": 4,
 "nbformat_minor": 2
}