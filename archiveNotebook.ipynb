{
 "cells": [
  {
   "cell_type": "code",
   "execution_count": null,
   "metadata": {},
   "outputs": [],
   "source": [
    "import internetarchive as ia\n",
    "import numpy as np\n",
    "import pandas as pd\n"
   ]
  },
  {
   "cell_type": "code",
   "execution_count": 34,
   "metadata": {},
   "outputs": [],
   "source": [
    "# Don't actually need to login\n",
    "# ia.configure(username='joehardy_1974@yahoo.com', password='Deltron$3030')"
   ]
  },
  {
   "cell_type": "code",
   "execution_count": 35,
   "metadata": {},
   "outputs": [],
   "source": [
    "s = ia.get_session()\n",
    "s.mount_http_adapter()\n",
    "search_results = s.search_items('nasa')"
   ]
  },
  {
   "cell_type": "code",
   "execution_count": 36,
   "metadata": {
    "tags": []
   },
   "outputs": [
    {
     "data": {
      "text/plain": [
       "True"
      ]
     },
     "execution_count": 36,
     "metadata": {},
     "output_type": "execute_result"
    }
   ],
   "source": [
    "item = ia.get_item('GratefulDead')\n",
    "item.exists"
   ]
  },
  {
   "cell_type": "code",
   "execution_count": 37,
   "metadata": {},
   "outputs": [
    {
     "data": {
      "text/plain": [
       "[]"
      ]
     },
     "execution_count": 37,
     "metadata": {},
     "output_type": "execute_result"
    }
   ],
   "source": [
    "item.reviews"
   ]
  },
  {
   "cell_type": "code",
   "execution_count": 38,
   "metadata": {},
   "outputs": [],
   "source": [
    "# search_results = s.search_items('GratefulDead')"
   ]
  },
  {
   "cell_type": "code",
   "execution_count": 39,
   "metadata": {},
   "outputs": [],
   "source": [
    "#id = 'gd1977-05-09.mtx.seamons.98168.flac16'\n",
    "id = 'gd1990-03-30.sbd.barbella.8366.sbeok.shnf'"
   ]
  },
  {
   "cell_type": "code",
   "execution_count": 40,
   "metadata": {
    "tags": []
   },
   "outputs": [],
   "source": [
    "item = s.get_item(id)"
   ]
  },
  {
   "cell_type": "code",
   "execution_count": 41,
   "metadata": {},
   "outputs": [
    {
     "data": {
      "text/plain": [
       "[]"
      ]
     },
     "execution_count": 41,
     "metadata": {},
     "output_type": "execute_result"
    }
   ],
   "source": [
    "item.reviews"
   ]
  },
  {
   "cell_type": "code",
   "execution_count": 42,
   "metadata": {},
   "outputs": [
    {
     "data": {
      "text/plain": [
       "'https://archive.org/manage/gd1990-03-30.sbd.barbella.8366.sbeok.shnf'"
      ]
     },
     "execution_count": 42,
     "metadata": {},
     "output_type": "execute_result"
    }
   ],
   "source": [
    "item.urls.manage"
   ]
  },
  {
   "cell_type": "code",
   "execution_count": 43,
   "metadata": {
    "tags": []
   },
   "outputs": [],
   "source": [
    "s_item = s.get_item(id)"
   ]
  },
  {
   "cell_type": "code",
   "execution_count": 44,
   "metadata": {},
   "outputs": [
    {
     "data": {
      "text/plain": [
       "'/30/items/gd1990-03-30.sbd.barbella.8366.sbeok.shnf'"
      ]
     },
     "execution_count": 44,
     "metadata": {},
     "output_type": "execute_result"
    }
   ],
   "source": [
    "s_item.dir"
   ]
  },
  {
   "cell_type": "code",
   "execution_count": 45,
   "metadata": {},
   "outputs": [
    {
     "data": {
      "text/plain": [
       "{'identifier': 'gd1990-03-30.sbd.barbella.8366.sbeok.shnf',\n",
       " 'title': 'Grateful Dead Live at Nassau Veterans Memorial Coliseum on 1990-03-30',\n",
       " 'creator': 'Grateful Dead',\n",
       " 'mediatype': 'etree',\n",
       " 'collection': ['GratefulDead', 'etree', 'stream_only'],\n",
       " 'type': 'sound',\n",
       " 'description': \"Set 1\\n\\nHelp On The Way -->\\nSlipknot! -->\\nFranklin's Tower  \\nLittle Red Rooster \\nDire Wolf  \\nIt's All Over Now  \\nJust Like Tom Thumb's Blues  \\nPicasso Moon  \\nDon't Ease Me In  \\n\\nSet 2\\n\\nIko Iko  \\nPlayin' In The Band -->\\nChina Doll -->\\nUncle John's Band -->\\nTerrapin Station -->\\nDrums -->\\nSpace -->\\nI Need A Miracle -->\\nGimme Some Lovin'-->\\nStanding On the Moon -->\\nNot Fade Away  \\n\\nEncore\\nAttics Of My Life\",\n",
       " 'date': '1990-03-30',\n",
       " 'year': '1990',\n",
       " 'subject': 'Soundboard;Steve Barbella',\n",
       " 'publicdate': '2009-01-21 22:21:26',\n",
       " 'addeddate': '2009-01-20 15:06:29',\n",
       " 'uploader': 'mvernon54@yahoo.com',\n",
       " 'updater': ['Matthew Vernon', 'Matthew Vernon', 'Matthew Vernon'],\n",
       " 'updatedate': ['2009-01-21 22:25:23',\n",
       "  '2009-08-13 00:25:18',\n",
       "  '2010-01-26 02:42:11'],\n",
       " 'venue': 'Nassau Veterans Memorial Coliseum',\n",
       " 'coverage': 'Uniondale, NY',\n",
       " 'source': '24-track master (presumably ADAT) > 2-track mixdown > DAT > Cass > PCM > CD',\n",
       " 'transferer': 'Steve Barbella',\n",
       " 'md5s': 'cfb50b919b566517c767c0406240722d *gd90-03-30d1t01multi.shn\\r\\nbf45251c12cfe81ff2e15eadbe68d408 *gd90-03-30d1t02multi.shn\\r\\nc3ccc8f1afd033f42102b1abc1a726ab *gd90-03-30d1t03multi.shn\\r\\n9e353204dcc9e15bcb796f1cd31460d4 *gd90-03-30d1t04multi.shn\\r\\nb7151979594238e95088b00eb479ffc1 *gd90-03-30d1t05multi.shn\\r\\n209d27a87979824831911fb1f3546203 *gd90-03-30d1t06multi.shn\\r\\n408e335bc9a7dd49953af493f99d9674 *gd90-03-30d1t07multi.shn\\r\\n36b8e1a02f1abbb87249bd5f67cb7d49 *gd90-03-30d1t08multi.shn\\r\\na8416644da5ded4f9cc7a057bf4dfe1a *gd90-03-30d1t09multi.shn\\r\\n36d3abbbed72ea1aa31490288416a563 *gd90-03-30d2t01multi.shn\\r\\nf2cbace1c39d2f56ee57794077bd3265 *gd90-03-30d2t02multi.shn\\r\\n1172fd770b8130db4656e9796d069171 *gd90-03-30d2t03multi.shn\\r\\nb8623bafeb5a783c5a64891aa7b54bbf *gd90-03-30d2t04multi.shn\\r\\n520877631165bc009509e6bcd7657ccb *gd90-03-30d2t05multi.shn\\r\\ne9f08f1345009d2d6ac5952b39ad42f4 *gd90-03-30d2t06multi.shn\\r\\n1f33b070aa225e59fc84f07f172a8cbb *gd90-03-30d3t01multi.shn\\r\\n7aa759fbfbd0d7a7e519bed80869637a *gd90-03-30d3t02multi.shn\\r\\nc7f013b92e5482e361011287501fc98b *gd90-03-30d3t03multi.shn\\r\\nee9540647683e72809fda0925bfd3e82 *gd90-03-30d3t04multi.shn\\r\\n7bdca3a2e1c47c196856652c39ddd202 *gd90-03-30d3t05multi.shn\\r\\n28bbcbe72f70a749626f18194a102738 *gd90-03-30d3t06multi.shn',\n",
       " 'notes': \"EAC>SHN transfer by Steve Barbella\\nseeded Feb '02\\n\\nEAC Test and Copy, offsets config'd, no errors, 100% all tracks\\nshns via MKW v.97, seek enabled\\nsector boundaries confirmed via shntool\",\n",
       " 'backup_location': 'ia903602_25',\n",
       " 'access-restricted-item': 'true'}"
      ]
     },
     "execution_count": 45,
     "metadata": {},
     "output_type": "execute_result"
    }
   ],
   "source": [
    "s_item.metadata"
   ]
  },
  {
   "cell_type": "code",
   "execution_count": 46,
   "metadata": {
    "tags": []
   },
   "outputs": [],
   "source": [
    "s = s_item.get_files()"
   ]
  },
  {
   "cell_type": "code",
   "execution_count": 47,
   "metadata": {},
   "outputs": [],
   "source": [
    "#gf = item.get_files()"
   ]
  },
  {
   "cell_type": "code",
   "execution_count": 48,
   "metadata": {
    "tags": []
   },
   "outputs": [],
   "source": [
    "#glob_pattern='*mp3'\n",
    "fnames = [f.name for f in s_item.get_files(id, glob_pattern='*mp3')]"
   ]
  },
  {
   "cell_type": "code",
   "execution_count": null,
   "metadata": {},
   "outputs": [],
   "source": []
  },
  {
   "cell_type": "code",
   "execution_count": 49,
   "metadata": {
    "tags": []
   },
   "outputs": [
    {
     "name": "stdout",
     "output_type": "stream",
     "text": [
      "['gd90-03-30d1t01multi.mp3', 'gd90-03-30d1t02multi.mp3', 'gd90-03-30d1t03multi.mp3', 'gd90-03-30d1t04multi.mp3', 'gd90-03-30d1t05multi.mp3', 'gd90-03-30d1t06multi.mp3', 'gd90-03-30d1t07multi.mp3', 'gd90-03-30d1t08multi.mp3', 'gd90-03-30d1t09multi.mp3', 'gd90-03-30d2t01multi.mp3', 'gd90-03-30d2t02multi.mp3', 'gd90-03-30d2t03multi.mp3', 'gd90-03-30d2t04multi.mp3', 'gd90-03-30d2t05multi.mp3', 'gd90-03-30d2t06multi.mp3', 'gd90-03-30d3t01multi.mp3', 'gd90-03-30d3t02multi.mp3', 'gd90-03-30d3t03multi.mp3', 'gd90-03-30d3t04multi.mp3', 'gd90-03-30d3t05multi.mp3', 'gd90-03-30d3t06multi.mp3']\n"
     ]
    }
   ],
   "source": [
    "print(fnames)"
   ]
  },
  {
   "cell_type": "code",
   "execution_count": 50,
   "metadata": {
    "tags": []
   },
   "outputs": [],
   "source": [
    "for f in fnames:\n",
    "    s_item.download(f, destdir=\"downloads\")"
   ]
  },
  {
   "cell_type": "code",
   "execution_count": null,
   "metadata": {},
   "outputs": [],
   "source": []
  }
 ],
 "metadata": {
  "kernelspec": {
   "display_name": "Python 3 (ipykernel)",
   "language": "python",
   "name": "python3"
  },
  "language_info": {
   "codemirror_mode": {
    "name": "ipython",
    "version": 3
   },
   "file_extension": ".py",
   "mimetype": "text/x-python",
   "name": "python",
   "nbconvert_exporter": "python",
   "pygments_lexer": "ipython3",
   "version": "3.13.0"
  }
 },
 "nbformat": 4,
 "nbformat_minor": 4
}
