{
 "cells": [
  {
   "cell_type": "code",
   "execution_count": 1,
   "metadata": {},
   "outputs": [],
   "source": [
    "import internetarchive\n",
    "from internetarchive import get_item\n",
    "from internetarchive import download\n",
    "from internetarchive import search_items\n",
    "from internetarchive import search\n",
    "from internetarchive import get_session\n",
    "from internetarchive import configure\n",
    "from internetarchive import get_files\n",
    "import numpy as np\n",
    "import pandas as pd"
   ]
  },
  {
   "cell_type": "code",
   "execution_count": 2,
   "metadata": {},
   "outputs": [],
   "source": [
    "sess = get_session()\n",
    "sess.mount_http_adapter()"
   ]
  },
  {
   "cell_type": "code",
   "execution_count": 3,
   "metadata": {},
   "outputs": [],
   "source": [
    "results = sess.search_items('GratefulDead')"
   ]
  },
  {
   "cell_type": "code",
   "execution_count": 4,
   "metadata": {
    "tags": []
   },
   "outputs": [
    {
     "output_type": "stream",
     "name": "stdout",
     "text": "LOW PByWs2wfyAXs3EXt:RBZUZAbUzmU47EE3\nLOW PByWs2wfyAXs3EXt:RBZUZAbUzmU47EE3\nLOW PByWs2wfyAXs3EXt:RBZUZAbUzmU47EE3\n"
    }
   ],
   "source": [
    "df_results = pd.DataFrame(results)\n"
   ]
  },
  {
   "cell_type": "code",
   "execution_count": 9,
   "metadata": {},
   "outputs": [
    {
     "output_type": "execute_result",
     "data": {
      "text/plain": "'https://archive.org/services/search/v1/scrape'"
     },
     "metadata": {},
     "execution_count": 9
    }
   ],
   "source": []
  },
  {
   "cell_type": "code",
   "execution_count": 5,
   "metadata": {},
   "outputs": [],
   "source": [
    "meta = []\n",
    "for i in df_results['identifier']:\n",
    "    item = get_item(i)\n",
    "    meta.append(item.metadata)"
   ]
  },
  {
   "cell_type": "code",
   "execution_count": null,
   "metadata": {},
   "outputs": [],
   "source": [
    "#https://archive.org/metadata/gd1990-03-30.sbd.barbella.8366.sbeok.shnf\n"
   ]
  }
 ],
 "metadata": {
  "language_info": {
   "codemirror_mode": {
    "name": "ipython",
    "version": 3
   },
   "file_extension": ".py",
   "mimetype": "text/x-python",
   "name": "python",
   "nbconvert_exporter": "python",
   "pygments_lexer": "ipython3",
   "version": "3.7.7-final"
  },
  "orig_nbformat": 2,
  "kernelspec": {
   "name": "python37764bitarchvenvvenv24e91d2851964b159e7924f1f8e80ea8",
   "display_name": "Python 3.7.7 64-bit ('archVenv': venv)"
  }
 },
 "nbformat": 4,
 "nbformat_minor": 2
}