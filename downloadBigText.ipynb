{
 "cells": [
  {
   "cell_type": "code",
   "execution_count": 6,
   "id": "41b81e6e-4ea9-4286-9268-980a9df21ca4",
   "metadata": {},
   "outputs": [],
   "source": [
    "import requests\n",
    "import csv"
   ]
  },
  {
   "cell_type": "code",
   "execution_count": 12,
   "id": "8ff256f9-8734-4db8-8bbc-f2ca78f5a392",
   "metadata": {},
   "outputs": [],
   "source": [
    "orig_file = \"chronicabsenteeism24.txt\""
   ]
  },
  {
   "cell_type": "code",
   "execution_count": 8,
   "id": "3de417c0-6437-46db-a804-1df97e42e649",
   "metadata": {},
   "outputs": [
    {
     "name": "stdout",
     "output_type": "stream",
     "text": [
      "File downloaded successfully and saved as chronicabsenteeism23.txt\n"
     ]
    }
   ],
   "source": [
    "def download_large_file(url, output_file_path):\n",
    "    \"\"\"\n",
    "    Downloads a large file from the given URL and saves it as a .csv file.\n",
    "\n",
    "    Args:\n",
    "        url (str): The URL to download the file from.\n",
    "        output_file_path (str): The path to save the downloaded file.\n",
    "    \"\"\"\n",
    "    try:\n",
    "        # Stream the file from the URL to avoid loading it all at once in memory\n",
    "        with requests.get(url, stream=True) as response:\n",
    "            response.raise_for_status()  # Check for request errors\n",
    "\n",
    "            # Open the output file in write-binary mode\n",
    "            with open(output_file_path, 'wb') as file:\n",
    "                # Write the content in chunks of 1 MB each\n",
    "                for chunk in response.iter_content(chunk_size=1024 * 1024):\n",
    "                    if chunk:  # Ensure there's data to write\n",
    "                        file.write(chunk)\n",
    "\n",
    "        print(f\"File downloaded successfully and saved as {output_file_path}\")\n",
    "\n",
    "    except requests.exceptions.RequestException as e:\n",
    "        print(f\"Error downloading the file: {e}\")\n",
    "\n",
    "# Example usage:\n",
    "url = \"https://www3.cde.ca.gov/demo-downloads/attendance/\" + orig_file  # Replace with your actual URL\n",
    "output_file_path = orig_file         # The output CSV file path\n",
    "download_large_file(url, output_file_path)\n"
   ]
  },
  {
   "cell_type": "code",
   "execution_count": 13,
   "id": "aa6fb878-256b-4179-a713-c648f14bd098",
   "metadata": {},
   "outputs": [
    {
     "name": "stdout",
     "output_type": "stream",
     "text": [
      "File converted successfully and saved as chronicabsenteeism24.txt.csv\n"
     ]
    }
   ],
   "source": [
    "def convert_tab_delimited_to_csv(input_file_path, output_file_path):\n",
    "    \"\"\"\n",
    "    Converts a tab-delimited file to a CSV file.\n",
    "\n",
    "    Args:\n",
    "        input_file_path (str): The path to the input tab-delimited file.\n",
    "        output_file_path (str): The path to save the converted CSV file.\n",
    "    \"\"\"\n",
    "    try:\n",
    "        # Open the tab-delimited file for reading\n",
    "        with open(input_file_path, 'r', newline='', encoding='ISO-8859-1') as tsv_file:\n",
    "            # Create a CSV reader that recognizes tabs as delimiters\n",
    "            tsv_reader = csv.reader(tsv_file, delimiter='\\t')\n",
    "            \n",
    "            # Open the output CSV file for writing\n",
    "            with open(output_file_path, 'w', newline='', encoding='utf-8') as csv_file:\n",
    "                csv_writer = csv.writer(csv_file)\n",
    "\n",
    "                # Write each row from the tab-delimited file to the CSV file\n",
    "                for row in tsv_reader:\n",
    "                    csv_writer.writerow(row)\n",
    "\n",
    "        print(f\"File converted successfully and saved as {output_file_path}\")\n",
    "\n",
    "    except Exception as e:\n",
    "        print(f\"Error converting file: {e}\")\n",
    "\n",
    "# Example usage:\n",
    "input_file_path = orig_file         # Replace with the path of your downloaded tab-delimited file\n",
    "output_file_path = orig_file + '.csv'  # The path for the resulting CSV file\n",
    "convert_tab_delimited_to_csv(input_file_path, output_file_path)"
   ]
  },
  {
   "cell_type": "code",
   "execution_count": null,
   "id": "4ee12a93-d1ea-432e-9e82-c98a2d05e75c",
   "metadata": {},
   "outputs": [],
   "source": []
  }
 ],
 "metadata": {
  "kernelspec": {
   "display_name": "Python 3 (ipykernel)",
   "language": "python",
   "name": "python3"
  },
  "language_info": {
   "codemirror_mode": {
    "name": "ipython",
    "version": 3
   },
   "file_extension": ".py",
   "mimetype": "text/x-python",
   "name": "python",
   "nbconvert_exporter": "python",
   "pygments_lexer": "ipython3",
   "version": "3.13.0"
  }
 },
 "nbformat": 4,
 "nbformat_minor": 5
}
