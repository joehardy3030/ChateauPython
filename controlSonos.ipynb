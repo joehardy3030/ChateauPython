{
 "cells": [
  {
   "cell_type": "code",
   "execution_count": 1,
   "id": "1d40c34c-704a-4695-af37-bbdf35387b33",
   "metadata": {},
   "outputs": [],
   "source": [
    "import soco\n",
    "import os\n",
    "import socket"
   ]
  },
  {
   "cell_type": "code",
   "execution_count": 2,
   "id": "5843d442-6f64-4eec-b149-660ac8f913d6",
   "metadata": {},
   "outputs": [],
   "source": [
    "devices = soco.discover()"
   ]
  },
  {
   "cell_type": "code",
   "execution_count": 3,
   "id": "b09a05cc-18e1-4bdf-9992-61f2feccc4f6",
   "metadata": {},
   "outputs": [
    {
     "data": {
      "text/plain": [
       "{SoCo(\"192.168.0.175\"),\n",
       " SoCo(\"192.168.0.31\"),\n",
       " SoCo(\"192.168.0.81\"),\n",
       " SoCo(\"192.168.0.84\")}"
      ]
     },
     "execution_count": 3,
     "metadata": {},
     "output_type": "execute_result"
    }
   ],
   "source": [
    "devices"
   ]
  },
  {
   "cell_type": "code",
   "execution_count": null,
   "id": "5d8fbe68-b04d-4fc7-9f20-65f0f007f385",
   "metadata": {},
   "outputs": [],
   "source": [
    "def get_local_ip():\n",
    "    # Retrieve the local IP address of your computer\n",
    "    s = socket.socket(socket.AF_INET, socket.SOCK_DGRAM)\n",
    "    try:\n",
    "        # Connect to an external address\n",
    "        s.connect((\"8.8.8.8\", 80))\n",
    "        ip = s.getsockname()[0]\n",
    "    finally:\n",
    "        s.close()\n",
    "    return ip"
   ]
  },
  {
   "cell_type": "code",
   "execution_count": 4,
   "id": "c69637c5-1095-45e1-b9b2-65c6360c0038",
   "metadata": {},
   "outputs": [
    {
     "name": "stdout",
     "output_type": "stream",
     "text": [
      "Attempting to play: http://192.168.0.49:8000/downloads/gd1977-05-09.mtx.seamons.98168.flac16/gd77-05-09d2t02.mp3 on Sonos device: Tool Room\n",
      "Playing downloads/gd1977-05-09.mtx.seamons.98168.flac16/gd77-05-09d2t02.mp3 on Tool Room (Group Coordinator)\n"
     ]
    }
   ],
   "source": [
    "def play_on_sonos(file_name, port=8000):\n",
    "    # Discover Sonos devices\n",
    "    devices = soco.discover()\n",
    "    if not devices:\n",
    "        print(\"No Sonos devices found.\")\n",
    "        return\n",
    "\n",
    "    # Use the first available Sonos device to determine the group\n",
    "    any_device = devices.pop()\n",
    "\n",
    "    # Get the coordinator for the group\n",
    "    group = any_device.group\n",
    "    coordinator = group.coordinator\n",
    "\n",
    "    # Use local IP address for constructing the URL\n",
    "    local_ip = get_local_ip()\n",
    "    file_url = f'http://{local_ip}:{port}/{file_name}'\n",
    "\n",
    "    # Play the URI on the group coordinator\n",
    "    try:\n",
    "        print(f\"Attempting to play: {file_url} on Sonos device: {coordinator.player_name}\")\n",
    "        coordinator.play_uri(file_url)\n",
    "        print(f\"Playing {file_name} on {coordinator.player_name} (Group Coordinator)\")\n",
    "    except Exception as e:\n",
    "        print(f\"Error playing file on Sonos: {e}\")\n",
    "\n",
    "# Example Usage:\n",
    "# Make sure your HTTP server is serving the file\n",
    "play_on_sonos('downloads/gd1977-05-09.mtx.seamons.98168.flac16/gd77-05-09d2t02.mp3')"
   ]
  },
  {
   "cell_type": "code",
   "execution_count": null,
   "id": "d31ba21d-89fe-4f17-8547-2b5d9cb5cc4c",
   "metadata": {},
   "outputs": [],
   "source": []
  }
 ],
 "metadata": {
  "kernelspec": {
   "display_name": "Python 3 (ipykernel)",
   "language": "python",
   "name": "python3"
  },
  "language_info": {
   "codemirror_mode": {
    "name": "ipython",
    "version": 3
   },
   "file_extension": ".py",
   "mimetype": "text/x-python",
   "name": "python",
   "nbconvert_exporter": "python",
   "pygments_lexer": "ipython3",
   "version": "3.13.0"
  }
 },
 "nbformat": 4,
 "nbformat_minor": 5
}
