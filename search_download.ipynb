{
 "cells": [
  {
   "cell_type": "code",
   "execution_count": 11,
   "id": "a80c6515-f473-4eff-ad20-7f2e41485407",
   "metadata": {},
   "outputs": [],
   "source": [
    "from ia_download import download_show\n",
    "from ia_search import SearchTermsModel\n",
    "from ia_search import perform_archive_search"
   ]
  },
  {
   "cell_type": "code",
   "execution_count": 17,
   "id": "961e3183-e0f6-4fa8-9708-f999b780290c",
   "metadata": {},
   "outputs": [],
   "source": [
    "collections = [\"GratefulDead\",\"PhilLeshandFriends\"] "
   ]
  },
  {
   "cell_type": "code",
   "execution_count": 20,
   "id": "8009b224-7acf-4e0c-9128-4614f6ede554",
   "metadata": {},
   "outputs": [],
   "source": [
    "search_terms = SearchTermsModel(\n",
    "   # search_term=\"The Other One\",\n",
    "   # venue=None,\n",
    "    #start_year=\"1995\",\n",
    "   # end_year=\"2024\",\n",
    "   # min_rating=\"4.5\",\n",
    "   # sbd_only=True,\n",
    "    collection = collections[1]\n",
    ")"
   ]
  },
  {
   "cell_type": "code",
   "execution_count": 21,
   "id": "f54cd37c-6921-4309-a06b-ba3c1d73c0f7",
   "metadata": {},
   "outputs": [
    {
     "name": "stdout",
     "output_type": "stream",
     "text": [
      "Performing search with query: collection:(GratefulDead AND stream_only) AND \"PhilLeshandFriends\"\n",
      "\n",
      "Found 0 results:\n",
      "\n"
     ]
    }
   ],
   "source": [
    "show_results = perform_archive_search(search_terms)"
   ]
  },
  {
   "cell_type": "code",
   "execution_count": 7,
   "id": "75f2b101-198e-4cc3-bbed-67d9e5ea2493",
   "metadata": {},
   "outputs": [
    {
     "name": "stdout",
     "output_type": "stream",
     "text": [
      "Downloading item with identifier 'gd1982-10-09.sbd.miller.110621.flac16' to /Users/joe/Music/Grateful Dead...\n"
     ]
    }
   ],
   "source": [
    "download_show(\"gd1982-10-09.sbd.miller.110621.flac16\")"
   ]
  },
  {
   "cell_type": "markdown",
   "id": "05519647-3990-4e21-958c-bb0689b8bb43",
   "metadata": {},
   "source": [
    "# Perform search with the provided search terms\n",
    "search_results = archive_search.perform_archive_search(search_terms)\n",
    "\n",
    "# Allow user to select which shows to download\n",
    "selected_identifiers = archive_download.select_identifiers_for_download(search_results)\n",
    "\n",
    "# Download the selected identifiers\n",
    "for identifier in selected_identifiers:\n",
    "    archive_download.download_identifier(identifier)\n"
   ]
  }
 ],
 "metadata": {
  "kernelspec": {
   "display_name": "Python 3 (ipykernel)",
   "language": "python",
   "name": "python3"
  },
  "language_info": {
   "codemirror_mode": {
    "name": "ipython",
    "version": 3
   },
   "file_extension": ".py",
   "mimetype": "text/x-python",
   "name": "python",
   "nbconvert_exporter": "python",
   "pygments_lexer": "ipython3",
   "version": "3.13.0"
  }
 },
 "nbformat": 4,
 "nbformat_minor": 5
}
